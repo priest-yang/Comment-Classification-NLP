{
 "cells": [
  {
   "cell_type": "code",
   "execution_count": 2,
   "metadata": {
    "id": "CFxIFhCvDJUm"
   },
   "outputs": [],
   "source": [
    "import openai\n",
    "import os\n",
    "import pandas as pd\n",
    "import time\n",
    "from tqdm import tqdm\n",
    "import numpy as np\n",
    "import matplotlib.pyplot as plt\n",
    "import seaborn as sns\n",
    "import time\n",
    "from datetime import datetime\n",
    "\n",
    "#from dotenv import load_dotenv, find_dotenv\n",
    "#_ = load_dotenv(find_dotenv()) # read local .env file\n",
    "\n",
    "os.environ['OPENAI_API_KEY'] = \"MY_API_KEY\"\n",
    "openai.api_key = os.environ['OPENAI_API_KEY'] # provide your own api here\n",
    "\n",
    "import warnings\n",
    "warnings.filterwarnings('ignore')"
   ]
  },
  {
   "cell_type": "markdown",
   "metadata": {},
   "source": [
    "# GPT LLM-based sentiment analysis\n",
    "\n",
    "Using GPT API, we are able to extract the given aspects and corresponding sentiments from the given text(comments). During this process, we have to give certain prompts to the GPT API to get the desired output.\n",
    "\n",
    "A ``prompt`` refers to the input or instruction given to the model to generate a response. The prompt essentially sets the context and guides the model's output.\n",
    "\n",
    "We want to detect the following aspects from comments, as shown in the DataFrames below:\n"
   ]
  },
  {
   "cell_type": "code",
   "execution_count": 4,
   "metadata": {},
   "outputs": [
    {
     "data": {
      "text/html": [
       "<div>\n",
       "<style scoped>\n",
       "    .dataframe tbody tr th:only-of-type {\n",
       "        vertical-align: middle;\n",
       "    }\n",
       "\n",
       "    .dataframe tbody tr th {\n",
       "        vertical-align: top;\n",
       "    }\n",
       "\n",
       "    .dataframe thead th {\n",
       "        text-align: right;\n",
       "    }\n",
       "</style>\n",
       "<table border=\"1\" class=\"dataframe\">\n",
       "  <thead>\n",
       "    <tr style=\"text-align: right;\">\n",
       "      <th></th>\n",
       "      <th>Aspect</th>\n",
       "      <th>Definition</th>\n",
       "      <th>Examples</th>\n",
       "    </tr>\n",
       "  </thead>\n",
       "  <tbody>\n",
       "    <tr>\n",
       "      <th>1</th>\n",
       "      <td>accessibility+availability</td>\n",
       "      <td>availability and the ease of reaching and util...</td>\n",
       "      <td>1. Pulled in easily; \\n2. Not accessible to pu...</td>\n",
       "    </tr>\n",
       "    <tr>\n",
       "      <th>2</th>\n",
       "      <td>amenities+location</td>\n",
       "      <td>additional facilities or services provided to ...</td>\n",
       "      <td>1. lots of shops around\\n2. Access to public b...</td>\n",
       "    </tr>\n",
       "    <tr>\n",
       "      <th>3</th>\n",
       "      <td>Compatibility+Connectivity</td>\n",
       "      <td>the ability of an electric vehicle charger to ...</td>\n",
       "      <td>1. Prius compatible, fast charge\\n2. Tesla mod...</td>\n",
       "    </tr>\n",
       "    <tr>\n",
       "      <th>4</th>\n",
       "      <td>charging speed+effIciency</td>\n",
       "      <td>the rate at which the charger replenishes the ...</td>\n",
       "      <td>1. Takes about 40 minutes to be fully charged\\...</td>\n",
       "    </tr>\n",
       "    <tr>\n",
       "      <th>5</th>\n",
       "      <td>reliability+maintenance</td>\n",
       "      <td>consistent performance in providing a dependab...</td>\n",
       "      <td>1. All chargers were working; \\n2. chargers no...</td>\n",
       "    </tr>\n",
       "    <tr>\n",
       "      <th>6</th>\n",
       "      <td>customer service</td>\n",
       "      <td>the provision of timely and efficient assistan...</td>\n",
       "      <td>1. Exceptional service and driver support\\n2. ...</td>\n",
       "    </tr>\n",
       "    <tr>\n",
       "      <th>7</th>\n",
       "      <td>ease of use</td>\n",
       "      <td>the level of convenience, simplicity, and user...</td>\n",
       "      <td>1. Difficult to initiate, but performed well\\n...</td>\n",
       "    </tr>\n",
       "    <tr>\n",
       "      <th>8</th>\n",
       "      <td>payment option</td>\n",
       "      <td>the method or system provided for users to pay...</td>\n",
       "      <td>1. Pay station on ground floor doesn't work; \\...</td>\n",
       "    </tr>\n",
       "    <tr>\n",
       "      <th>9</th>\n",
       "      <td>price+cost</td>\n",
       "      <td>the monetary cost charged for the provision of...</td>\n",
       "      <td>1. had to pay $20 for overnight charge\\n2. cha...</td>\n",
       "    </tr>\n",
       "    <tr>\n",
       "      <th>10</th>\n",
       "      <td>queue/waiting time</td>\n",
       "      <td>the period of time that a driver must wait in ...</td>\n",
       "      <td>1. not have to wait\\n2. longer waiting times o...</td>\n",
       "    </tr>\n",
       "    <tr>\n",
       "      <th>11</th>\n",
       "      <td>safety</td>\n",
       "      <td>Safety at an electric vehicle charging station...</td>\n",
       "      <td>1. Unsafe behavior observed; \\n2. Peace of min...</td>\n",
       "    </tr>\n",
       "    <tr>\n",
       "      <th>12</th>\n",
       "      <td>user interface of charger/ mobile app</td>\n",
       "      <td>the graphical or physical means through which ...</td>\n",
       "      <td>1. Easiest interface out of all stations; \\n2....</td>\n",
       "    </tr>\n",
       "    <tr>\n",
       "      <th>13</th>\n",
       "      <td>Functionality</td>\n",
       "      <td>Functionality refers to comments\\ndescribing w...</td>\n",
       "      <td>general functionality, charger, screen,\\npower...</td>\n",
       "    </tr>\n",
       "    <tr>\n",
       "      <th>14</th>\n",
       "      <td>Range anxiety</td>\n",
       "      <td>Range anxiety refers to comments regarding EV ...</td>\n",
       "      <td>trip, range, location accessibility</td>\n",
       "    </tr>\n",
       "    <tr>\n",
       "      <th>15</th>\n",
       "      <td>Availability</td>\n",
       "      <td>Availability refers to comments concerning whe...</td>\n",
       "      <td>number of stations available, ICE, general\\nco...</td>\n",
       "    </tr>\n",
       "    <tr>\n",
       "      <th>16</th>\n",
       "      <td>Cost</td>\n",
       "      <td>Cost refers to comments about the amount of mo...</td>\n",
       "      <td>parking, charging, payment</td>\n",
       "    </tr>\n",
       "    <tr>\n",
       "      <th>17</th>\n",
       "      <td>User interactions</td>\n",
       "      <td>User interaction refers to comments in which u...</td>\n",
       "      <td>charger etiquette, anticipated time\\navailable...</td>\n",
       "    </tr>\n",
       "    <tr>\n",
       "      <th>18</th>\n",
       "      <td>Location</td>\n",
       "      <td>Location refers to comments about various feat...</td>\n",
       "      <td>general location, directions, staff,\\namenitie...</td>\n",
       "    </tr>\n",
       "    <tr>\n",
       "      <th>19</th>\n",
       "      <td>Service time</td>\n",
       "      <td>The Service time topic refers to comments repo...</td>\n",
       "      <td>charging rate</td>\n",
       "    </tr>\n",
       "    <tr>\n",
       "      <th>20</th>\n",
       "      <td>Dealership</td>\n",
       "      <td>The Dealership topic refers to comments concer...</td>\n",
       "      <td>dealership charging experience, competing\\nbra...</td>\n",
       "    </tr>\n",
       "    <tr>\n",
       "      <th>21</th>\n",
       "      <td>Other</td>\n",
       "      <td>Reviews that do not fall into the previous eig...</td>\n",
       "      <td>general experiences</td>\n",
       "    </tr>\n",
       "  </tbody>\n",
       "</table>\n",
       "</div>"
      ],
      "text/plain": [
       "                                   Aspect  \\\n",
       "1              accessibility+availability   \n",
       "2                      amenities+location   \n",
       "3              Compatibility+Connectivity   \n",
       "4               charging speed+effIciency   \n",
       "5                reliability+maintenance    \n",
       "6                        customer service   \n",
       "7                             ease of use   \n",
       "8                          payment option   \n",
       "9                              price+cost   \n",
       "10                     queue/waiting time   \n",
       "11                                 safety   \n",
       "12  user interface of charger/ mobile app   \n",
       "13                          Functionality   \n",
       "14                          Range anxiety   \n",
       "15                           Availability   \n",
       "16                                   Cost   \n",
       "17                      User interactions   \n",
       "18                               Location   \n",
       "19                           Service time   \n",
       "20                             Dealership   \n",
       "21                                  Other   \n",
       "\n",
       "                                          Definition   \\\n",
       "1   availability and the ease of reaching and util...   \n",
       "2   additional facilities or services provided to ...   \n",
       "3   the ability of an electric vehicle charger to ...   \n",
       "4   the rate at which the charger replenishes the ...   \n",
       "5   consistent performance in providing a dependab...   \n",
       "6   the provision of timely and efficient assistan...   \n",
       "7   the level of convenience, simplicity, and user...   \n",
       "8   the method or system provided for users to pay...   \n",
       "9   the monetary cost charged for the provision of...   \n",
       "10  the period of time that a driver must wait in ...   \n",
       "11  Safety at an electric vehicle charging station...   \n",
       "12  the graphical or physical means through which ...   \n",
       "13  Functionality refers to comments\\ndescribing w...   \n",
       "14  Range anxiety refers to comments regarding EV ...   \n",
       "15  Availability refers to comments concerning whe...   \n",
       "16  Cost refers to comments about the amount of mo...   \n",
       "17  User interaction refers to comments in which u...   \n",
       "18  Location refers to comments about various feat...   \n",
       "19  The Service time topic refers to comments repo...   \n",
       "20  The Dealership topic refers to comments concer...   \n",
       "21  Reviews that do not fall into the previous eig...   \n",
       "\n",
       "                                             Examples  \n",
       "1   1. Pulled in easily; \\n2. Not accessible to pu...  \n",
       "2   1. lots of shops around\\n2. Access to public b...  \n",
       "3   1. Prius compatible, fast charge\\n2. Tesla mod...  \n",
       "4   1. Takes about 40 minutes to be fully charged\\...  \n",
       "5   1. All chargers were working; \\n2. chargers no...  \n",
       "6   1. Exceptional service and driver support\\n2. ...  \n",
       "7   1. Difficult to initiate, but performed well\\n...  \n",
       "8   1. Pay station on ground floor doesn't work; \\...  \n",
       "9   1. had to pay $20 for overnight charge\\n2. cha...  \n",
       "10  1. not have to wait\\n2. longer waiting times o...  \n",
       "11  1. Unsafe behavior observed; \\n2. Peace of min...  \n",
       "12  1. Easiest interface out of all stations; \\n2....  \n",
       "13  general functionality, charger, screen,\\npower...  \n",
       "14                trip, range, location accessibility  \n",
       "15  number of stations available, ICE, general\\nco...  \n",
       "16                         parking, charging, payment  \n",
       "17  charger etiquette, anticipated time\\navailable...  \n",
       "18  general location, directions, staff,\\namenitie...  \n",
       "19                                      charging rate  \n",
       "20  dealership charging experience, competing\\nbra...  \n",
       "21                                general experiences  "
      ]
     },
     "execution_count": 4,
     "metadata": {},
     "output_type": "execute_result"
    }
   ],
   "source": [
    "aspects = pd.read_csv('../data/Aspect.csv', index_col=0)\n",
    "aspects"
   ]
  },
  {
   "cell_type": "code",
   "execution_count": 5,
   "metadata": {
    "id": "ELQqH3mqEZmB"
   },
   "outputs": [],
   "source": [
    "client = openai.OpenAI()\n",
    "\n",
    "from tenacity import (\n",
    "    retry,\n",
    "    stop_after_attempt,\n",
    "    wait_random_exponential,\n",
    ")  # for exponential backoff\n",
    "\n",
    "def get_completion(prompt, model=\"gpt-3.5-turbo-16k-0613\"):\n",
    "    messages = [{\"role\": \"user\", \"content\": prompt}]\n",
    "    response = client.chat.completions.create(\n",
    "        model=model,\n",
    "        messages=messages,\n",
    "        temperature=0, # this is the degree of randomness of the model's output\n",
    "    )\n",
    "    #print(response.choices[0].message[\"content\"])\n",
    "    print(response.choices[0].message.content)\n",
    "    return response.choices[0].message.content\n",
    "\n",
    "@retry(wait=wait_random_exponential(min=100, max=1000), stop=stop_after_attempt(6))\n",
    "def completion_with_backoff(prompt):\n",
    "    #time.sleep(1)\n",
    "    return get_completion(prompt, model=\"gpt-3.5-turbo-16k-0613\")\n"
   ]
  },
  {
   "cell_type": "code",
   "execution_count": 6,
   "metadata": {
    "colab": {
     "base_uri": "https://localhost:8080/",
     "height": 381
    },
    "id": "uy6m_VBycarf",
    "outputId": "3572b25d-1e3b-4126-db7a-05a409666ead"
   },
   "outputs": [
    {
     "name": "stdout",
     "output_type": "stream",
     "text": [
      "[compatibility and connectivity/Negative/Had trouble connecting initially]\n",
      "[customer service/Positive/They rebooted the machine and it worked just fine after that]\n",
      "[payment Options/Positive/It is a paid service]\n",
      "[amenities and location/Positive/Close to the Papa Murphys Pizza store, walking distance to Target]\n",
      "[accessibility and availability/Positive/Would be accessible at any time day or night]\n",
      "[safety/Positive/Well lit parking lot]\n",
      "[charging speed and efficiency/Positive/one of the better charging stations]\n",
      "[price and cost/Positive/Seems to be cheaper sometimes]\n",
      "[queue and waiting time/Positive/less crowded]\n",
      "[amenities and location/Negative/residential apt complex with a toddler day care in the middle]\n",
      "[compatibility and connectivity/Negative/other chargers with different plug-ins, I’m not sure what kind]\n",
      "[compatibility and connectivity/Negative/Had trouble connecting initially]\n",
      "[customer service/Positive/They rebooted the machine and it worked just fine after that]\n",
      "[payment Options/Positive/It is a paid service]\n",
      "[amenities and location/Positive/Close to the Papa Murphys Pizza store, walking distance to Target]\n",
      "[accessibility and availability/Positive/Would be accessible at any time day or night]\n",
      "[safety/Positive/Well lit parking lot]\n",
      "[charging speed and efficiency/Positive/one of the better charging stations]\n",
      "[price and cost/Positive/Seems to be cheaper sometimes]\n",
      "[queue and waiting time/Positive/less crowded]\n",
      "[amenities and location/Negative/residential apt complex with a toddler day care in the middle]\n",
      "[compatibility and connectivity/Negative/other chargers with different plug-ins, I’m not sure what kind]\n"
     ]
    }
   ],
   "source": [
    "review = \"\"\" Had trouble connecting initially. I called customer service.\n",
    "They rebooted the machine and it worked just fine after that. It is a paid service.\n",
    "Close to the Papa Murphys Pizza store. Uncovered. Would be accessible at any time day or night.\n",
    "Well lit parking lot. This is one of the better charging stations.\n",
    "Seems to be cheaper sometimes n less crowded, maybe? They’re all pretty crowded.\n",
    "But there’s a Target right there, walking distance, so you can shop n charge if you want.\n",
    "This is in a residential apt complex with a toddler day care in the middle of it all, just FYI.\n",
    "There are also other chargers with different plug-ins, I’m not sure what kind, I haven’t checked it out. \"\"\"\n",
    "\n",
    "def get_response(review):\n",
    "  prompt = f\"\"\"\n",
    "  Classify the review and recognize all aspects terms with their corresponding opinion terms and sentiment polarity in [aspect/polarity/summary] format.\n",
    "  Use the aspects provided in the list only ['accessibility and availability', 'amenities and location', 'compatibility and connectivity',\n",
    "  'charging speed and efficiency', 'reliability and maintenance', 'price and cost', 'queue and waiting time', 'customer service',\n",
    "  'ease of use', 'payment Options', 'safety', 'user-interface and mobile app'].\n",
    "\n",
    "Review 1: 16 Tesla superchargers and 4 other ev chargers located in the same parking lot as target, ronin, scissors & scotch, yoga six\n",
    " [amenities and location/Positive/target, ronin, scissors & scotch, yoga six]\n",
    " [accessibility and availability/positive/16 Tesla superchargers and 4 other ev chargers]\n",
    "\n",
    "Review 2: The Tesla Supercharger was fast, convenient, and easy to use! Charging my car was a breeze, and the location was great. Highly recommend for Tesla owners.\n",
    " [ease of use/positive/convenient, and easy to use]\n",
    " [charging speed and efficiency/Positive/fast, Charging my car was a breeze]\n",
    " [amenities and location/Positive/fast, the location was great]\n",
    "\n",
    "Review 3: This is the worst EA charger. It constantly has one or two chargers (out of 3) not working and there are long lines of cars waiting to charge.\n",
    " [reliability and maintenance/Negative/one or two chargers (out of 3) not working]\n",
    " [queue and waiting time/Negative/long lines of cars waiting to charge]\n",
    "\n",
    "Review 4: This charging station is fairly conveniently located. It's within a parking area for Bank of America, but it's not limited to customer parking.\n",
    "This might be a spot where if you wanted to charge and grab a quick bite nearby, you could, but I generally haven't done that myself. This charging station\n",
    "is generally reliable, although I have had issues a few times where I've had to contact customer support to get going — although to be fair, that's not\n",
    "necessarily an issue isolated to this charging station.\n",
    "[amenities and location/Positive/fairly conveniently located]\n",
    "[reliability and maintenance/Positive/generally reliable]\n",
    "[customer service/Positive/contact customer support to get going]\n",
    "\n",
    "Review 5: My very first public charging experience - don't think it could have been any better.\n",
    "I hooked up, it identified my car, knew I had a credit through Ford and away it went. Added about 36%, 100 miles, 27kwh in 25 minutes.\n",
    "Will definitely be back.]\n",
    "[compatibility and connectivity/Positive/I hooked up, it identified my car]\n",
    "[payment Options/Positive/I had a credit through Ford]\n",
    "[charging speed and efficiency/Positive/Added about 36%, 100 miles, 27kwh in 25 minutes]\n",
    "\n",
    "Review 6: Debit and credit cards accepted\n",
    "[payment Options/Positive/Debit and credit cards accepted]\n",
    "\n",
    "Review 7: $0.34 per kwhr as of 9/22/2022, which is one of cheapest rates on the I-95 corridor currently.\n",
    "Only downside is that Cracker Barrel is only food in walking distance, if only want a snack.\n",
    "But plenty empty chargers so should not have idle chargers if want a full meal\n",
    "[price and cost/Positive/$0.34 per kwhr]\n",
    "[amenities and location/Negative/only food in walking distance]\n",
    "[accessibility and availability/Positive/plenty empty chargers]\n",
    "\n",
    "Review 8: Problem is that there are lots of chargers but only one is the Chademo that I need.\n",
    "The Nissan Leaf also takes this connection so I had to wait for 20 minutes for it to be free.\n",
    "Meanwhile there were 20 or so unused chargers available.\n",
    "Maybe better to have a more equal number?  Or even 2 it 3 Chademo?]\n",
    "[accessibility and availability/Negative/only one is the Chademo]\n",
    "[compatibility and connectivity/Negative/takes this connection]\n",
    "[queue and waiting time/Negative/wait for 20 minutes for it to be free]\n",
    "\n",
    "Review 9: Secure with a guard and security gate\n",
    "[safety/Positive/Secure with a guard and security gate]\n",
    "\n",
    "Review 10: eventually I was able to charge with the touchscreen instead of the app\n",
    "[user-interface and mobile app/Positive/able to charge with the touchscreen]\n",
    "\n",
    "Review 11: Fives stars for the combination of 8 supercharger stalls, lots of shops/food options and a bathroom that is open late (walk to the movie theater and keep going past the ticket booth and it will be around the corner to your left).\n",
    "[amenities and location/Positive/lots of shops, food options and a bathroom open late]\n",
    "[accessibility and availability/Positive/8 supercharger stall]\n",
    "\n",
    "Review 12: The chargers are either always in use or have malfunctions. Last time my car only charged for 7 minutes before the charging station said something about a fatal flaw in the charger. I've never had a smooth experience charging my car here.\n",
    "[reliability and maintenance/Negative/have malfunctions]\n",
    "[queue and waiting time/Negative/always in use]\n",
    "\n",
    "Review 13: Always all stations are full there’s 4-5cars waiting in line - not a good spot if you don’t have extra time in hand ( pics are of 2-diff days at diff times) always full\n",
    "[queue and waiting time/Negative/there’s 4-5cars waiting in line]\n",
    "[accessibility and availability/Negative/Always all stations are full]\n",
    "\n",
    "Review 14: They are leaving unattended cars in the charging stalls, this place has 8 stalls and the dealer is taking up 6 of them. Employees unconcerned when this was brought to their attention.\n",
    "[accessibility and availability/Negative/the dealer is taking up 6 of 8]\n",
    "[customer service/Negative/Employees unconcerned when this was brought to their attention]\n",
    "\n",
    "Review 15: This is in the Yale parking garage south of Lomas. The charging is free but the space is not. It also wasn't compatible with my VW e-Golf so pretty pointless for me. It connected but didn't charge, so maybe I'll need to troubleshoot why my car didn't take it.\n",
    "[compatibility and connectivity/Negative/wasn't compatible with my VW e-Golf]\n",
    "[price and cost/Positive/The charging is free but the space is not]\n",
    "\n",
    "Review 16: There are 4 stations and on my 3rd attempt, I got one to work. The next issue is the screen is completely washed out from the sun. I tried to contact customer service and waited on hold for 8 minutes after spending 10 minutes playing musical charge points just. I wouldnt gamble on this station working\n",
    "[reliability and maintenance/Negative/on my 3rd attempt, I got one to work]\n",
    "[user-interface and mobile app/Negative/Screen washed out from sun]\n",
    "\n",
    "[customer service/Negative/customer service wait on hold time too long]\n",
    "\n",
    "Review 17: Good accessibility to food and shops, but charge rage is slow, ~60 kWh, even though only half the spots were being used.\n",
    "[amenities and location/Positive/Good accessibility to food and shops]\n",
    "[charging speed and efficiency/Negative/charge rage is slow]\n",
    "[accessibility and availability/Positive/only half the spots were being used]\n",
    "\n",
    "Review 18: Charged my EV very quick. I was skeptical of it being an actual level 3 charging system with 4 CCS chargers and 2 CHADeMO chargers. Decently priced too...will be back!\n",
    "[charging speed and efficiency/Positive/Charged my EV very quick]\n",
    "[price and cost/Positive/Decently priced]\n",
    "\n",
    "\n",
    "Review 19: Available 24/7, wish there was something nearby to walk to.  Easy to get to. Quiet area.\n",
    "[accessibility and availability/Positive/Available 24/7]\n",
    "[amenities and location/Negative/wish there was something nearby to walk to]\n",
    "[amenities and location/Positive/Quiet area]\n",
    "[ease of use/Positive/Easy to get to]\n",
    "\n",
    "Review 20: I really was impressed with the ease of the process from A to Z and It didn't cost much to charge the battery to 95%\n",
    "[ease of use/Positive/ease of the process]\n",
    "[price and cost/Positive/didn't cost much]\n",
    "  Review text: '''{review}'''\n",
    "  \"\"\"\n",
    "  response = get_completion(prompt)\n",
    "  return response\n",
    "\n",
    "\n",
    "response = get_response(review)\n",
    "print(response)"
   ]
  },
  {
   "cell_type": "markdown",
   "metadata": {},
   "source": [
    "## Whole collection's pipeline (Using Ann Arbor + DTW Dataset as example)"
   ]
  },
  {
   "cell_type": "code",
   "execution_count": 54,
   "metadata": {},
   "outputs": [],
   "source": [
    "df = pd.read_csv(\"../data/Google_Map_review_data_AA_DTW.csv\")\n",
    "df = df.dropna(subset=['text'], how='any')\n",
    "\n",
    "review_data = df\n",
    "review_data['text'] = review_data['text'].str.replace('\\n', ' ')\n",
    "def merge_comments_ratings(df):\n",
    "    return_df = df[['name', 'business_status', 'address', 'types',\n",
    "       'user_ratings_total', '#charging_stations']].drop_duplicates(keep='first')\n",
    "    all_comments = \"\"\n",
    "\n",
    "    for index, row in df.iterrows():\n",
    "        all_comments = all_comments + row['text']\n",
    "\n",
    "    return_df['comments'] = all_comments\n",
    "    return_df['avg_rating'] = df['rating'].mean()\n",
    "    return return_df\n",
    "\n",
    "\n",
    "review_data.dropna(subset=['text'], inplace=True)\n",
    "agged_review = review_data.groupby(by=['lat', 'lng']).\\\n",
    "    apply(merge_comments_ratings).reset_index().drop(columns=['level_2']).\\\n",
    "    rename(columns={'comments': 'text'})"
   ]
  },
  {
   "cell_type": "code",
   "execution_count": 57,
   "metadata": {},
   "outputs": [
    {
     "data": {
      "text/plain": [
       "(98, 10)"
      ]
     },
     "execution_count": 57,
     "metadata": {},
     "output_type": "execute_result"
    }
   ],
   "source": [
    "review = agged_review\n",
    "review.shape"
   ]
  },
  {
   "cell_type": "code",
   "execution_count": 58,
   "metadata": {},
   "outputs": [],
   "source": [
    "def formatted_to_dataframe(string):\n",
    "  lines = string.split(\"\\n\")\n",
    "  data = []\n",
    "\n",
    "  for line in lines:\n",
    "    if len(line) >= 18:\n",
    "      parts = line.split(\"/\")\n",
    "      aspect = parts[0].strip()\n",
    "      polarity = parts[1].strip()\n",
    "      summary = parts[2].strip()\n",
    "      data.append([aspect, polarity, summary])\n",
    "\n",
    "  df = pd.DataFrame(data, columns=[\"Aspect\", \"Polarity\", \"Summary\"])\n",
    "  return df"
   ]
  },
  {
   "cell_type": "code",
   "execution_count": 79,
   "metadata": {},
   "outputs": [
    {
     "name": "stderr",
     "output_type": "stream",
     "text": [
      "  1%|          | 1/98 [00:19<32:12, 19.92s/it]"
     ]
    },
    {
     "name": "stdout",
     "output_type": "stream",
     "text": [
      "[reliability and maintenance/Negative/one station was down]\n",
      "[reliability and maintenance/Negative/half the stations were down]\n",
      "[accessibility and availability/Positive/Good easy location]\n",
      "[charging speed and efficiency/Negative/plugged into the 350kw but really only got 135kw ish]\n",
      "[reliability and maintenance/Negative/They're equipment is often broken]\n",
      "[queue and waiting time/Negative/there's a line of 4 cars waiting to charge]\n",
      "[accessibility and availability/Negative/EA will have 4(2 will be broken, 2 will be in use and there's a line of 4 cars waiting to charge)]\n",
      "[compatibility and connectivity/Negative/Getting the phone app, charger, and car to simultaneously handshake is stupidity difficult]\n",
      "[amenities and location/Positive/Situated at a nice location, has good restaurants and less crowd]\n",
      "[charging speed and efficiency/Positive/350 kwh super chargers and 150 kwh]\n"
     ]
    },
    {
     "name": "stderr",
     "output_type": "stream",
     "text": [
      "  2%|▏         | 2/98 [00:32<25:04, 15.67s/it]"
     ]
    },
    {
     "name": "stdout",
     "output_type": "stream",
     "text": [
      "[amenities and location/Positive/Nice stop with mall shopping steps away, and second mall with a Home Depot just across the street. Several restaurants, too, just a short stroll away]\n",
      "[accessibility and availability/Negative/just three spots]\n",
      "[charging speed and efficiency/Positive/a decent charge]\n",
      "[compatibility and connectivity/Negative/chargers were all functional except for one]\n",
      "[user-interface and mobile app/Negative/App and machine was initially clumsy getting started]\n",
      "[reliability and maintenance/Positive/thing eventually stabilized]\n",
      "[customer service/Positive/I was able to call and report this in]\n",
      "[accessibility and availability/Positive/Stations are always available]\n",
      "[reliability and maintenance/Positive/Never had an issue charging]\n",
      "[amenities and location/Positive/Large parking spots, Located next to Outback Steakhouse]\n",
      "[charging speed and efficiency/Positive/Currently getting 136kW]\n",
      "[user-interface and mobile app/Positive/The app always allows me to initiate the charge]\n",
      "[amenities and location/Positive/There's an Outback and a Panera close by]\n",
      "[amenities and location/Negative/No convenience store for snacks, coffee, or to use the restroom]\n",
      "[reliability and maintenance/Negative/3/4 chargers were broken]\n",
      "sleeping for 13.152596950531006 seconds\n"
     ]
    },
    {
     "name": "stderr",
     "output_type": "stream",
     "text": [
      "  4%|▍         | 4/98 [01:04<22:26, 14.32s/it]"
     ]
    },
    {
     "name": "stdout",
     "output_type": "stream",
     "text": [
      "[compatibility and connectivity/Negative/Could not find the two alleged J1772 chargers]\n",
      "[compatibility and connectivity/Positive/Found the Chedemao and ccs]\n"
     ]
    },
    {
     "name": "stderr",
     "output_type": "stream",
     "text": [
      "  5%|▌         | 5/98 [01:13<19:44, 12.74s/it]"
     ]
    },
    {
     "name": "stdout",
     "output_type": "stream",
     "text": [
      "[amenities and location/Positive/Neon 💚 green posts at the right side of WalMart parking lot, multiple food choices realitively close]\n",
      "[compatibility and connectivity/Positive/Worked on first attempt with app]\n",
      "[charging speed and efficiency/Positive/max charging 114 kW]\n",
      "[price and cost/Positive/acceptable for a 150 kW unit]\n",
      "[accessibility and availability/Positive/Area well lighted]\n",
      "[safety/Positive/Clean and safe place to charge your car]\n",
      "[charging speed and efficiency/Positive/Fast charging rate on new Model 3 (460 mi/hr)]\n",
      "[amenities and location/Positive/clean restroom, convenient lounge area, WiFi, food]\n",
      "[amenities and location/Positive/Close to 81]\n",
      "[charging speed and efficiency/Positive/V3 250kw supercharger]\n",
      "[amenities and location/Positive/Easy on/off I70]\n",
      "[amenities and location/Positive/Well lit, nice neighborhood]\n",
      "[amenities and location/Positive/Hot food]\n",
      "[amenities and location/Positive/Clean bathrooms and a car wash]\n",
      "[amenities and location/Positive/Dunkin’ is around the corner]\n",
      "[amenities and location/Positive/Plenty of open spots for charging]\n",
      "[charging speed and efficiency/Positive/Charged the car fully in 30 minutes]\n",
      "[amenities and location/Positive/We ate at Sheetz while waiting]\n",
      "[amenities and location/Positive/NICe location]\n",
      "[charging speed and efficiency/Positive/The Tesla Supercharger stations are a game-changer for electric car owners]\n",
      "[charging speed and efficiency/Positive/Fast and convenient]\n",
      "[charging speed and efficiency/Positive/seamless charging experience]\n",
      "[charging speed and efficiency/Positive/Great charge (@500 mph) if you can find a spot]\n",
      "[amenities and location/Negative/The locals park their gas powered cars in the Tesla parking spots]\n",
      "[amenities and location/Positive/Close to 81]\n",
      "[amenities and location/Positive/Easy on/off I70]\n",
      "[amenities and location/Positive/Well lit, nice neighborhood]\n",
      "[amenities and location/Positive/Hot food]\n",
      "[amenities and location/Positive/Clean bathrooms and a car wash]\n",
      "[amenities and location/Positive/If you want GOOD food check out Rik’s Cafe]\n",
      "sleeping for 8.135780096054077 seconds\n"
     ]
    },
    {
     "name": "stderr",
     "output_type": "stream",
     "text": [
      "  7%|▋         | 7/98 [02:02<25:54, 17.08s/it]"
     ]
    },
    {
     "name": "stdout",
     "output_type": "stream",
     "text": [
      "[amenities and location/Positive/great spot for a commuter using the public transit]\n"
     ]
    },
    {
     "name": "stderr",
     "output_type": "stream",
     "text": [
      "  8%|▊         | 8/98 [02:16<24:03, 16.04s/it]"
     ]
    },
    {
     "name": "stdout",
     "output_type": "stream",
     "text": [
      "[charging speed and efficiency/Negative/350 kw charge errored out]\n",
      "[charging speed and efficiency/Negative/2 stations weren't functioning at all]\n",
      "[payment Options/Negative/payment function wasn't working with a credit card or through the app]\n",
      "[amenities and location/Positive/quick shopping done at Walmart while the car is charging]\n",
      "[amenities and location/Positive/very convenient]\n",
      "[compatibility and connectivity/Negative/cords aren't very long]\n",
      "[reliability and maintenance/Negative/a few charges were not staying online at the time of use]\n",
      "[customer service/Positive/Electrify America was aware and they helpful with getting the other charger I was using online]\n",
      "[amenities and location/Positive/Convenient tesla superchargers at a Hagerstown MD Sheetz, Sheetz has ready-made salads & sammies, with a nice outdoor patio area in which to enjoy them]\n",
      "[accessibility and availability/Positive/Convenient tesla superchargers at a Hagerstown MD Sheetz]\n",
      "[amenities and location/Negative/Small Sheetz, no other food options nearby]\n",
      "[amenities and location/Positive/Trash bins and window washing squeejees available]\n",
      "[amenities and location/Negative/Not the cleanest Sheetz]\n",
      "[safety/Negative/some random guy got out of his car and started doing push-ups on the ground with his bare hands, It was very intimidating and made us feel very uncomfortable and unsafe, especially when he took his shirt off to do it]\n",
      "[charging speed and efficiency/Positive/Three was used, We was able to get it charged up no problem]\n",
      "[amenities and location/Positive/My dog took a walk]\n",
      "[amenities and location/Positive/Just chilling with us]\n",
      "sleeping for 25.36215877532959 seconds\n"
     ]
    },
    {
     "name": "stderr",
     "output_type": "stream",
     "text": [
      " 10%|█         | 10/98 [03:04<27:08, 18.50s/it]"
     ]
    },
    {
     "name": "stdout",
     "output_type": "stream",
     "text": [
      "[user-interface and mobile app/Negative/The app did not see the station]\n",
      "[customer service/Negative/had to call to get it to charge]\n"
     ]
    },
    {
     "name": "stderr",
     "output_type": "stream",
     "text": [
      " 11%|█         | 11/98 [03:13<22:35, 15.58s/it]"
     ]
    },
    {
     "name": "stdout",
     "output_type": "stream",
     "text": [
      "[accessibility and availability/Positive/Right outside of a mall with food and decent shopping]\n",
      "[amenities and location/Positive/Right outside of a mall with food and decent shopping]\n",
      "[reliability and maintenance/Positive/Reliable fast chargers]\n",
      "[charging speed and efficiency/Positive/Reliable fast chargers]\n",
      "[customer service/Positive/Love it, everything looks great]\n",
      "[price and cost/Positive/Great prices]\n",
      "[accessibility and availability/Positive/Easy access]\n",
      "sleeping for 44.067548990249634 seconds\n"
     ]
    },
    {
     "name": "stderr",
     "output_type": "stream",
     "text": [
      " 13%|█▎        | 13/98 [04:02<25:27, 17.97s/it]"
     ]
    },
    {
     "name": "stdout",
     "output_type": "stream",
     "text": [
      "[reliability and maintenance/Positive/in perfect working order]\n"
     ]
    },
    {
     "name": "stderr",
     "output_type": "stream",
     "text": [
      " 14%|█▍        | 14/98 [04:07<19:56, 14.24s/it]"
     ]
    },
    {
     "name": "stdout",
     "output_type": "stream",
     "text": [
      "[amenities and location/Positive/wonderfully shaded and secluded, clean public restrooms, beautiful park area near by]\n",
      "[reliability and maintenance/Negative/Both are broken]\n",
      "[charging speed and efficiency/Positive/fast and cheap]\n",
      "[customer service/Negative/Both are broken]\n",
      "[reliability and maintenance/Negative/This echo charger needs replaced!! It’s rusted up really bad]\n",
      "[charging speed and efficiency/Negative/slow at 37 kwh]\n",
      "[accessibility and availability/Positive/Easy access]\n",
      "[customer service/Positive/Thank you! It worked!]\n",
      "sleeping for 45.8831946849823 seconds\n"
     ]
    },
    {
     "name": "stderr",
     "output_type": "stream",
     "text": [
      " 16%|█▋        | 16/98 [05:03<26:00, 19.03s/it]"
     ]
    },
    {
     "name": "stdout",
     "output_type": "stream",
     "text": [
      "[reliability and maintenance/Negative/Not working]\n",
      "[charging speed and efficiency/Negative/does not work]\n"
     ]
    },
    {
     "name": "stderr",
     "output_type": "stream",
     "text": [
      " 17%|█▋        | 17/98 [05:07<19:24, 14.38s/it]"
     ]
    },
    {
     "name": "stdout",
     "output_type": "stream",
     "text": [
      "[accessibility and availability/Neutral/In use when we arrived]\n",
      "[customer service/Neutral/How can we find this out ahead of time?]\n",
      "[charging speed and efficiency/Positive/charges fast]\n",
      "[ease of use/Positive/works well and is user friendly]\n",
      "[amenities and location/Positive/Great location for charging the car]\n",
      "sleeping for 48.367127895355225 seconds\n"
     ]
    },
    {
     "name": "stderr",
     "output_type": "stream",
     "text": [
      " 19%|█▉        | 19/98 [06:12<28:41, 21.79s/it]"
     ]
    },
    {
     "name": "stdout",
     "output_type": "stream",
     "text": [
      "[accessibility and availability/Positive/the stations are fully available]\n",
      "[price and cost/Positive/fairly reasonably]\n",
      "[reliability and maintenance/Positive/the stations are functioning appropriately]\n",
      "[amenities and location/Positive/Happy to find this charging location]\n",
      "[customer service/Negative/No public restrooms due to lazy management]\n",
      "[charging speed and efficiency/Positive/Quick and easy charge]\n",
      "[reliability and maintenance/Positive/EV Charging experience is excellent]\n",
      "[accessibility and availability/Negative/They only have one charging station]\n",
      "[compatibility and connectivity/Negative/I don't recommend that location]\n"
     ]
    },
    {
     "name": "stderr",
     "output_type": "stream",
     "text": [
      " 20%|██        | 20/98 [06:18<22:18, 17.16s/it]"
     ]
    },
    {
     "name": "stdout",
     "output_type": "stream",
     "text": [
      "[reliability and maintenance/Negative/Slow charging]\n",
      "[amenities and location/Positive/Great to have at the airport, easy to use]\n",
      "[accessibility and availability/Positive/Great place to charge]\n",
      "[compatibility and connectivity/Positive/Found what i wanted for my project]\n",
      "[charging speed and efficiency/Positive/Charge rate was 49kW on a 350kW charger, Got 119kw speed out of the 350kw charger, Charging speed is around 78 to 200 kw on mache, I'm averaging 100kw and have seen 130]\n",
      "[price and cost/Negative/48 cents per kilowatt is pretty pricey, quite expensive, paid 26 bucks]\n",
      "[accessibility and availability/Positive/Charger worked great, Excellent location well lit, safe and secure, Never find it busy, Still working fairly well]\n",
      "[compatibility and connectivity/Negative/chademo charger is usually broken]\n",
      "[queue and waiting time/Negative/needed to try 5 different stations to find one that works]\n",
      "[safety/Positive/well lit, safe and secure]\n",
      "sleeping for 25.939983129501343 seconds\n"
     ]
    },
    {
     "name": "stderr",
     "output_type": "stream",
     "text": [
      " 22%|██▏       | 22/98 [07:10<25:45, 20.33s/it]"
     ]
    },
    {
     "name": "stdout",
     "output_type": "stream",
     "text": [
      "[charging speed and efficiency/Positive/speeds up to 600mi/hr at 125kw]\n",
      "[amenities and location/Negative/Lights are not turned on at the Meijer parking lot]\n",
      "[safety/Negative/No very safe]\n",
      "[queue and waiting time/Positive/Rarely busy]\n",
      "[reliability and maintenance/Positive/always clean]\n",
      "[charging speed and efficiency/Negative/no charging speed issues]\n"
     ]
    },
    {
     "name": "stderr",
     "output_type": "stream",
     "text": [
      " 23%|██▎       | 23/98 [07:12<18:26, 14.75s/it]"
     ]
    },
    {
     "name": "stdout",
     "output_type": "stream",
     "text": [
      "This review does not contain any aspects or opinion terms.\n",
      "Error occurred: list index out of range\n",
      "[charging speed and efficiency/Negative/First did not work, charge station 1 charges 50kwh and charge station 2 charges 25kwh]\n",
      "[user-interface and mobile app/Negative/app was not working to start charging, had to download an app and put my info on it to use the charging station]\n",
      "[reliability and maintenance/Positive/The screen was scratched but still worked]\n",
      "[accessibility and availability/Positive/Great location]\n",
      "[compatibility and connectivity/Negative/my level 2 charger could not connect here because they have Level 3 or DC fast charge connectors and have not provided Level 2 connectors]\n",
      "sleeping for 34.89876413345337 seconds\n"
     ]
    },
    {
     "name": "stderr",
     "output_type": "stream",
     "text": [
      " 26%|██▌       | 25/98 [08:19<28:10, 23.16s/it]"
     ]
    },
    {
     "name": "stdout",
     "output_type": "stream",
     "text": [
      "[accessibility and availability/Positive/Perfectly situated off of I-94]\n",
      "[charging speed and efficiency/Positive/pretty good charging speeds]\n",
      "[charging speed and efficiency/Positive/440 miles/hour currently]\n",
      "[charging speed and efficiency/Positive/270 on average when charging beyond 40%]\n",
      "[reliability and maintenance/Positive/Reliable]\n",
      "[amenities and location/Positive/could walk to Starbucks to study or go to Meijer for grocery run]\n",
      "[price and cost/Negative/huge price jump]\n",
      "[price and cost/Negative/.53c]\n",
      "[accessibility and availability/Positive/Easily walk to meijer gas station]\n",
      "[charging speed and efficiency/Negative/chargers were slow both times]\n",
      "[accessibility and availability/Positive/Usually has chargers available]\n",
      "[amenities and location/Positive/quick off and on the highway]\n",
      "[amenities and location/Positive/Lots of decent food options and a short walk to Mejier]\n"
     ]
    },
    {
     "name": "stderr",
     "output_type": "stream",
     "text": [
      " 27%|██▋       | 26/98 [08:31<23:37, 19.69s/it]"
     ]
    },
    {
     "name": "stdout",
     "output_type": "stream",
     "text": [
      "[charging speed and efficiency/Positive/Super fast charging! Fills your batteries up very quick]\n",
      "[price and cost/Negative/12 minutes was almost five dollars. Very expense at 35 cents a minute]\n",
      "[ease of use/Positive/Great easy amd fast charger!!! CCS connection and plug n charge with Chevy products]\n",
      "[compatibility and connectivity/Negative/Couldn't get it to charge. Probably need to upgrade this one]\n",
      "[ease of use/Positive/Efficient! Easy to use]\n",
      "[accessibility and availability/Positive/Two Chargepoint stations on the north side of the BP gas station]\n",
      "[price and cost/Positive/Idle fee recently implemented for $10 per hour]\n",
      "[reliability and maintenance/Positive/good because people left their car overtime in the past]\n",
      "sleeping for 23.169227838516235 seconds\n"
     ]
    },
    {
     "name": "stderr",
     "output_type": "stream",
     "text": [
      " 29%|██▊       | 28/98 [09:16<24:12, 20.74s/it]"
     ]
    },
    {
     "name": "stdout",
     "output_type": "stream",
     "text": [
      "[ease of use/Positive/Easy-no touch screens, no credit/debit swipe slots, no buttons, just plug in to yr tesla]\n",
      "[payment Options/Positive/U must have bank card or apple/google pay associated with yr phone for automatic payment]\n",
      "[charging speed and efficiency/Positive/Fast-u get a text when yr charge is near complete]\n",
      "[amenities and location/Positive/Clean, well lit, took about 20 minutes for 50% charge]\n",
      "[price and cost/Positive/Cost $14 bucks]\n",
      "[amenities and location/Negative/Hard to find restrooms at night]\n",
      "[amenities and location/Negative/Burger King closed at 8 pm, Saturday]\n",
      "[amenities and location/Positive/Great new location close to border plaza with stuff in it to get stuff done or kill time]\n",
      "[accessibility and availability/Positive/Lots of places around]\n"
     ]
    },
    {
     "name": "stderr",
     "output_type": "stream",
     "text": [
      " 30%|██▉       | 29/98 [09:19<17:36, 15.31s/it]"
     ]
    },
    {
     "name": "stdout",
     "output_type": "stream",
     "text": [
      "[charging speed and efficiency/Negative/one cut out at 81% charge]\n",
      "[customer service/Negative/not dependable]\n",
      "[charging speed and efficiency/Positive/chargers when working will fill up your car in 1-2 hours]\n",
      "[ease of use/Positive/pretty straightforward]\n",
      "[reliability and maintenance/Negative/not working some times]\n",
      "sleeping for 34.82512879371643 seconds\n"
     ]
    },
    {
     "name": "stderr",
     "output_type": "stream",
     "text": [
      " 32%|███▏      | 31/98 [10:03<18:53, 16.92s/it]"
     ]
    },
    {
     "name": "stdout",
     "output_type": "stream",
     "text": [
      "[reliability and maintenance/Positive/Works great]\n",
      "[reliability and maintenance/Negative/out of service being repaired]\n"
     ]
    },
    {
     "name": "stderr",
     "output_type": "stream",
     "text": [
      " 33%|███▎      | 32/98 [10:12<16:09, 14.69s/it]"
     ]
    },
    {
     "name": "stdout",
     "output_type": "stream",
     "text": [
      "[charging speed and efficiency/Negative/Slow, no fast dc 150kw option]\n",
      "[user-interface and mobile app/Negative/charged for 3 hours even after unplugging]\n",
      "[customer service/Negative/at risk of being overcharged]\n",
      "[accessibility and availability/Positive/Free charge-point charging station right next to Meijer]\n",
      "[charging speed and efficiency/Positive/2 stalls with 30A service]\n",
      "[accessibility and availability/Positive/location is at the center of downtown Ann Arbor]\n",
      "[amenities and location/Positive/can enjoy a lot of local restaurants, cafe, tea house while charging]\n",
      "[charging speed and efficiency/Positive/Fast charging]\n",
      "[amenities and location/Positive/In the parking lot for city hall and the police station]\n",
      "[user-interface and mobile app/Positive/Worked via the app]\n",
      "[charging speed and efficiency/Positive/Charged up to 100%]\n",
      "[safety/Positive/next to a police station, so very safe]\n",
      "[accessibility and availability/Positive/open to the public]\n",
      "sleeping for 35.452484130859375 seconds\n"
     ]
    },
    {
     "name": "stderr",
     "output_type": "stream",
     "text": [
      " 35%|███▍      | 34/98 [11:07<20:44, 19.44s/it]"
     ]
    },
    {
     "name": "stdout",
     "output_type": "stream",
     "text": [
      "[charging speed and efficiency/Positive/Great charging station]\n",
      "[compatibility and connectivity/Positive/four ClipperCreek EVSE - Level 2 J1772 connectors]\n",
      "[accessibility and availability/Positive/Four parking spots]\n",
      "[reliability and maintenance/Positive/charger worked perfectly]\n",
      "[amenities and location/Positive/powered by its own solar canopy]\n"
     ]
    },
    {
     "name": "stderr",
     "output_type": "stream",
     "text": [
      " 36%|███▌      | 35/98 [11:13<16:09, 15.39s/it]"
     ]
    },
    {
     "name": "stdout",
     "output_type": "stream",
     "text": [
      "[reliability and maintenance/Negative/Plug had likely frozen into the port]\n",
      "[customer service/Negative/impossible to get out without calling for help]\n",
      "[compatibility and connectivity/Negative/wary of charging here if I had an EV]\n",
      "[reliability and maintenance/Negative/Both chargers dead during pandemic]\n",
      "[reliability and maintenance/Positive/New chargers installed November 2021]\n",
      "sleeping for 43.150492906570435 seconds\n"
     ]
    },
    {
     "name": "stderr",
     "output_type": "stream",
     "text": [
      " 38%|███▊      | 37/98 [12:02<18:24, 18.10s/it]"
     ]
    },
    {
     "name": "stdout",
     "output_type": "stream",
     "text": [
      "[accessibility and availability/Negative/Unable to find a charging station here at all]\n"
     ]
    },
    {
     "name": "stderr",
     "output_type": "stream",
     "text": [
      " 39%|███▉      | 38/98 [12:05<13:21, 13.35s/it]"
     ]
    },
    {
     "name": "stdout",
     "output_type": "stream",
     "text": [
      "[charging speed and efficiency/Negative/Slow charge rate]\n",
      "[accessibility and availability/Negative/Charger does not exist at this location]\n",
      "[amenities and location/Negative/Apartment parking lot under construction]\n",
      "sleeping for 51.717848777770996 seconds\n"
     ]
    },
    {
     "name": "stderr",
     "output_type": "stream",
     "text": [
      " 41%|████      | 40/98 [13:03<18:24, 19.05s/it]"
     ]
    },
    {
     "name": "stdout",
     "output_type": "stream",
     "text": [
      "[accessibility and availability/Negative/Couldn't find it]\n",
      "[reliability and maintenance/Negative/Frustrating]\n"
     ]
    },
    {
     "name": "stderr",
     "output_type": "stream",
     "text": [
      " 42%|████▏     | 41/98 [13:10<14:51, 15.64s/it]"
     ]
    },
    {
     "name": "stdout",
     "output_type": "stream",
     "text": [
      "[accessibility and availability/Negative/No paint work in asphalt]\n",
      "[amenities and location/Negative/restaurants get busy]\n",
      "[reliability and maintenance/Negative/4 stalls that can access the station it's ~75% occupied by a non-EV vehicle]\n",
      "[safety/Negative/Cops called multiple times (same illegality as parking in handicapped spot)]\n",
      "[amenities and location/Positive/Parking is free & there is 6 ChargePoint stations here, a short walk to East Dearborn]\n",
      "sleeping for 45.62364196777344 seconds\n"
     ]
    },
    {
     "name": "stderr",
     "output_type": "stream",
     "text": [
      " 44%|████▍     | 43/98 [14:09<19:01, 20.75s/it]"
     ]
    },
    {
     "name": "stdout",
     "output_type": "stream",
     "text": [
      "[price and cost/Positive/Cheap]\n",
      "[reliability and maintenance/Positive/reliable]\n",
      "[amenities and location/Positive/great to grab a charge when I invariably get lost within IKEA]\n",
      "[charging speed and efficiency/Positive/charger worked perfectly]\n",
      "[accessibility and availability/Positive/All spaces were available]\n",
      "[ease of use/Positive/Well organized spacious charging port]\n"
     ]
    },
    {
     "name": "stderr",
     "output_type": "stream",
     "text": [
      " 45%|████▍     | 44/98 [14:16<15:00, 16.68s/it]"
     ]
    },
    {
     "name": "stdout",
     "output_type": "stream",
     "text": [
      "[charging speed and efficiency/Negative/The 350 w fast charge has been over 6 weeks]\n",
      "[charging speed and efficiency/Positive/the 150 works great]\n",
      "[accessibility and availability/Negative/350/150 chargers not there, only level two chargers]\n",
      "[reliability and maintenance/Negative/Not functional anymore]\n",
      "[reliability and maintenance/Negative/some broken chargers]\n",
      "[compatibility and connectivity/Positive/the one that fits my car was good to go]\n",
      "[user-interface and mobile app/Negative/the so called touchscreens are almost impossible to tap]\n",
      "[price and cost/Negative/Price was much higher than other chargepoint chargers]\n",
      "[accessibility and availability/Negative/2 chargers were unavailable and 2 were occupied with no one in the cars]\n",
      "sleeping for 33.92075490951538 seconds\n"
     ]
    },
    {
     "name": "stderr",
     "output_type": "stream",
     "text": [
      " 47%|████▋     | 46/98 [15:11<18:04, 20.86s/it]"
     ]
    },
    {
     "name": "stdout",
     "output_type": "stream",
     "text": [
      "[accessibility and availability/Positive/Open 24 hours, Easily accessible and convenient]\n",
      "[amenities and location/Positive/Loads of charging stations, leave your car overnight]\n",
      "[reliability and maintenance/Positive/MGM replaced the old chargers with new Shell Recharge chargers]\n",
      "[charging speed and efficiency/Positive/Around 60% off the old chargers were broken, so really happy to see the new chargers installed]\n",
      "[price and cost/Positive/Charging and parking is still free at this location]\n",
      "[reliability and maintenance/Positive/it looked maintained]\n"
     ]
    },
    {
     "name": "stderr",
     "output_type": "stream",
     "text": [
      " 48%|████▊     | 47/98 [15:18<14:02, 16.53s/it]"
     ]
    },
    {
     "name": "stdout",
     "output_type": "stream",
     "text": [
      "[accessibility and availability/Negative/every station I go to not working]\n",
      "[user-interface and mobile app/Negative/fight with the dam machine for 20 30 mins before I can get it to work]\n",
      "[customer service/Negative/Get it together Chargepoint]\n",
      "[accessibility and availability/Negative/not a public charging station]\n",
      "[safety/Positive/security guard told me it is for employees and visitors of the UAW Center for Human Resources]\n",
      "sleeping for 38.34298920631409 seconds\n"
     ]
    },
    {
     "name": "stderr",
     "output_type": "stream",
     "text": [
      " 50%|█████     | 49/98 [16:09<15:59, 19.58s/it]"
     ]
    },
    {
     "name": "stdout",
     "output_type": "stream",
     "text": [
      "[price and cost/Negative/current pricing is 10 cents/MINUTE]\n",
      "[reliability and maintenance/Negative/worst charger in Detroit, maybe the world]\n",
      "[price and cost/Negative/pricing set absurdly high]\n",
      "[price and cost/Negative/way over priced]\n",
      "[charging speed and efficiency/Negative/payed 14 dollars for 24 miles of range]\n",
      "[price and cost/Negative/cheaper than your charger]\n"
     ]
    },
    {
     "name": "stderr",
     "output_type": "stream",
     "text": [
      " 51%|█████     | 50/98 [16:15<12:36, 15.76s/it]"
     ]
    },
    {
     "name": "stdout",
     "output_type": "stream",
     "text": [
      "[amenities and location/Neutral/The Belle Isle Nature Center's charging station looked impressive]\n",
      "[compatibility and connectivity/Neutral/I didn't use it]\n",
      "[reliability and maintenance/Positive/My Ford Explorer, with 355,000 miles and its dependable combustible engine, enjoyed the visit]\n",
      "[amenities and location/Positive/Nice frogs!]\n",
      "[charging speed and efficiency/Negative/SLOW]\n",
      "[queue and waiting time/Negative/Waist of time]\n",
      "sleeping for 41.75961899757385 seconds\n"
     ]
    },
    {
     "name": "stderr",
     "output_type": "stream",
     "text": [
      " 53%|█████▎    | 52/98 [17:01<13:25, 17.51s/it]"
     ]
    },
    {
     "name": "stdout",
     "output_type": "stream",
     "text": [
      "[accessibility and availability/Negative/not for the public]\n"
     ]
    },
    {
     "name": "stderr",
     "output_type": "stream",
     "text": [
      " 54%|█████▍    | 53/98 [17:10<11:08, 14.85s/it]"
     ]
    },
    {
     "name": "stdout",
     "output_type": "stream",
     "text": [
      "[reliability and maintenance/Negative/Constantly broken]\n",
      "[customer service/Negative/EVGO doesn't seem to care when I call to report]\n",
      "[accessibility and availability/Positive/Currently been broken since 11/18]\n",
      "[compatibility and connectivity/Negative/Never initiates the charge]\n",
      "[user-interface and mobile app/Negative/Always shows Proximity Error 1]\n",
      "[reliability and maintenance/Positive/Consistent charging]\n",
      "[amenities and location/Positive/in a cool building]\n",
      "sleeping for 46.96603989601135 seconds\n"
     ]
    },
    {
     "name": "stderr",
     "output_type": "stream",
     "text": [
      " 56%|█████▌    | 55/98 [18:08<14:28, 20.19s/it]"
     ]
    },
    {
     "name": "stdout",
     "output_type": "stream",
     "text": [
      "[compatibility and connectivity/Negative/Charger number two reacts to the Charge Point registered card but then tells me I have to use an app to start charging]\n",
      "[user-interface and mobile app/Negative/Does not work, even with the app]\n",
      "[compatibility and connectivity/Positive/Charger number one starts a charge just by using the card]\n",
      "[compatibility and connectivity/Positive/worked perfectly without any issues]\n",
      "[charging speed and efficiency/Negative/Takes too long]\n"
     ]
    },
    {
     "name": "stderr",
     "output_type": "stream",
     "text": [
      " 57%|█████▋    | 56/98 [18:25<13:27, 19.23s/it]"
     ]
    },
    {
     "name": "stdout",
     "output_type": "stream",
     "text": [
      "[amenities and location/Positive/Perfect location to recharge and make the last few miles home to Detroit, The food mart had a good selection of snacks and clean updated bathrooms]\n",
      "[price and cost/Positive/Price point is better than most other charging stations]\n",
      "[user-interface and mobile app/Negative/The UI was a pain to use, It took too many tries to stop charging, The screen on charger #2 wasn't sensitive enough to finger or palm touch, It's accuracy needs improvement]\n",
      "[compatibility and connectivity/Positive/make sure that you have a CCS1 charger adapter with you if you are driving a Tesla]\n",
      "[charging speed and efficiency/Positive/DC Fast charging is excellent, $6 gave me 61 additional miles of range on the 2021 Chevy Bolt]\n"
     ]
    },
    {
     "name": "stderr",
     "output_type": "stream",
     "text": [
      " 58%|█████▊    | 57/98 [28:32<2:13:43, 195.70s/it]"
     ]
    },
    {
     "name": "stdout",
     "output_type": "stream",
     "text": [
      "[accessibility and availability/Positive/Located on the northeast side of the parking lot at Meijer]\n",
      "[charging speed and efficiency/Positive/charges faster than some other super charging locations]\n",
      "[amenities and location/Positive/Plenty of spots]\n",
      "[price and cost/Positive/Always appreciate Meijer’s investment in these stations]\n"
     ]
    },
    {
     "name": "stderr",
     "output_type": "stream",
     "text": [
      " 59%|█████▉    | 58/98 [28:42<1:33:13, 139.84s/it]"
     ]
    },
    {
     "name": "stdout",
     "output_type": "stream",
     "text": [
      "[charging speed and efficiency/Positive/pulled down over 100 kW for 15 minutes, one of the best charging experiences]\n",
      "[reliability and maintenance/Negative/super speed charging station is still broken]\n",
      "[charging speed and efficiency/Negative/other 100kw stations don’t even supply over 63kw]\n",
      "[reliability and maintenance/Negative/Kept cutting off after charging like 4%]\n",
      "[reliability and maintenance/Negative/Never works]\n"
     ]
    },
    {
     "name": "stderr",
     "output_type": "stream",
     "text": [
      " 60%|██████    | 59/98 [28:48<1:04:50, 99.76s/it] "
     ]
    },
    {
     "name": "stdout",
     "output_type": "stream",
     "text": [
      "[accessibility and availability/Positive/Chargers are on the ground floor of the garage near the exit]\n",
      "[price and cost/Positive/Charging is free]\n",
      "[amenities and location/Negative/might have to pay to get into the garage]\n",
      "[accessibility and availability/Positive/garage is free on Saturday]\n",
      "[accessibility and availability/Positive/Two ChargePoint Network Level 2 charging stations located in the south east corner of the center parking lot just outside the Bradner Library]\n",
      "[amenities and location/Positive/well signed & each has a reserved parking spot]\n",
      "[payment Options/Positive/no cost to charge]\n",
      "[accessibility and availability/Positive/available 24-7]\n",
      "sleeping for 37.06079888343811 seconds\n"
     ]
    },
    {
     "name": "stderr",
     "output_type": "stream",
     "text": [
      " 62%|██████▏   | 61/98 [29:34<36:14, 58.76s/it]  "
     ]
    },
    {
     "name": "stdout",
     "output_type": "stream",
     "text": [
      "[reliability and maintenance/Negative/Charger were turn off]\n"
     ]
    },
    {
     "name": "stderr",
     "output_type": "stream",
     "text": [
      " 63%|██████▎   | 62/98 [29:46<26:44, 44.58s/it]"
     ]
    },
    {
     "name": "stdout",
     "output_type": "stream",
     "text": [
      "[accessibility and availability/Negative/Not a Tesla destination charger anymore]\n",
      "[charging speed and efficiency/Negative/Very slow]\n",
      "[price and cost/Negative/quite expensive at $0.30/kwh]\n",
      "[compatibility and connectivity/Positive/Offers the Tesla plug and also the standard plug for other electric vehicles]\n",
      "[queue and waiting time/Positive/Users seem to honor limiting their charging time]\n",
      "[reliability and maintenance/Positive/This destination charger saved me today]\n",
      "[amenities and location/Positive/Close to downtown, accessible, & plowed]\n",
      "[customer service/Positive/Awesome community]\n",
      "[ease of use/Negative/a little more complicated than it needs to be]\n",
      "[customer service/Positive/they walked me thru the process]\n",
      "[user-interface and mobile app/Negative/need to download the app]\n",
      "[charging speed and efficiency/Positive/charging was great]\n",
      "[accessibility and availability/Negative/Stations work fine, but they put them so far away from the front door]\n",
      "sleeping for 37.88168406486511 seconds\n"
     ]
    },
    {
     "name": "stderr",
     "output_type": "stream",
     "text": [
      " 65%|██████▌   | 64/98 [30:54<21:39, 38.23s/it]"
     ]
    },
    {
     "name": "stdout",
     "output_type": "stream",
     "text": [
      "[charging speed and efficiency/Positive/Solid 250kwh supercharger station]\n",
      "[amenities and location/Positive/Conveniently located next to the freeway in the parking lot of Meijer grocery store]\n",
      "[amenities and location/Positive/Several restaurants to choose from that's walking distance]\n",
      "[amenities and location/Positive/Plenty of grass for four-legged friends]\n",
      "[amenities and location/Positive/Restrooms inside of Meijer are clean and maintained]\n",
      "[accessibility and availability/Positive/Convenience to Tesla owners]\n",
      "[accessibility and availability/Positive/Available ones are sufficient for most charging needs]\n",
      "[reliability and maintenance/Positive/Satisfactory choice for Tesla drivers seeking a reliable charging solution]\n",
      "[amenities and location/Positive/Proximity to Meijer adds an extra advantage]\n",
      "[price and cost/Positive/$0.20 TOU rate on Saturday morning]\n",
      "[charging speed and efficiency/Positive/Fast, lots of chargers that don’t share power]\n",
      "[amenities and location/Positive/Meijers nearby for snacks and restrooms]\n",
      "[amenities and location/Positive/Good charging site in a safe, well-lit shopping center parking lot]\n"
     ]
    },
    {
     "name": "stderr",
     "output_type": "stream",
     "text": [
      " 66%|██████▋   | 65/98 [31:06<16:38, 30.26s/it]"
     ]
    },
    {
     "name": "stdout",
     "output_type": "stream",
     "text": [
      "[amenities and location/Positive/12 brand new stalls in the parking lot of a Meijer in Detroit, plenty of sit down and fast food restaurants, as well as retail shopping]\n",
      "[accessibility and availability/Positive/first and only supercharger station actually within the City of Detroit]\n",
      "[reliability and maintenance/Negative/Half the stalls don't work]\n",
      "[queue and waiting time/Negative/It's busy though, Don't go at peak times]\n",
      "[customer service/Negative/people that charge trash the place, Tesla drivers PLEASE dont leave your garbage at the supercharger sites]\n",
      "[charging speed and efficiency/Negative/Not a fast charging station]\n",
      "[price and cost/Negative/Cost are very high]\n",
      "[price and cost/Negative/Additional fees and tax added to total cost]\n",
      "sleeping for 21.664953231811523 seconds\n"
     ]
    },
    {
     "name": "stderr",
     "output_type": "stream",
     "text": [
      " 68%|██████▊   | 67/98 [31:42<11:59, 23.21s/it]"
     ]
    },
    {
     "name": "stdout",
     "output_type": "stream",
     "text": [
      "[amenities and location/Positive/Great location]\n",
      "[reliability and maintenance/Positive/no technical issues]\n",
      "[charging speed and efficiency/Positive/125kW was plenty of speed]\n",
      "[safety/Positive/Felt safe]\n",
      "[queue and waiting time/Positive/2.5 hr charge]\n",
      "[user-interface and mobile app/Positive/Flawless]\n",
      "[price and cost/Negative/50 cents a minute added 30 miles for $11]\n"
     ]
    },
    {
     "name": "stderr",
     "output_type": "stream",
     "text": [
      " 69%|██████▉   | 68/98 [31:54<09:52, 19.74s/it]"
     ]
    },
    {
     "name": "stdout",
     "output_type": "stream",
     "text": [
      "[reliability and maintenance/Negative/One charger working put of 4]\n",
      "[compatibility and connectivity/Negative/The two 350w chargers won't recognize my car]\n",
      "[charging speed and efficiency/Positive/charge started slowly ~65 kw, but settled to around 110 kw after a few minutes]\n",
      "[customer service/Negative/support staff are not able to help]\n",
      "[queue and waiting time/Negative/trying 30 mins or so]\n",
      "[ease of use/Positive/Very easy to connect]\n",
      "[price and cost/Negative/Extremely poor customer experience]\n",
      "[charging speed and efficiency/Positive/Super fast charging]\n",
      "[payment Options/Positive/easy payment via app and credit card]\n",
      "[amenities and location/Positive/located at the parking lot of Tim Houton and Shell]\n",
      "[amenities and location/Positive/Starbucks is short walk across a driveway]\n",
      "[accessibility and availability/Positive/always available when I get there]\n",
      "[reliability and maintenance/Negative/Charger broken, not able to charge]\n",
      "[customer service/Negative/Customer service was able to say there was an issue with the charger over the phone]\n",
      "[user-interface and mobile app/Negative/How do these not 1) have a visual lighting cue to tell you it’s out of service 2) remove it from the app or other general EV charger services]\n",
      "[reliability and maintenance/Negative/Charger broken and unavailable for charging]\n",
      "[compatibility and connectivity/Negative/Could not get it going with the touch screen or with the app]\n",
      "[customer service/Negative/Called the service number and they tried multiple resets without it working]\n",
      "[compatibility and connectivity/Negative/I was told I could not charge a Tesla there]\n",
      "[accessibility and availability/Negative/Not enough spots to park More than one vehicle]\n",
      "sleeping for 14.653090000152588 seconds\n"
     ]
    },
    {
     "name": "stderr",
     "output_type": "stream",
     "text": [
      " 71%|███████▏  | 70/98 [32:35<08:39, 18.56s/it]"
     ]
    },
    {
     "name": "stdout",
     "output_type": "stream",
     "text": [
      "This review does not provide enough information to classify and extract aspect terms and opinion terms.\n",
      "Error occurred: list index out of range\n"
     ]
    },
    {
     "name": "stderr",
     "output_type": "stream",
     "text": [
      " 72%|███████▏  | 71/98 [32:39<06:21, 14.14s/it]"
     ]
    },
    {
     "name": "stdout",
     "output_type": "stream",
     "text": [
      "[amenities and location/Positive/4 new charging stations]\n",
      "[accessibility and availability/Positive/able to spend time at the library and charge my car]\n",
      "Error occurred: Error code: 429 - {'error': {'message': 'Rate limit reached for gpt-3.5-turbo-16k-0613 in organization org-UVLtYVQ7VDE2eqa2N04YtLVN on requests per min (RPM): Limit 3, Used 3, Requested 1. Please try again in 20s. Visit https://platform.openai.com/account/rate-limits to learn more. You can increase your rate limit by adding a payment method to your account at https://platform.openai.com/account/billing.', 'type': 'requests', 'param': None, 'code': 'rate_limit_exceeded'}}\n",
      "sleeping for 50.640296936035156 seconds\n"
     ]
    },
    {
     "name": "stderr",
     "output_type": "stream",
     "text": [
      " 74%|███████▍  | 73/98 [33:36<07:58, 19.14s/it]"
     ]
    },
    {
     "name": "stdout",
     "output_type": "stream",
     "text": [
      "[accessibility and availability/Negative/Not a charge point station]\n",
      "[amenities and location/Negative/it's a corporate office]\n"
     ]
    },
    {
     "name": "stderr",
     "output_type": "stream",
     "text": [
      " 76%|███████▌  | 74/98 [33:37<05:33, 13.91s/it]"
     ]
    },
    {
     "name": "stdout",
     "output_type": "stream",
     "text": [
      "[charging speed and efficiency/Negative/Slowest charge ever]\n",
      "[charging speed and efficiency/Positive/updated them with longer cords and faster charging capabilities]\n",
      "[price and cost/Positive/Free fast charging to the end of 2023]\n",
      "[reliability and maintenance/Positive/Nice and clean station and I've used it 5-6 times now no issue]\n",
      "[ease of use/Positive/easy to use]\n",
      "[charging speed and efficiency/Negative/can never get above 70kW current]\n",
      "[price and cost/Negative/the hold amount is ridiculous]\n",
      "[accessibility and availability/Negative/were supposed to be free until 2024, that isn’t the case anymore]\n",
      "[ease of use/Negative/had to lean over my car to swipe]\n",
      "[payment Options/Negative/no receipt]\n",
      "[amenities and location/Positive/Well lit area and very easy to use]\n",
      "[price and cost/Positive/Charged from about 40% up to 77% and it cost just over $15]\n",
      "[user-interface and mobile app/Negative/The Red E app is not great]\n",
      "[charging speed and efficiency/Positive/Two new twin 160 kW chargers with CCS plugs]\n",
      "[price and cost/Positive/Available free for now]\n",
      "sleeping for 34.37799096107483 seconds\n"
     ]
    },
    {
     "name": "stderr",
     "output_type": "stream",
     "text": [
      " 78%|███████▊  | 76/98 [34:40<07:35, 20.68s/it]"
     ]
    },
    {
     "name": "stdout",
     "output_type": "stream",
     "text": [
      "[accessibility and availability/Positive/Free charger, easily accessible]\n",
      "[user-interface and mobile app/Positive/Requires ChargePoint app to use]\n",
      "[price and cost/Positive/fee is $0.00]\n",
      "[reliability and maintenance/Positive/Works well]\n"
     ]
    },
    {
     "name": "stderr",
     "output_type": "stream",
     "text": [
      " 79%|███████▊  | 77/98 [34:47<05:50, 16.70s/it]"
     ]
    },
    {
     "name": "stdout",
     "output_type": "stream",
     "text": [
      "[price and cost/Positive/Free for the first hour]\n",
      "[queue and waiting time/Positive/I DIDN'T HAVE TO WAIT FOR A CHAIR AT ALL]\n",
      "[charging speed and efficiency/Negative/3 level 2 ev stations]\n",
      "[compatibility and connectivity/Negative/use J1772 connector]\n",
      "[amenities and location/Positive/Good location]\n",
      "[price and cost/Negative/ridiculous price for L2 charging]\n",
      "sleeping for 43.226186990737915 seconds\n"
     ]
    },
    {
     "name": "stderr",
     "output_type": "stream",
     "text": [
      " 81%|████████  | 79/98 [35:40<06:20, 20.04s/it]"
     ]
    },
    {
     "name": "stdout",
     "output_type": "stream",
     "text": [
      "[charging speed and efficiency/Positive/Works fast]\n",
      "[price and cost/Negative/Price is extremely high]\n",
      "[accessibility and availability/Negative/Better off charging in home or at Meijer]\n",
      "[amenities and location/Positive/Meijer has the first hour free for level 2]\n",
      "[reliability and maintenance/Positive/the pumps do work]\n",
      "[price and cost/Negative/Out of my price range]\n"
     ]
    },
    {
     "name": "stderr",
     "output_type": "stream",
     "text": [
      " 82%|████████▏ | 80/98 [35:54<05:24, 18.01s/it]"
     ]
    },
    {
     "name": "stdout",
     "output_type": "stream",
     "text": [
      "[charging speed and efficiency/Positive/quicker, more powerful]\n",
      "[price and cost/Positive/cost was reasonable]\n",
      "[accessibility and availability/Positive/conveniently situated near Meijer]\n",
      "[amenities and location/Positive/proximity to Meijer allows for convenient access to amenities]\n",
      "[reliability and maintenance/Positive/reliable charging spot]\n",
      "[price and cost/Positive/charging fees $0.41/kWh]\n",
      "[amenities and location/Positive/restaurant and supercenter store within walking distance]\n",
      "[charging speed and efficiency/Negative/slowing to about 12kw once you get to 80%]\n",
      "[price and cost/Negative/power will cost you about $20 for a full charge]\n",
      "[accessibility and availability/Positive/usually an opening at this location]\n",
      "[reliability and maintenance/Negative/2 out of 4 stations are down]\n",
      "[customer service/Negative/Customer service keeps saying there is a maintenance ticket out there but I haven’t seen anyone came to fix it in the last 1month]\n",
      "[queue and waiting time/Negative/brings you to wait in the queue for the only charger that is working properly]\n",
      "[reliability and maintenance/Positive/They fixed their 2 broken chargers, so now for the first time in a really long time, all 4 are working]\n",
      "[charging speed and efficiency/Negative/Both of the 350kw chargers were only operating at L2 (33kw)]\n",
      "[charging speed and efficiency/Positive/150kw were fine]\n",
      "[payment Options/Negative/A $50 hold will be placed on your card]\n",
      "[payment Options/Positive/EV Go only puts a $5 hold on your card]\n",
      "sleeping for 23.413394927978516 seconds\n"
     ]
    },
    {
     "name": "stderr",
     "output_type": "stream",
     "text": [
      " 84%|████████▎ | 82/98 [36:38<04:56, 18.50s/it]"
     ]
    },
    {
     "name": "stdout",
     "output_type": "stream",
     "text": [
      "[reliability and maintenance/Positive/Chargepoint is reliable]\n",
      "[price and cost/Positive/Modest price for L2 $1/hr]\n",
      "[amenities and location/Positive/Good location with coffee shop, brewery, pizza, Mexican nearby]\n"
     ]
    },
    {
     "name": "stderr",
     "output_type": "stream",
     "text": [
      " 85%|████████▍ | 83/98 [36:56<04:36, 18.45s/it]"
     ]
    },
    {
     "name": "stdout",
     "output_type": "stream",
     "text": [
      "[reliability and maintenance/Negative/both 350s down as of Aug 2023]\n",
      "[payment Options/Negative/would not recognize any method of payment]\n",
      "[customer service/Negative/needed to call to initiate charge]\n",
      "[price and cost/Negative/horrible expensive]\n",
      "[reliability and maintenance/Negative/never works for Tesla]\n",
      "[accessibility and availability/Negative/Don’t go there]\n",
      "[queue and waiting time/Negative/waste your precious time]\n",
      "[charging speed and efficiency/Positive/Got me from 30 miles to 130 in about 40 minutes]\n",
      "[price and cost/Negative/15 dollars]\n",
      "[price and cost/Negative/actual rate is $0.86/hour]\n",
      "[price and cost/Negative/not very nice surprise at the end of charging]\n",
      "[reliability and maintenance/Negative/3 of the four stations currently don’t work]\n",
      "[customer service/Negative/EVgo is easily the worst charging company]\n",
      "[accessibility and availability/Negative/avoid unless it’s an emergency]\n",
      "[accessibility and availability/Positive/One of just a few chargers in biking distance from Proud Lake Recreation Area]\n",
      "[reliability and maintenance/Positive/Reliable ChargePoint network]\n",
      "[charging speed and efficiency/Positive/L2.has always worked for me so far]\n",
      "sleeping for 31.388928174972534 seconds\n"
     ]
    },
    {
     "name": "stderr",
     "output_type": "stream",
     "text": [
      " 87%|████████▋ | 85/98 [37:39<04:02, 18.69s/it]"
     ]
    },
    {
     "name": "stdout",
     "output_type": "stream",
     "text": [
      "[charging speed and efficiency/Negative/slowest level 3]\n",
      "[price and cost/Negative/Pretty expensive]\n",
      "[price and cost/Negative/charged insane rates]\n",
      "[accessibility and availability/Positive/Convenient location]\n",
      "[price and cost/Negative/charger itself is quite expensive]\n",
      "[reliability and maintenance/Negative/charger is not working]\n"
     ]
    },
    {
     "name": "stderr",
     "output_type": "stream",
     "text": [
      " 88%|████████▊ | 86/98 [37:41<02:42, 13.54s/it]"
     ]
    },
    {
     "name": "stdout",
     "output_type": "stream",
     "text": [
      "This review does not mention any specific aspects or opinion terms.\n",
      "Error occurred: list index out of range\n",
      "[price and cost/Negative/prices weren't to bad, charging way too much]\n",
      "[charging speed and efficiency/Positive/never had such an easy experience with a fast charger]\n",
      "[accessibility and availability/Negative/Chargepoint needs to invest in more DCFC stations]\n",
      "[ease of use/Positive/Quick easy charge, not difficult too find]\n",
      "[compatibility and connectivity/Negative/Tesla vehicles cannot be charged here]\n",
      "sleeping for 43.67841815948486 seconds\n"
     ]
    },
    {
     "name": "stderr",
     "output_type": "stream",
     "text": [
      " 90%|████████▉ | 88/98 [38:34<03:00, 18.03s/it]"
     ]
    },
    {
     "name": "stdout",
     "output_type": "stream",
     "text": [
      "This review does not mention any specific aspects or opinion terms.\n",
      "Error occurred: list index out of range\n"
     ]
    },
    {
     "name": "stderr",
     "output_type": "stream",
     "text": [
      " 91%|█████████ | 89/98 [38:39<02:07, 14.20s/it]"
     ]
    },
    {
     "name": "stdout",
     "output_type": "stream",
     "text": [
      "[amenities and location/Positive/Great location]\n",
      "[reliability and maintenance/Negative/always seems to be under maintenance]\n",
      "[reliability and maintenance/Negative/would not charge]\n",
      "[accessibility and availability/Negative/This is not a charging station]\n",
      "[reliability and maintenance/Negative/All now broken]\n",
      "[reliability and maintenance/Negative/One plug has been vandalized]\n",
      "[reliability and maintenance/Negative/other says it has not been at up]\n",
      "[reliability and maintenance/Negative/One of the plugs on one if the stations is broken/ not usable]\n",
      "[reliability and maintenance/Negative/other station has a broken screen]\n",
      "[charging speed and efficiency/Negative/cool but slow]\n",
      "sleeping for 43.6778769493103 seconds\n"
     ]
    },
    {
     "name": "stderr",
     "output_type": "stream",
     "text": [
      " 93%|█████████▎| 91/98 [39:35<02:12, 18.89s/it]"
     ]
    },
    {
     "name": "stdout",
     "output_type": "stream",
     "text": [
      "[amenities and location/Positive/Free Charge while shopping]\n",
      "[customer service/Positive/Service is free]\n"
     ]
    },
    {
     "name": "stderr",
     "output_type": "stream",
     "text": [
      " 94%|█████████▍| 92/98 [39:38<01:24, 14.12s/it]"
     ]
    },
    {
     "name": "stdout",
     "output_type": "stream",
     "text": [
      "[accessibility and availability/Negative/made inaccessible]\n",
      "[amenities and location/Positive/Convenient street parking for EV]\n",
      "[charging speed and efficiency/Negative/doesn't push the car to its max charging curve]\n",
      "[charging speed and efficiency/Positive/Charging process has improved significantly]\n",
      "[charging speed and efficiency/Negative/charging at around 70KwH]\n",
      "[charging speed and efficiency/Negative/Charged at half the speed]\n",
      "[ease of use/Negative/had hard time getting the charge to start]\n",
      "[payment Options/Negative/Does not accept Amex]\n",
      "sleeping for 45.92926597595215 seconds\n"
     ]
    },
    {
     "name": "stderr",
     "output_type": "stream",
     "text": [
      " 96%|█████████▌| 94/98 [40:36<01:17, 19.34s/it]"
     ]
    },
    {
     "name": "stdout",
     "output_type": "stream",
     "text": [
      "[reliability and maintenance/Negative/not reliable]\n",
      "[customer service/Negative/no updates were provided]\n",
      "[charging speed and efficiency/Negative/low power output]\n"
     ]
    },
    {
     "name": "stderr",
     "output_type": "stream",
     "text": [
      " 97%|█████████▋| 95/98 [40:39<00:43, 14.51s/it]"
     ]
    },
    {
     "name": "stdout",
     "output_type": "stream",
     "text": [
      "[price and cost/Positive/Free]\n",
      "[ease of use/Positive/easy to use]\n",
      "[charging speed and efficiency/Positive/charges fast]\n",
      "[amenities and location/Positive/great shape and conveniently located between a giant Meijer and Target]\n",
      "[accessibility and availability/Positive/plenty of stations and often has a few open]\n",
      "[queue and waiting time/Positive/Most of the other tesla drivers seem to be pretty cool]\n",
      "[reliability and maintenance/Negative/Tried 2 chargers when 17deg F, and both were frozen]\n",
      "[customer service/Negative/Not sure how to report this to Tesla]\n",
      "sleeping for 43.77573800086975 seconds\n"
     ]
    },
    {
     "name": "stderr",
     "output_type": "stream",
     "text": [
      " 99%|█████████▉| 97/98 [41:45<00:22, 22.17s/it]"
     ]
    },
    {
     "name": "stdout",
     "output_type": "stream",
     "text": [
      "[reliability and maintenance/Negative/One of the 2 is not charging]\n",
      "[amenities and location/Positive/Good location, gas station, town mart, tim hortons beside]\n",
      "[accessibility and availability/Negative/Would have given 5 stars if both chargers worked]\n",
      "[amenities and location/Positive/very clean and has lots of store options, subway, a salon, a mini mart, beer Wine and Liquor, propane, T-Mobile cards Tim Hortons and of course Gas and Electric fuel]\n",
      "[ease of use/Positive/Great, quick and easy]\n",
      "[charging speed and efficiency/Positive/Level 3 charger]\n",
      "[amenities and location/Positive/Good party store with public restrooms and a Subway restaurant]\n"
     ]
    },
    {
     "name": "stderr",
     "output_type": "stream",
     "text": [
      "100%|██████████| 98/98 [41:54<00:00, 25.66s/it]"
     ]
    },
    {
     "name": "stdout",
     "output_type": "stream",
     "text": [
      "[amenities and location/Positive/Nice location along 69]\n",
      "[accessibility and availability/Negative/One unavailable and one in use]\n",
      "[charging speed and efficiency/Positive/113 kW on my Ioniq 5, worked well]\n",
      "[reliability and maintenance/Positive/The chargers generally work fine]\n",
      "[payment Options/Negative/saying my card was not supported]\n",
      "[user-interface and mobile app/Positive/able to tap my phone to connect the charger to the charge point app with no issues]\n"
     ]
    },
    {
     "name": "stderr",
     "output_type": "stream",
     "text": [
      "\n"
     ]
    }
   ],
   "source": [
    "results = pd.DataFrame(columns=['Aspect', 'Polarity', 'Summary', 'lat', 'lng', 'name', 'business_status', 'address', 'types',\n",
    "       'user_ratings_total', '#charging_stations', 'text', 'avg_rating'])\n",
    "\n",
    "max_iter = 10000\n",
    "\n",
    "for index, row in tqdm(review.iterrows(), total=len(review)):\n",
    "    if index %3 == 0:\n",
    "        start_time = time.time()\n",
    "\n",
    "    \n",
    "    # station_id = row['station_id']\n",
    "    review_text = row['text']\n",
    "    try:\n",
    "        response = get_response(review_text)\n",
    "        if ('No feedback' not in response) and ('no feedback' not in response):\n",
    "            cur_df = formatted_to_dataframe(response)\n",
    "            # cur_df['station_id'] = station_id\n",
    "            expanded_df = pd.concat([row.to_frame().T] * cur_df.shape[0], ignore_index=True)\n",
    "            cur_df = pd.concat([expanded_df, cur_df], axis=1)            \n",
    "            # cur_df = pd.concat([cur_df, review.loc[index, :].to_frame().T], axis=1)\n",
    "            results = pd.concat([results, cur_df], ignore_index=True)\n",
    "\n",
    "        if index%50 == 0:\n",
    "          results.to_csv('../data/GPT_analysis_AA_DTW.csv', index=False)\n",
    "\n",
    "    except Exception as e:\n",
    "        # Handle the specific exception that occurred\n",
    "        print(f\"Error occurred: {e}\")\n",
    "\n",
    "    # sleep, 60s only support 3 queries for free users\n",
    "    # time.sleep(17)\n",
    "    if index %3 == 2:\n",
    "        end_time = time.time()\n",
    "        eval = end_time - start_time\n",
    "        if eval < 60:\n",
    "            print(f\"sleeping for {60-eval} seconds\")\n",
    "            time.sleep(60-eval)\n",
    "\n",
    "    if index == max_iter:\n",
    "        break\n",
    "\n",
    "results['Aspect'] = results['Aspect'].apply(lambda x : x [1:])\n",
    "results.dropna(how='all', axis=1, inplace=True)\n",
    "results.to_csv('../data/GPT_analysis_AA_DTW.csv', index=False)"
   ]
  },
  {
   "cell_type": "code",
   "execution_count": 87,
   "metadata": {},
   "outputs": [],
   "source": [
    "# results.to_csv(f'./data/GPT_analysis{datetime.today().strftime(\"%Y-%m-%d\")}.csv', index=False)"
   ]
  },
  {
   "cell_type": "code",
   "execution_count": 3,
   "metadata": {},
   "outputs": [
    {
     "data": {
      "text/html": [
       "<div>\n",
       "<style scoped>\n",
       "    .dataframe tbody tr th:only-of-type {\n",
       "        vertical-align: middle;\n",
       "    }\n",
       "\n",
       "    .dataframe tbody tr th {\n",
       "        vertical-align: top;\n",
       "    }\n",
       "\n",
       "    .dataframe thead th {\n",
       "        text-align: right;\n",
       "    }\n",
       "</style>\n",
       "<table border=\"1\" class=\"dataframe\">\n",
       "  <thead>\n",
       "    <tr style=\"text-align: right;\">\n",
       "      <th></th>\n",
       "      <th>Aspect</th>\n",
       "      <th>Polarity</th>\n",
       "      <th>Summary</th>\n",
       "      <th>Review</th>\n",
       "      <th>name</th>\n",
       "      <th>business_status</th>\n",
       "      <th>address</th>\n",
       "      <th>lat</th>\n",
       "      <th>lng</th>\n",
       "      <th>types</th>\n",
       "      <th>rating</th>\n",
       "      <th>user_ratings_total</th>\n",
       "      <th>#charging_stations</th>\n",
       "      <th>author_name</th>\n",
       "      <th>author_url</th>\n",
       "      <th>relative_time_description</th>\n",
       "      <th>time</th>\n",
       "      <th>Unnamed: 14</th>\n",
       "    </tr>\n",
       "  </thead>\n",
       "  <tbody>\n",
       "    <tr>\n",
       "      <th>0</th>\n",
       "      <td>[amenities and location</td>\n",
       "      <td>Positive</td>\n",
       "      <td>good location in Walmart parking lot]</td>\n",
       "      <td>Electric Vehicle Charging\\ngood location in Wa...</td>\n",
       "      <td>Electrify America Charging Station</td>\n",
       "      <td>OPERATIONAL</td>\n",
       "      <td>8300 W Overland Rd, Boise, ID 83709, USA</td>\n",
       "      <td>43.59165</td>\n",
       "      <td>-116.283556</td>\n",
       "      <td>point_of_interest, establishment</td>\n",
       "      <td>5</td>\n",
       "      <td>9</td>\n",
       "      <td>5</td>\n",
       "      <td>Anmar Abdullah</td>\n",
       "      <td>https://www.google.com/maps/contrib/1149397606...</td>\n",
       "      <td>7 months ago</td>\n",
       "      <td>9/25/22 21:33</td>\n",
       "      <td>0</td>\n",
       "    </tr>\n",
       "    <tr>\n",
       "      <th>1</th>\n",
       "      <td>[accessibility and availability</td>\n",
       "      <td>Positive</td>\n",
       "      <td>good location in Walmart parking lot]</td>\n",
       "      <td>Electric Vehicle Charging\\ngood location in Wa...</td>\n",
       "      <td>Electrify America Charging Station</td>\n",
       "      <td>OPERATIONAL</td>\n",
       "      <td>8300 W Overland Rd, Boise, ID 83709, USA</td>\n",
       "      <td>43.59165</td>\n",
       "      <td>-116.283556</td>\n",
       "      <td>point_of_interest, establishment</td>\n",
       "      <td>5</td>\n",
       "      <td>9</td>\n",
       "      <td>5</td>\n",
       "      <td>Anmar Abdullah</td>\n",
       "      <td>https://www.google.com/maps/contrib/1149397606...</td>\n",
       "      <td>7 months ago</td>\n",
       "      <td>9/25/22 21:33</td>\n",
       "      <td>0</td>\n",
       "    </tr>\n",
       "    <tr>\n",
       "      <th>2</th>\n",
       "      <td>[price and cost</td>\n",
       "      <td>Negative</td>\n",
       "      <td>a little high]</td>\n",
       "      <td>The rates seem a little high and I often find ...</td>\n",
       "      <td>Electrify America Charging Station</td>\n",
       "      <td>OPERATIONAL</td>\n",
       "      <td>8300 W Overland Rd, Boise, ID 83709, USA</td>\n",
       "      <td>43.59165</td>\n",
       "      <td>-116.283556</td>\n",
       "      <td>point_of_interest, establishment</td>\n",
       "      <td>4</td>\n",
       "      <td>9</td>\n",
       "      <td>5</td>\n",
       "      <td>Space Ghost</td>\n",
       "      <td>https://www.google.com/maps/contrib/1005346496...</td>\n",
       "      <td>4 months ago</td>\n",
       "      <td>1/6/23 2:41</td>\n",
       "      <td>0</td>\n",
       "    </tr>\n",
       "    <tr>\n",
       "      <th>3</th>\n",
       "      <td>[reliability and maintenance</td>\n",
       "      <td>Negative</td>\n",
       "      <td>at least one station out of order or has troub...</td>\n",
       "      <td>The rates seem a little high and I often find ...</td>\n",
       "      <td>Electrify America Charging Station</td>\n",
       "      <td>OPERATIONAL</td>\n",
       "      <td>8300 W Overland Rd, Boise, ID 83709, USA</td>\n",
       "      <td>43.59165</td>\n",
       "      <td>-116.283556</td>\n",
       "      <td>point_of_interest, establishment</td>\n",
       "      <td>4</td>\n",
       "      <td>9</td>\n",
       "      <td>5</td>\n",
       "      <td>Space Ghost</td>\n",
       "      <td>https://www.google.com/maps/contrib/1005346496...</td>\n",
       "      <td>4 months ago</td>\n",
       "      <td>1/6/23 2:41</td>\n",
       "      <td>0</td>\n",
       "    </tr>\n",
       "    <tr>\n",
       "      <th>4</th>\n",
       "      <td>[compatibility and connectivity</td>\n",
       "      <td>Negative</td>\n",
       "      <td>trouble connecting to my vehicle]</td>\n",
       "      <td>The rates seem a little high and I often find ...</td>\n",
       "      <td>Electrify America Charging Station</td>\n",
       "      <td>OPERATIONAL</td>\n",
       "      <td>8300 W Overland Rd, Boise, ID 83709, USA</td>\n",
       "      <td>43.59165</td>\n",
       "      <td>-116.283556</td>\n",
       "      <td>point_of_interest, establishment</td>\n",
       "      <td>4</td>\n",
       "      <td>9</td>\n",
       "      <td>5</td>\n",
       "      <td>Space Ghost</td>\n",
       "      <td>https://www.google.com/maps/contrib/1005346496...</td>\n",
       "      <td>4 months ago</td>\n",
       "      <td>1/6/23 2:41</td>\n",
       "      <td>0</td>\n",
       "    </tr>\n",
       "  </tbody>\n",
       "</table>\n",
       "</div>"
      ],
      "text/plain": [
       "                            Aspect  Polarity  \\\n",
       "0          [amenities and location  Positive   \n",
       "1  [accessibility and availability  Positive   \n",
       "2                  [price and cost  Negative   \n",
       "3     [reliability and maintenance  Negative   \n",
       "4  [compatibility and connectivity  Negative   \n",
       "\n",
       "                                             Summary  \\\n",
       "0              good location in Walmart parking lot]   \n",
       "1              good location in Walmart parking lot]   \n",
       "2                                     a little high]   \n",
       "3  at least one station out of order or has troub...   \n",
       "4                  trouble connecting to my vehicle]   \n",
       "\n",
       "                                              Review  \\\n",
       "0  Electric Vehicle Charging\\ngood location in Wa...   \n",
       "1  Electric Vehicle Charging\\ngood location in Wa...   \n",
       "2  The rates seem a little high and I often find ...   \n",
       "3  The rates seem a little high and I often find ...   \n",
       "4  The rates seem a little high and I often find ...   \n",
       "\n",
       "                                 name business_status  \\\n",
       "0  Electrify America Charging Station     OPERATIONAL   \n",
       "1  Electrify America Charging Station     OPERATIONAL   \n",
       "2  Electrify America Charging Station     OPERATIONAL   \n",
       "3  Electrify America Charging Station     OPERATIONAL   \n",
       "4  Electrify America Charging Station     OPERATIONAL   \n",
       "\n",
       "                                    address       lat         lng  \\\n",
       "0  8300 W Overland Rd, Boise, ID 83709, USA  43.59165 -116.283556   \n",
       "1  8300 W Overland Rd, Boise, ID 83709, USA  43.59165 -116.283556   \n",
       "2  8300 W Overland Rd, Boise, ID 83709, USA  43.59165 -116.283556   \n",
       "3  8300 W Overland Rd, Boise, ID 83709, USA  43.59165 -116.283556   \n",
       "4  8300 W Overland Rd, Boise, ID 83709, USA  43.59165 -116.283556   \n",
       "\n",
       "                              types  rating  user_ratings_total  \\\n",
       "0  point_of_interest, establishment       5                   9   \n",
       "1  point_of_interest, establishment       5                   9   \n",
       "2  point_of_interest, establishment       4                   9   \n",
       "3  point_of_interest, establishment       4                   9   \n",
       "4  point_of_interest, establishment       4                   9   \n",
       "\n",
       "   #charging_stations     author_name  \\\n",
       "0                   5  Anmar Abdullah   \n",
       "1                   5  Anmar Abdullah   \n",
       "2                   5     Space Ghost   \n",
       "3                   5     Space Ghost   \n",
       "4                   5     Space Ghost   \n",
       "\n",
       "                                          author_url  \\\n",
       "0  https://www.google.com/maps/contrib/1149397606...   \n",
       "1  https://www.google.com/maps/contrib/1149397606...   \n",
       "2  https://www.google.com/maps/contrib/1005346496...   \n",
       "3  https://www.google.com/maps/contrib/1005346496...   \n",
       "4  https://www.google.com/maps/contrib/1005346496...   \n",
       "\n",
       "  relative_time_description           time  Unnamed: 14  \n",
       "0              7 months ago  9/25/22 21:33            0  \n",
       "1              7 months ago  9/25/22 21:33            0  \n",
       "2              4 months ago    1/6/23 2:41            0  \n",
       "3              4 months ago    1/6/23 2:41            0  \n",
       "4              4 months ago    1/6/23 2:41            0  "
      ]
     },
     "execution_count": 3,
     "metadata": {},
     "output_type": "execute_result"
    }
   ],
   "source": [
    "results = pd.read_csv(f'data/merged_reviews_and _predicted_dataset.csv')\n",
    "results.head()\n",
    "# results = pd.read_csv(f'./data/GPT_analysis{datetime.today().strftime(\"%Y-%m-%d\")}.csv')"
   ]
  },
  {
   "cell_type": "code",
   "execution_count": null,
   "metadata": {},
   "outputs": [],
   "source": []
  }
 ],
 "metadata": {
  "colab": {
   "provenance": [],
   "toc_visible": true
  },
  "kernelspec": {
   "display_name": "Python 3 (ipykernel)",
   "language": "python",
   "name": "python3"
  },
  "language_info": {
   "codemirror_mode": {
    "name": "ipython",
    "version": 3
   },
   "file_extension": ".py",
   "mimetype": "text/x-python",
   "name": "python",
   "nbconvert_exporter": "python",
   "pygments_lexer": "ipython3",
   "version": "3.11.5"
  }
 },
 "nbformat": 4,
 "nbformat_minor": 1
}
