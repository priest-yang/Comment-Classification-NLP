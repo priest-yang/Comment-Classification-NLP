{
 "cells": [
  {
   "cell_type": "code",
   "execution_count": 95,
   "metadata": {},
   "outputs": [],
   "source": [
    "import numpy as np\n",
    "import torch\n",
    "from torch.utils.data import Dataset, DataLoader\n",
    "\n",
    "np.random.seed(42)\n",
    "import torch\n",
    "import torch.nn as nn\n",
    "import torch.nn.functional as F\n",
    "from torch.nn import init\n",
    "from tqdm.auto import tqdm, trange\n",
    "from collections import Counter\n",
    "import random\n",
    "from torch import optim\n",
    "\n",
    "import pandas as pd\n",
    "import pickle\n",
    "\n",
    "import wandb\n",
    "\n",
    "import numpy as np\n",
    "import matplotlib\n",
    "import matplotlib.pyplot as plt\n",
    "from sklearn.metrics import f1_score\n",
    "import seaborn as sns\n",
    "\n",
    "# Sort of smart tokenization\n",
    "from nltk.tokenize import RegexpTokenizer\n",
    "from gensim import corpora\n",
    "\n",
    "# Attention plotting\n",
    "import matplotlib.pyplot as plt\n",
    "import pickle\n",
    "\n",
    "import os\n",
    "import sys\n",
    "cur_dir = os.path.dirname(os.path.abspath(\"__file__\"))  # Gets the current notebook directory\n",
    "src_dir = os.path.join(cur_dir, '../src')  # Constructs the path to the 'src' directory\n",
    "# Add the 'src' directory to sys.path\n",
    "if src_dir not in sys.path:\n",
    "    sys.path.append(src_dir)\n",
    "\n",
    "from utils import *"
   ]
  },
  {
   "cell_type": "code",
   "execution_count": 3,
   "metadata": {},
   "outputs": [],
   "source": [
    "dictionary = corpora.Dictionary.load('../data/comments.dict')\n",
    "index_to_word = dictionary.id2token\n",
    "word_to_index = dictionary.token2id\n",
    "tokenizer = RegexpTokenizer(r'\\w+')"
   ]
  },
  {
   "cell_type": "code",
   "execution_count": 80,
   "metadata": {},
   "outputs": [],
   "source": [
    "class DocumentAttentionClassifier(nn.Module):\n",
    "    \n",
    "    def __init__(self, vocab_size, num_heads, embeddings_fname, num_classes=24):\n",
    "        '''\n",
    "        Creates the new classifier model. embeddings_fname is a string containing the\n",
    "        filename with the saved pytorch parameters (the state dict) for the Embedding\n",
    "        object that should be used to initialize this class's word Embedding parameters\n",
    "        '''\n",
    "        super(DocumentAttentionClassifier, self).__init__()\n",
    "        \n",
    "        torch.set_default_dtype(torch.float32)  # Set default to float64\n",
    "        \n",
    "        # Save the input arguments to the state\n",
    "        self.vocab_size = vocab_size\n",
    "        self.word_embeddings = torch.load(embeddings_fname)\n",
    "        self.embedding_size = self.word_embeddings.embedding_dim\n",
    "        self.num_heads = num_heads\n",
    "        self.embeddings_fname = embeddings_fname\n",
    "\n",
    "        self.attention = torch.empty((num_heads, self.embedding_size),dtype=torch.float32, requires_grad=True)\n",
    "        torch.nn.init.uniform_(self.attention, a=-0.5, b=0.5)\n",
    "\n",
    "        self.linear = nn.Linear(self.embedding_size * num_heads, num_classes)\n",
    "        self.sigmoid = torch.nn.Sigmoid()\n",
    "\n",
    "        init.normal_(self.linear.weight, mean=0.0, std=1.0)\n",
    "        init.constant_(self.linear.bias, 0.0)\n",
    "        pass\n",
    "    \n",
    "\n",
    "    def forward(self, word_ids):\n",
    "\n",
    "        word_embeddings = self.word_embeddings(word_ids).squeeze(0)\n",
    "\n",
    "        r = torch.einsum('ij,kj->ik', word_embeddings, self.attention)\n",
    "\n",
    "        a = torch.softmax(r, dim=0)      \n",
    "\n",
    "        d = torch.einsum('ij,ik->jk', word_embeddings, a).transpose(0, 1)\n",
    "\n",
    "        d = d.flatten()\n",
    "\n",
    "        output = self.linear(d)\n",
    "        # output = self.sigmoid(output)\n",
    "\n",
    "        return output"
   ]
  },
  {
   "cell_type": "code",
   "execution_count": 37,
   "metadata": {},
   "outputs": [],
   "source": [
    "sent_train_df = pd.read_csv('../data/train.csv', index_col=0)\n",
    "sent_dev_df = pd.read_csv('../data/test.csv', index_col=0)"
   ]
  },
  {
   "cell_type": "code",
   "execution_count": 38,
   "metadata": {},
   "outputs": [],
   "source": [
    "sent_train_df['label'] = sent_train_df.apply(lambda x: np.array(x[2:].values), axis=1)\n",
    "sent_dev_df['label'] = sent_dev_df.apply(lambda x: np.array(x[2:].values), axis=1)"
   ]
  },
  {
   "cell_type": "code",
   "execution_count": 49,
   "metadata": {},
   "outputs": [
    {
     "data": {
      "application/vnd.jupyter.widget-view+json": {
       "model_id": "eaa6c34834114449b47215c410117e47",
       "version_major": 2,
       "version_minor": 0
      },
      "text/plain": [
       "  0%|          | 0/9955 [00:00<?, ?it/s]"
      ]
     },
     "metadata": {},
     "output_type": "display_data"
    },
    {
     "data": {
      "application/vnd.jupyter.widget-view+json": {
       "model_id": "23746bb7f32a415b97869d1970b911fb",
       "version_major": 2,
       "version_minor": 0
      },
      "text/plain": [
       "  0%|          | 0/2489 [00:00<?, ?it/s]"
      ]
     },
     "metadata": {},
     "output_type": "display_data"
    }
   ],
   "source": [
    "train_list = []\n",
    "dev_list = []\n",
    "\n",
    "key = \"Review\"\n",
    "\n",
    "for df in [sent_train_df, sent_dev_df]:\n",
    "    df['text'] = df[key].str.lower()\n",
    "    # if 'label' in df.columns:\n",
    "    #     df['label'] = df['label'].astype(float)\n",
    "    for _, row in tqdm(df.iterrows(), total=len(df)):\n",
    "        word_list = tokenizer.tokenize(row['text'])\n",
    "        index_list = np.array([word_to_index[word] for word in word_list if word in word_to_index])\n",
    "\n",
    "        if df is sent_train_df:\n",
    "            label = row['label'].astype(float)\n",
    "            train_list.append((index_list, label))\n",
    "        elif df is sent_dev_df:\n",
    "            label = row['label'].astype(float)\n",
    "            dev_list.append((index_list, label))\n",
    "    "
   ]
  },
  {
   "cell_type": "code",
   "execution_count": 23,
   "metadata": {},
   "outputs": [
    {
     "data": {
      "text/plain": [
       "(9955, 2489)"
      ]
     },
     "execution_count": 23,
     "metadata": {},
     "output_type": "execute_result"
    }
   ],
   "source": [
    "len(train_list), len(dev_list)"
   ]
  },
  {
   "cell_type": "code",
   "execution_count": 97,
   "metadata": {},
   "outputs": [],
   "source": [
    "batch_size = 1\n",
    "embedding_size = 50\n",
    "learning_rate = 5e-5\n",
    "epochs = 200\n",
    "max_steps = 160000"
   ]
  },
  {
   "cell_type": "code",
   "execution_count": 81,
   "metadata": {},
   "outputs": [],
   "source": [
    "model = DocumentAttentionClassifier(vocab_size=len(word_to_index), num_heads=4, embeddings_fname='../data/embedding_layer.pth', num_classes=train_list[0][1].shape[0])\n",
    "\n",
    "loss_function = nn.CrossEntropyLoss() # Example for a classification task\n",
    "optimizer = optim.AdamW(model.parameters(), lr=learning_rate)  # Adjust learning rate as needed\n",
    "\n",
    "train_dataloader = DataLoader(train_list, batch_size=batch_size, shuffle=True)\n"
   ]
  },
  {
   "cell_type": "code",
   "execution_count": 99,
   "metadata": {},
   "outputs": [],
   "source": [
    "def run_eval(model, eval_data):\n",
    "    '''\n",
    "    Scores the model on the evaluation data and returns the F1\n",
    "    '''\n",
    "    with torch.no_grad():\n",
    "        all_preds = []\n",
    "        all_labels = []\n",
    "        for inputs, label in eval_data:\n",
    "            inputs = torch.tensor(inputs).long()\n",
    "            label = torch.tensor(label).float()\n",
    "            try:\n",
    "                pred= model(inputs)\n",
    "                all_preds.append(pred)\n",
    "                all_labels.append(label)\n",
    "            except:\n",
    "                continue\n",
    "        \n",
    "        te_label = np.array([label.numpy() for label in all_labels])\n",
    "        te_pred = np.array([pred.numpy() for pred in all_preds])\n",
    "        test_metrics = get_modified_evaluation(te_label, te_pred, list_metrics=[\"hamming_loss\"], threshold=0.25) \n",
    "\n",
    "        return test_metrics"
   ]
  },
  {
   "cell_type": "code",
   "execution_count": 101,
   "metadata": {},
   "outputs": [
    {
     "data": {
      "application/vnd.jupyter.widget-view+json": {
       "model_id": "dbdd2f6709e449bd950c1a0c035020f7",
       "version_major": 2,
       "version_minor": 0
      },
      "text/plain": [
       "  0%|          | 0/200 [00:00<?, ?it/s]"
      ]
     },
     "metadata": {},
     "output_type": "display_data"
    },
    {
     "name": "stdout",
     "output_type": "stream",
     "text": [
      "Epoch 0 test metrics: {'hamming_loss': 0.17588124916231068}\n",
      "Epoch 1 test metrics: {'hamming_loss': 0.17206138587320735}\n",
      "Epoch 2 test metrics: {'hamming_loss': 0.1690457043291784}\n",
      "Epoch 3 test metrics: {'hamming_loss': 0.16547714783541081}\n",
      "Epoch 4 test metrics: {'hamming_loss': 0.16021645891971587}\n",
      "Epoch 5 test metrics: {'hamming_loss': 0.15733480766653263}\n",
      "Epoch 6 test metrics: {'hamming_loss': 0.15560916767189384}\n",
      "Epoch 7 test metrics: {'hamming_loss': 0.1515715051601662}\n",
      "Epoch 8 test metrics: {'hamming_loss': 0.15048250904704463}\n",
      "Epoch 9 test metrics: {'hamming_loss': 0.14768462672564}\n",
      "Epoch 10 test metrics: {'hamming_loss': 0.14542286556761827}\n",
      "Epoch 11 test metrics: {'hamming_loss': 0.1426752446052808}\n",
      "Epoch 12 test metrics: {'hamming_loss': 0.14094960461064202}\n"
     ]
    },
    {
     "name": "stderr",
     "output_type": "stream",
     "text": [
      "/Users/shawn/Documents/UMSI/SI630 NLP Algorithm People/Project/notebook/../src/utils.py:29: RuntimeWarning: invalid value encountered in divide\n",
      "  y_pred_normalized = y_prob / np.max(y_prob, axis=1, keepdims=True)\n"
     ]
    },
    {
     "name": "stdout",
     "output_type": "stream",
     "text": [
      "Epoch 13 test metrics: {'hamming_loss': 0.1383862752982174}\n",
      "Epoch 14 test metrics: {'hamming_loss': 0.13580619219943707}\n"
     ]
    },
    {
     "name": "stderr",
     "output_type": "stream",
     "text": [
      "/Users/shawn/Documents/UMSI/SI630 NLP Algorithm People/Project/notebook/../src/utils.py:29: RuntimeWarning: invalid value encountered in divide\n",
      "  y_pred_normalized = y_prob / np.max(y_prob, axis=1, keepdims=True)\n"
     ]
    },
    {
     "name": "stdout",
     "output_type": "stream",
     "text": [
      "Epoch 15 test metrics: {'hamming_loss': 0.1339967832730197}\n"
     ]
    },
    {
     "name": "stderr",
     "output_type": "stream",
     "text": [
      "/Users/shawn/Documents/UMSI/SI630 NLP Algorithm People/Project/notebook/../src/utils.py:29: RuntimeWarning: invalid value encountered in divide\n",
      "  y_pred_normalized = y_prob / np.max(y_prob, axis=1, keepdims=True)\n"
     ]
    },
    {
     "name": "stdout",
     "output_type": "stream",
     "text": [
      "Epoch 16 test metrics: {'hamming_loss': 0.13228789706473662}\n"
     ]
    },
    {
     "name": "stderr",
     "output_type": "stream",
     "text": [
      "/Users/shawn/Documents/UMSI/SI630 NLP Algorithm People/Project/notebook/../src/utils.py:29: RuntimeWarning: invalid value encountered in divide\n",
      "  y_pred_normalized = y_prob / np.max(y_prob, axis=1, keepdims=True)\n"
     ]
    },
    {
     "name": "stdout",
     "output_type": "stream",
     "text": [
      "Epoch 17 test metrics: {'hamming_loss': 0.13067953357458786}\n"
     ]
    },
    {
     "name": "stderr",
     "output_type": "stream",
     "text": [
      "/Users/shawn/Documents/UMSI/SI630 NLP Algorithm People/Project/notebook/../src/utils.py:29: RuntimeWarning: invalid value encountered in divide\n",
      "  y_pred_normalized = y_prob / np.max(y_prob, axis=1, keepdims=True)\n"
     ]
    },
    {
     "name": "stdout",
     "output_type": "stream",
     "text": [
      "Epoch 18 test metrics: {'hamming_loss': 0.12860206406647903}\n"
     ]
    },
    {
     "name": "stderr",
     "output_type": "stream",
     "text": [
      "/Users/shawn/Documents/UMSI/SI630 NLP Algorithm People/Project/notebook/../src/utils.py:29: RuntimeWarning: invalid value encountered in divide\n",
      "  y_pred_normalized = y_prob / np.max(y_prob, axis=1, keepdims=True)\n"
     ]
    },
    {
     "name": "stdout",
     "output_type": "stream",
     "text": [
      "Epoch 19 test metrics: {'hamming_loss': 0.12607224232676584}\n"
     ]
    },
    {
     "name": "stderr",
     "output_type": "stream",
     "text": [
      "/Users/shawn/Documents/UMSI/SI630 NLP Algorithm People/Project/notebook/../src/utils.py:29: RuntimeWarning: invalid value encountered in divide\n",
      "  y_pred_normalized = y_prob / np.max(y_prob, axis=1, keepdims=True)\n"
     ]
    },
    {
     "name": "stdout",
     "output_type": "stream",
     "text": [
      "Epoch 20 test metrics: {'hamming_loss': 0.12439686369119421}\n"
     ]
    },
    {
     "name": "stderr",
     "output_type": "stream",
     "text": [
      "/Users/shawn/Documents/UMSI/SI630 NLP Algorithm People/Project/notebook/../src/utils.py:29: RuntimeWarning: invalid value encountered in divide\n",
      "  y_pred_normalized = y_prob / np.max(y_prob, axis=1, keepdims=True)\n"
     ]
    },
    {
     "name": "stdout",
     "output_type": "stream",
     "text": [
      "Epoch 21 test metrics: {'hamming_loss': 0.12282200777375687}\n"
     ]
    },
    {
     "name": "stderr",
     "output_type": "stream",
     "text": [
      "/Users/shawn/Documents/UMSI/SI630 NLP Algorithm People/Project/notebook/../src/utils.py:29: RuntimeWarning: invalid value encountered in divide\n",
      "  y_pred_normalized = y_prob / np.max(y_prob, axis=1, keepdims=True)\n"
     ]
    },
    {
     "name": "stdout",
     "output_type": "stream",
     "text": [
      "Epoch 22 test metrics: {'hamming_loss': 0.1216157351561453}\n"
     ]
    },
    {
     "name": "stderr",
     "output_type": "stream",
     "text": [
      "/Users/shawn/Documents/UMSI/SI630 NLP Algorithm People/Project/notebook/../src/utils.py:29: RuntimeWarning: invalid value encountered in divide\n",
      "  y_pred_normalized = y_prob / np.max(y_prob, axis=1, keepdims=True)\n"
     ]
    },
    {
     "name": "stdout",
     "output_type": "stream",
     "text": [
      "Epoch 23 test metrics: {'hamming_loss': 0.1196890497252379}\n"
     ]
    },
    {
     "name": "stderr",
     "output_type": "stream",
     "text": [
      "/Users/shawn/Documents/UMSI/SI630 NLP Algorithm People/Project/notebook/../src/utils.py:29: RuntimeWarning: invalid value encountered in divide\n",
      "  y_pred_normalized = y_prob / np.max(y_prob, axis=1, keepdims=True)\n"
     ]
    },
    {
     "name": "stdout",
     "output_type": "stream",
     "text": [
      "Epoch 24 test metrics: {'hamming_loss': 0.1187675914756735}\n"
     ]
    },
    {
     "name": "stderr",
     "output_type": "stream",
     "text": [
      "/Users/shawn/Documents/UMSI/SI630 NLP Algorithm People/Project/notebook/../src/utils.py:29: RuntimeWarning: invalid value encountered in divide\n",
      "  y_pred_normalized = y_prob / np.max(y_prob, axis=1, keepdims=True)\n"
     ]
    },
    {
     "name": "stdout",
     "output_type": "stream",
     "text": [
      "Epoch 25 test metrics: {'hamming_loss': 0.11695818254925613}\n"
     ]
    },
    {
     "name": "stderr",
     "output_type": "stream",
     "text": [
      "/Users/shawn/Documents/UMSI/SI630 NLP Algorithm People/Project/notebook/../src/utils.py:29: RuntimeWarning: invalid value encountered in divide\n",
      "  y_pred_normalized = y_prob / np.max(y_prob, axis=1, keepdims=True)\n"
     ]
    },
    {
     "name": "stdout",
     "output_type": "stream",
     "text": [
      "Epoch 26 test metrics: {'hamming_loss': 0.1152995577000402}\n"
     ]
    },
    {
     "name": "stderr",
     "output_type": "stream",
     "text": [
      "/Users/shawn/Documents/UMSI/SI630 NLP Algorithm People/Project/notebook/../src/utils.py:29: RuntimeWarning: invalid value encountered in divide\n",
      "  y_pred_normalized = y_prob / np.max(y_prob, axis=1, keepdims=True)\n"
     ]
    },
    {
     "name": "stdout",
     "output_type": "stream",
     "text": [
      "Epoch 27 test metrics: {'hamming_loss': 0.1132388419782871}\n"
     ]
    },
    {
     "name": "stderr",
     "output_type": "stream",
     "text": [
      "/Users/shawn/Documents/UMSI/SI630 NLP Algorithm People/Project/notebook/../src/utils.py:29: RuntimeWarning: invalid value encountered in divide\n",
      "  y_pred_normalized = y_prob / np.max(y_prob, axis=1, keepdims=True)\n"
     ]
    },
    {
     "name": "stdout",
     "output_type": "stream",
     "text": [
      "Epoch 28 test metrics: {'hamming_loss': 0.11270272081490416}\n"
     ]
    },
    {
     "name": "stderr",
     "output_type": "stream",
     "text": [
      "/Users/shawn/Documents/UMSI/SI630 NLP Algorithm People/Project/notebook/../src/utils.py:29: RuntimeWarning: invalid value encountered in divide\n",
      "  y_pred_normalized = y_prob / np.max(y_prob, axis=1, keepdims=True)\n"
     ]
    },
    {
     "name": "stdout",
     "output_type": "stream",
     "text": [
      "Epoch 29 test metrics: {'hamming_loss': 0.11114461868382254}\n"
     ]
    },
    {
     "name": "stderr",
     "output_type": "stream",
     "text": [
      "/Users/shawn/Documents/UMSI/SI630 NLP Algorithm People/Project/notebook/../src/utils.py:29: RuntimeWarning: invalid value encountered in divide\n",
      "  y_pred_normalized = y_prob / np.max(y_prob, axis=1, keepdims=True)\n"
     ]
    },
    {
     "name": "stdout",
     "output_type": "stream",
     "text": [
      "Epoch 30 test metrics: {'hamming_loss': 0.10970379305723094}\n"
     ]
    },
    {
     "name": "stderr",
     "output_type": "stream",
     "text": [
      "/Users/shawn/Documents/UMSI/SI630 NLP Algorithm People/Project/notebook/../src/utils.py:29: RuntimeWarning: invalid value encountered in divide\n",
      "  y_pred_normalized = y_prob / np.max(y_prob, axis=1, keepdims=True)\n"
     ]
    },
    {
     "name": "stdout",
     "output_type": "stream",
     "text": [
      "Epoch 31 test metrics: {'hamming_loss': 0.10821270607157217}\n"
     ]
    },
    {
     "name": "stderr",
     "output_type": "stream",
     "text": [
      "/Users/shawn/Documents/UMSI/SI630 NLP Algorithm People/Project/notebook/../src/utils.py:29: RuntimeWarning: invalid value encountered in divide\n",
      "  y_pred_normalized = y_prob / np.max(y_prob, axis=1, keepdims=True)\n"
     ]
    },
    {
     "name": "stdout",
     "output_type": "stream",
     "text": [
      "Epoch 32 test metrics: {'hamming_loss': 0.10749229325827638}\n"
     ]
    },
    {
     "name": "stderr",
     "output_type": "stream",
     "text": [
      "/Users/shawn/Documents/UMSI/SI630 NLP Algorithm People/Project/notebook/../src/utils.py:29: RuntimeWarning: invalid value encountered in divide\n",
      "  y_pred_normalized = y_prob / np.max(y_prob, axis=1, keepdims=True)\n"
     ]
    },
    {
     "name": "stdout",
     "output_type": "stream",
     "text": [
      "Epoch 33 test metrics: {'hamming_loss': 0.1065038198632891}\n"
     ]
    },
    {
     "name": "stderr",
     "output_type": "stream",
     "text": [
      "/Users/shawn/Documents/UMSI/SI630 NLP Algorithm People/Project/notebook/../src/utils.py:29: RuntimeWarning: invalid value encountered in divide\n",
      "  y_pred_normalized = y_prob / np.max(y_prob, axis=1, keepdims=True)\n"
     ]
    },
    {
     "name": "stdout",
     "output_type": "stream",
     "text": [
      "Epoch 34 test metrics: {'hamming_loss': 0.10581691462270473}\n"
     ]
    },
    {
     "name": "stderr",
     "output_type": "stream",
     "text": [
      "/Users/shawn/Documents/UMSI/SI630 NLP Algorithm People/Project/notebook/../src/utils.py:29: RuntimeWarning: invalid value encountered in divide\n",
      "  y_pred_normalized = y_prob / np.max(y_prob, axis=1, keepdims=True)\n"
     ]
    },
    {
     "name": "stdout",
     "output_type": "stream",
     "text": [
      "Epoch 35 test metrics: {'hamming_loss': 0.10471116472322745}\n"
     ]
    },
    {
     "name": "stderr",
     "output_type": "stream",
     "text": [
      "/Users/shawn/Documents/UMSI/SI630 NLP Algorithm People/Project/notebook/../src/utils.py:29: RuntimeWarning: invalid value encountered in divide\n",
      "  y_pred_normalized = y_prob / np.max(y_prob, axis=1, keepdims=True)\n"
     ]
    },
    {
     "name": "stdout",
     "output_type": "stream",
     "text": [
      "Epoch 36 test metrics: {'hamming_loss': 0.10318657016485726}\n"
     ]
    },
    {
     "name": "stderr",
     "output_type": "stream",
     "text": [
      "/Users/shawn/Documents/UMSI/SI630 NLP Algorithm People/Project/notebook/../src/utils.py:29: RuntimeWarning: invalid value encountered in divide\n",
      "  y_pred_normalized = y_prob / np.max(y_prob, axis=1, keepdims=True)\n"
     ]
    },
    {
     "name": "stdout",
     "output_type": "stream",
     "text": [
      "Epoch 37 test metrics: {'hamming_loss': 0.10260018764240718}\n"
     ]
    },
    {
     "name": "stderr",
     "output_type": "stream",
     "text": [
      "/Users/shawn/Documents/UMSI/SI630 NLP Algorithm People/Project/notebook/../src/utils.py:29: RuntimeWarning: invalid value encountered in divide\n",
      "  y_pred_normalized = y_prob / np.max(y_prob, axis=1, keepdims=True)\n"
     ]
    },
    {
     "name": "stdout",
     "output_type": "stream",
     "text": [
      "Epoch 38 test metrics: {'hamming_loss': 0.1013939150247956}\n"
     ]
    },
    {
     "name": "stderr",
     "output_type": "stream",
     "text": [
      "/Users/shawn/Documents/UMSI/SI630 NLP Algorithm People/Project/notebook/../src/utils.py:29: RuntimeWarning: invalid value encountered in divide\n",
      "  y_pred_normalized = y_prob / np.max(y_prob, axis=1, keepdims=True)\n"
     ]
    },
    {
     "name": "stdout",
     "output_type": "stream",
     "text": [
      "Epoch 39 test metrics: {'hamming_loss': 0.10048921056158693}\n"
     ]
    },
    {
     "name": "stderr",
     "output_type": "stream",
     "text": [
      "/Users/shawn/Documents/UMSI/SI630 NLP Algorithm People/Project/notebook/../src/utils.py:29: RuntimeWarning: invalid value encountered in divide\n",
      "  y_pred_normalized = y_prob / np.max(y_prob, axis=1, keepdims=True)\n"
     ]
    },
    {
     "name": "stdout",
     "output_type": "stream",
     "text": [
      "Epoch 40 test metrics: {'hamming_loss': 0.09963476745744539}\n"
     ]
    },
    {
     "name": "stderr",
     "output_type": "stream",
     "text": [
      "/Users/shawn/Documents/UMSI/SI630 NLP Algorithm People/Project/notebook/../src/utils.py:29: RuntimeWarning: invalid value encountered in divide\n",
      "  y_pred_normalized = y_prob / np.max(y_prob, axis=1, keepdims=True)\n"
     ]
    },
    {
     "name": "stdout",
     "output_type": "stream",
     "text": [
      "Epoch 41 test metrics: {'hamming_loss': 0.0990316311486396}\n"
     ]
    },
    {
     "name": "stderr",
     "output_type": "stream",
     "text": [
      "/Users/shawn/Documents/UMSI/SI630 NLP Algorithm People/Project/notebook/../src/utils.py:29: RuntimeWarning: invalid value encountered in divide\n",
      "  y_pred_normalized = y_prob / np.max(y_prob, axis=1, keepdims=True)\n"
     ]
    },
    {
     "name": "stdout",
     "output_type": "stream",
     "text": [
      "Epoch 42 test metrics: {'hamming_loss': 0.09879707813965956}\n"
     ]
    },
    {
     "name": "stderr",
     "output_type": "stream",
     "text": [
      "/Users/shawn/Documents/UMSI/SI630 NLP Algorithm People/Project/notebook/../src/utils.py:29: RuntimeWarning: invalid value encountered in divide\n",
      "  y_pred_normalized = y_prob / np.max(y_prob, axis=1, keepdims=True)\n"
     ]
    },
    {
     "name": "stdout",
     "output_type": "stream",
     "text": [
      "Epoch 43 test metrics: {'hamming_loss': 0.09802640396729662}\n"
     ]
    },
    {
     "name": "stderr",
     "output_type": "stream",
     "text": [
      "/Users/shawn/Documents/UMSI/SI630 NLP Algorithm People/Project/notebook/../src/utils.py:29: RuntimeWarning: invalid value encountered in divide\n",
      "  y_pred_normalized = y_prob / np.max(y_prob, axis=1, keepdims=True)\n"
     ]
    },
    {
     "name": "stdout",
     "output_type": "stream",
     "text": [
      "Epoch 44 test metrics: {'hamming_loss': 0.09722222222222222}\n"
     ]
    },
    {
     "name": "stderr",
     "output_type": "stream",
     "text": [
      "/Users/shawn/Documents/UMSI/SI630 NLP Algorithm People/Project/notebook/../src/utils.py:29: RuntimeWarning: invalid value encountered in divide\n",
      "  y_pred_normalized = y_prob / np.max(y_prob, axis=1, keepdims=True)\n"
     ]
    },
    {
     "name": "stdout",
     "output_type": "stream",
     "text": [
      "Epoch 45 test metrics: {'hamming_loss': 0.09747352901755797}\n"
     ]
    },
    {
     "name": "stderr",
     "output_type": "stream",
     "text": [
      "/Users/shawn/Documents/UMSI/SI630 NLP Algorithm People/Project/notebook/../src/utils.py:29: RuntimeWarning: invalid value encountered in divide\n",
      "  y_pred_normalized = y_prob / np.max(y_prob, axis=1, keepdims=True)\n"
     ]
    },
    {
     "name": "stdout",
     "output_type": "stream",
     "text": [
      "Epoch 46 test metrics: {'hamming_loss': 0.0964850556225707}\n"
     ]
    },
    {
     "name": "stderr",
     "output_type": "stream",
     "text": [
      "/Users/shawn/Documents/UMSI/SI630 NLP Algorithm People/Project/notebook/../src/utils.py:29: RuntimeWarning: invalid value encountered in divide\n",
      "  y_pred_normalized = y_prob / np.max(y_prob, axis=1, keepdims=True)\n"
     ]
    },
    {
     "name": "stdout",
     "output_type": "stream",
     "text": [
      "Epoch 47 test metrics: {'hamming_loss': 0.09561385873207345}\n"
     ]
    },
    {
     "name": "stderr",
     "output_type": "stream",
     "text": [
      "/Users/shawn/Documents/UMSI/SI630 NLP Algorithm People/Project/notebook/../src/utils.py:29: RuntimeWarning: invalid value encountered in divide\n",
      "  y_pred_normalized = y_prob / np.max(y_prob, axis=1, keepdims=True)\n"
     ]
    },
    {
     "name": "stdout",
     "output_type": "stream",
     "text": [
      "Epoch 48 test metrics: {'hamming_loss': 0.09522852164589198}\n"
     ]
    },
    {
     "name": "stderr",
     "output_type": "stream",
     "text": [
      "/Users/shawn/Documents/UMSI/SI630 NLP Algorithm People/Project/notebook/../src/utils.py:29: RuntimeWarning: invalid value encountered in divide\n",
      "  y_pred_normalized = y_prob / np.max(y_prob, axis=1, keepdims=True)\n"
     ]
    },
    {
     "name": "stdout",
     "output_type": "stream",
     "text": [
      "Epoch 49 test metrics: {'hamming_loss': 0.09465889290979762}\n"
     ]
    },
    {
     "name": "stderr",
     "output_type": "stream",
     "text": [
      "/Users/shawn/Documents/UMSI/SI630 NLP Algorithm People/Project/notebook/../src/utils.py:29: RuntimeWarning: invalid value encountered in divide\n",
      "  y_pred_normalized = y_prob / np.max(y_prob, axis=1, keepdims=True)\n"
     ]
    },
    {
     "name": "stdout",
     "output_type": "stream",
     "text": [
      "Epoch 50 test metrics: {'hamming_loss': 0.09373743466023321}\n"
     ]
    },
    {
     "name": "stderr",
     "output_type": "stream",
     "text": [
      "/Users/shawn/Documents/UMSI/SI630 NLP Algorithm People/Project/notebook/../src/utils.py:29: RuntimeWarning: invalid value encountered in divide\n",
      "  y_pred_normalized = y_prob / np.max(y_prob, axis=1, keepdims=True)\n"
     ]
    },
    {
     "name": "stdout",
     "output_type": "stream",
     "text": [
      "Epoch 51 test metrics: {'hamming_loss': 0.09328508242862887}\n"
     ]
    },
    {
     "name": "stderr",
     "output_type": "stream",
     "text": [
      "/Users/shawn/Documents/UMSI/SI630 NLP Algorithm People/Project/notebook/../src/utils.py:29: RuntimeWarning: invalid value encountered in divide\n",
      "  y_pred_normalized = y_prob / np.max(y_prob, axis=1, keepdims=True)\n"
     ]
    },
    {
     "name": "stdout",
     "output_type": "stream",
     "text": [
      "Epoch 52 test metrics: {'hamming_loss': 0.09305052941964884}\n"
     ]
    },
    {
     "name": "stderr",
     "output_type": "stream",
     "text": [
      "/Users/shawn/Documents/UMSI/SI630 NLP Algorithm People/Project/notebook/../src/utils.py:29: RuntimeWarning: invalid value encountered in divide\n",
      "  y_pred_normalized = y_prob / np.max(y_prob, axis=1, keepdims=True)\n"
     ]
    },
    {
     "name": "stdout",
     "output_type": "stream",
     "text": [
      "Epoch 53 test metrics: {'hamming_loss': 0.09194477952017156}\n"
     ]
    },
    {
     "name": "stderr",
     "output_type": "stream",
     "text": [
      "/Users/shawn/Documents/UMSI/SI630 NLP Algorithm People/Project/notebook/../src/utils.py:29: RuntimeWarning: invalid value encountered in divide\n",
      "  y_pred_normalized = y_prob / np.max(y_prob, axis=1, keepdims=True)\n"
     ]
    },
    {
     "name": "stdout",
     "output_type": "stream",
     "text": [
      "Epoch 54 test metrics: {'hamming_loss': 0.09167671893848009}\n"
     ]
    },
    {
     "name": "stderr",
     "output_type": "stream",
     "text": [
      "/Users/shawn/Documents/UMSI/SI630 NLP Algorithm People/Project/notebook/../src/utils.py:29: RuntimeWarning: invalid value encountered in divide\n",
      "  y_pred_normalized = y_prob / np.max(y_prob, axis=1, keepdims=True)\n"
     ]
    },
    {
     "name": "stdout",
     "output_type": "stream",
     "text": [
      "Epoch 55 test metrics: {'hamming_loss': 0.09109033641603002}\n"
     ]
    },
    {
     "name": "stderr",
     "output_type": "stream",
     "text": [
      "/Users/shawn/Documents/UMSI/SI630 NLP Algorithm People/Project/notebook/../src/utils.py:29: RuntimeWarning: invalid value encountered in divide\n",
      "  y_pred_normalized = y_prob / np.max(y_prob, axis=1, keepdims=True)\n"
     ]
    },
    {
     "name": "stdout",
     "output_type": "stream",
     "text": [
      "Epoch 56 test metrics: {'hamming_loss': 0.09092279855247286}\n"
     ]
    },
    {
     "name": "stderr",
     "output_type": "stream",
     "text": [
      "/Users/shawn/Documents/UMSI/SI630 NLP Algorithm People/Project/notebook/../src/utils.py:29: RuntimeWarning: invalid value encountered in divide\n",
      "  y_pred_normalized = y_prob / np.max(y_prob, axis=1, keepdims=True)\n"
     ]
    },
    {
     "name": "stdout",
     "output_type": "stream",
     "text": [
      "Epoch 57 test metrics: {'hamming_loss': 0.09057096903900282}\n"
     ]
    },
    {
     "name": "stderr",
     "output_type": "stream",
     "text": [
      "/Users/shawn/Documents/UMSI/SI630 NLP Algorithm People/Project/notebook/../src/utils.py:29: RuntimeWarning: invalid value encountered in divide\n",
      "  y_pred_normalized = y_prob / np.max(y_prob, axis=1, keepdims=True)\n"
     ]
    },
    {
     "name": "stdout",
     "output_type": "stream",
     "text": [
      "Epoch 58 test metrics: {'hamming_loss': 0.09001809408926417}\n"
     ]
    },
    {
     "name": "stderr",
     "output_type": "stream",
     "text": [
      "/Users/shawn/Documents/UMSI/SI630 NLP Algorithm People/Project/notebook/../src/utils.py:29: RuntimeWarning: invalid value encountered in divide\n",
      "  y_pred_normalized = y_prob / np.max(y_prob, axis=1, keepdims=True)\n"
     ]
    },
    {
     "name": "stdout",
     "output_type": "stream",
     "text": [
      "Epoch 59 test metrics: {'hamming_loss': 0.09006835544833132}\n"
     ]
    },
    {
     "name": "stderr",
     "output_type": "stream",
     "text": [
      "/Users/shawn/Documents/UMSI/SI630 NLP Algorithm People/Project/notebook/../src/utils.py:29: RuntimeWarning: invalid value encountered in divide\n",
      "  y_pred_normalized = y_prob / np.max(y_prob, axis=1, keepdims=True)\n"
     ]
    },
    {
     "name": "stdout",
     "output_type": "stream",
     "text": [
      "Epoch 60 test metrics: {'hamming_loss': 0.08958249564401555}\n"
     ]
    },
    {
     "name": "stderr",
     "output_type": "stream",
     "text": [
      "/Users/shawn/Documents/UMSI/SI630 NLP Algorithm People/Project/notebook/../src/utils.py:29: RuntimeWarning: invalid value encountered in divide\n",
      "  y_pred_normalized = y_prob / np.max(y_prob, axis=1, keepdims=True)\n"
     ]
    },
    {
     "name": "stdout",
     "output_type": "stream",
     "text": [
      "Epoch 61 test metrics: {'hamming_loss': 0.08961600321672698}\n"
     ]
    },
    {
     "name": "stderr",
     "output_type": "stream",
     "text": [
      "/Users/shawn/Documents/UMSI/SI630 NLP Algorithm People/Project/notebook/../src/utils.py:29: RuntimeWarning: invalid value encountered in divide\n",
      "  y_pred_normalized = y_prob / np.max(y_prob, axis=1, keepdims=True)\n"
     ]
    },
    {
     "name": "stdout",
     "output_type": "stream",
     "text": [
      "Epoch 62 test metrics: {'hamming_loss': 0.08941495778045838}\n"
     ]
    },
    {
     "name": "stderr",
     "output_type": "stream",
     "text": [
      "/Users/shawn/Documents/UMSI/SI630 NLP Algorithm People/Project/notebook/../src/utils.py:29: RuntimeWarning: invalid value encountered in divide\n",
      "  y_pred_normalized = y_prob / np.max(y_prob, axis=1, keepdims=True)\n"
     ]
    },
    {
     "name": "stdout",
     "output_type": "stream",
     "text": [
      "Epoch 63 test metrics: {'hamming_loss': 0.08904637448063263}\n"
     ]
    },
    {
     "name": "stderr",
     "output_type": "stream",
     "text": [
      "/Users/shawn/Documents/UMSI/SI630 NLP Algorithm People/Project/notebook/../src/utils.py:29: RuntimeWarning: invalid value encountered in divide\n",
      "  y_pred_normalized = y_prob / np.max(y_prob, axis=1, keepdims=True)\n"
     ]
    },
    {
     "name": "stdout",
     "output_type": "stream",
     "text": [
      "Epoch 64 test metrics: {'hamming_loss': 0.08867779118080686}\n"
     ]
    },
    {
     "name": "stderr",
     "output_type": "stream",
     "text": [
      "/Users/shawn/Documents/UMSI/SI630 NLP Algorithm People/Project/notebook/../src/utils.py:29: RuntimeWarning: invalid value encountered in divide\n",
      "  y_pred_normalized = y_prob / np.max(y_prob, axis=1, keepdims=True)\n"
     ]
    },
    {
     "name": "stdout",
     "output_type": "stream",
     "text": [
      "Epoch 65 test metrics: {'hamming_loss': 0.0882086851628468}\n"
     ]
    },
    {
     "name": "stderr",
     "output_type": "stream",
     "text": [
      "/Users/shawn/Documents/UMSI/SI630 NLP Algorithm People/Project/notebook/../src/utils.py:29: RuntimeWarning: invalid value encountered in divide\n",
      "  y_pred_normalized = y_prob / np.max(y_prob, axis=1, keepdims=True)\n"
     ]
    },
    {
     "name": "stdout",
     "output_type": "stream",
     "text": [
      "Epoch 66 test metrics: {'hamming_loss': 0.0884097305991154}\n"
     ]
    },
    {
     "name": "stderr",
     "output_type": "stream",
     "text": [
      "/Users/shawn/Documents/UMSI/SI630 NLP Algorithm People/Project/notebook/../src/utils.py:29: RuntimeWarning: invalid value encountered in divide\n",
      "  y_pred_normalized = y_prob / np.max(y_prob, axis=1, keepdims=True)\n"
     ]
    },
    {
     "name": "stdout",
     "output_type": "stream",
     "text": [
      "Epoch 67 test metrics: {'hamming_loss': 0.0884097305991154}\n"
     ]
    },
    {
     "name": "stderr",
     "output_type": "stream",
     "text": [
      "/Users/shawn/Documents/UMSI/SI630 NLP Algorithm People/Project/notebook/../src/utils.py:29: RuntimeWarning: invalid value encountered in divide\n",
      "  y_pred_normalized = y_prob / np.max(y_prob, axis=1, keepdims=True)\n"
     ]
    },
    {
     "name": "stdout",
     "output_type": "stream",
     "text": [
      "Epoch 68 test metrics: {'hamming_loss': 0.08815842380377965}\n"
     ]
    },
    {
     "name": "stderr",
     "output_type": "stream",
     "text": [
      "/Users/shawn/Documents/UMSI/SI630 NLP Algorithm People/Project/notebook/../src/utils.py:29: RuntimeWarning: invalid value encountered in divide\n",
      "  y_pred_normalized = y_prob / np.max(y_prob, axis=1, keepdims=True)\n"
     ]
    },
    {
     "name": "stdout",
     "output_type": "stream",
     "text": [
      "Epoch 69 test metrics: {'hamming_loss': 0.08784010186302105}\n"
     ]
    },
    {
     "name": "stderr",
     "output_type": "stream",
     "text": [
      "/Users/shawn/Documents/UMSI/SI630 NLP Algorithm People/Project/notebook/../src/utils.py:29: RuntimeWarning: invalid value encountered in divide\n",
      "  y_pred_normalized = y_prob / np.max(y_prob, axis=1, keepdims=True)\n"
     ]
    },
    {
     "name": "stdout",
     "output_type": "stream",
     "text": [
      "Epoch 70 test metrics: {'hamming_loss': 0.08770607157217532}\n"
     ]
    },
    {
     "name": "stderr",
     "output_type": "stream",
     "text": [
      "/Users/shawn/Documents/UMSI/SI630 NLP Algorithm People/Project/notebook/../src/utils.py:29: RuntimeWarning: invalid value encountered in divide\n",
      "  y_pred_normalized = y_prob / np.max(y_prob, axis=1, keepdims=True)\n"
     ]
    },
    {
     "name": "stdout",
     "output_type": "stream",
     "text": [
      "Epoch 71 test metrics: {'hamming_loss': 0.08735424205870526}\n"
     ]
    },
    {
     "name": "stderr",
     "output_type": "stream",
     "text": [
      "/Users/shawn/Documents/UMSI/SI630 NLP Algorithm People/Project/notebook/../src/utils.py:29: RuntimeWarning: invalid value encountered in divide\n",
      "  y_pred_normalized = y_prob / np.max(y_prob, axis=1, keepdims=True)\n"
     ]
    },
    {
     "name": "stdout",
     "output_type": "stream",
     "text": [
      "Epoch 72 test metrics: {'hamming_loss': 0.08765581021310816}\n"
     ]
    },
    {
     "name": "stderr",
     "output_type": "stream",
     "text": [
      "/Users/shawn/Documents/UMSI/SI630 NLP Algorithm People/Project/notebook/../src/utils.py:29: RuntimeWarning: invalid value encountered in divide\n",
      "  y_pred_normalized = y_prob / np.max(y_prob, axis=1, keepdims=True)\n"
     ]
    },
    {
     "name": "stdout",
     "output_type": "stream",
     "text": [
      "Epoch 73 test metrics: {'hamming_loss': 0.08742125720412813}\n"
     ]
    },
    {
     "name": "stderr",
     "output_type": "stream",
     "text": [
      "/Users/shawn/Documents/UMSI/SI630 NLP Algorithm People/Project/notebook/../src/utils.py:29: RuntimeWarning: invalid value encountered in divide\n",
      "  y_pred_normalized = y_prob / np.max(y_prob, axis=1, keepdims=True)\n"
     ]
    },
    {
     "name": "stdout",
     "output_type": "stream",
     "text": [
      "Epoch 74 test metrics: {'hamming_loss': 0.08733748827234955}\n"
     ]
    },
    {
     "name": "stderr",
     "output_type": "stream",
     "text": [
      "/Users/shawn/Documents/UMSI/SI630 NLP Algorithm People/Project/notebook/../src/utils.py:29: RuntimeWarning: invalid value encountered in divide\n",
      "  y_pred_normalized = y_prob / np.max(y_prob, axis=1, keepdims=True)\n"
     ]
    },
    {
     "name": "stdout",
     "output_type": "stream",
     "text": [
      "Epoch 75 test metrics: {'hamming_loss': 0.08740450341777242}\n"
     ]
    },
    {
     "name": "stderr",
     "output_type": "stream",
     "text": [
      "/Users/shawn/Documents/UMSI/SI630 NLP Algorithm People/Project/notebook/../src/utils.py:29: RuntimeWarning: invalid value encountered in divide\n",
      "  y_pred_normalized = y_prob / np.max(y_prob, axis=1, keepdims=True)\n"
     ]
    },
    {
     "name": "stdout",
     "output_type": "stream",
     "text": [
      "Epoch 76 test metrics: {'hamming_loss': 0.08710293526336953}\n"
     ]
    },
    {
     "name": "stderr",
     "output_type": "stream",
     "text": [
      "/Users/shawn/Documents/UMSI/SI630 NLP Algorithm People/Project/notebook/../src/utils.py:29: RuntimeWarning: invalid value encountered in divide\n",
      "  y_pred_normalized = y_prob / np.max(y_prob, axis=1, keepdims=True)\n"
     ]
    },
    {
     "name": "stdout",
     "output_type": "stream",
     "text": [
      "Epoch 77 test metrics: {'hamming_loss': 0.08695215118616807}\n"
     ]
    },
    {
     "name": "stderr",
     "output_type": "stream",
     "text": [
      "/Users/shawn/Documents/UMSI/SI630 NLP Algorithm People/Project/notebook/../src/utils.py:29: RuntimeWarning: invalid value encountered in divide\n",
      "  y_pred_normalized = y_prob / np.max(y_prob, axis=1, keepdims=True)\n"
     ]
    },
    {
     "name": "stdout",
     "output_type": "stream",
     "text": [
      "Epoch 78 test metrics: {'hamming_loss': 0.08665058303176518}\n"
     ]
    },
    {
     "name": "stderr",
     "output_type": "stream",
     "text": [
      "/Users/shawn/Documents/UMSI/SI630 NLP Algorithm People/Project/notebook/../src/utils.py:29: RuntimeWarning: invalid value encountered in divide\n",
      "  y_pred_normalized = y_prob / np.max(y_prob, axis=1, keepdims=True)\n"
     ]
    },
    {
     "name": "stdout",
     "output_type": "stream",
     "text": [
      "Epoch 79 test metrics: {'hamming_loss': 0.08671759817718805}\n"
     ]
    },
    {
     "name": "stderr",
     "output_type": "stream",
     "text": [
      "/Users/shawn/Documents/UMSI/SI630 NLP Algorithm People/Project/notebook/../src/utils.py:29: RuntimeWarning: invalid value encountered in divide\n",
      "  y_pred_normalized = y_prob / np.max(y_prob, axis=1, keepdims=True)\n"
     ]
    },
    {
     "name": "stdout",
     "output_type": "stream",
     "text": [
      "Epoch 80 test metrics: {'hamming_loss': 0.08660032167269803}\n"
     ]
    },
    {
     "name": "stderr",
     "output_type": "stream",
     "text": [
      "/Users/shawn/Documents/UMSI/SI630 NLP Algorithm People/Project/notebook/../src/utils.py:29: RuntimeWarning: invalid value encountered in divide\n",
      "  y_pred_normalized = y_prob / np.max(y_prob, axis=1, keepdims=True)\n"
     ]
    },
    {
     "name": "stdout",
     "output_type": "stream",
     "text": [
      "Epoch 81 test metrics: {'hamming_loss': 0.086365768663718}\n"
     ]
    },
    {
     "name": "stderr",
     "output_type": "stream",
     "text": [
      "/Users/shawn/Documents/UMSI/SI630 NLP Algorithm People/Project/notebook/../src/utils.py:29: RuntimeWarning: invalid value encountered in divide\n",
      "  y_pred_normalized = y_prob / np.max(y_prob, axis=1, keepdims=True)\n"
     ]
    },
    {
     "name": "stdout",
     "output_type": "stream",
     "text": [
      "Epoch 82 test metrics: {'hamming_loss': 0.08634901487736228}\n"
     ]
    },
    {
     "name": "stderr",
     "output_type": "stream",
     "text": [
      "/Users/shawn/Documents/UMSI/SI630 NLP Algorithm People/Project/notebook/../src/utils.py:29: RuntimeWarning: invalid value encountered in divide\n",
      "  y_pred_normalized = y_prob / np.max(y_prob, axis=1, keepdims=True)\n"
     ]
    },
    {
     "name": "stdout",
     "output_type": "stream",
     "text": [
      "Epoch 83 test metrics: {'hamming_loss': 0.0864662913818523}\n"
     ]
    },
    {
     "name": "stderr",
     "output_type": "stream",
     "text": [
      "/Users/shawn/Documents/UMSI/SI630 NLP Algorithm People/Project/notebook/../src/utils.py:29: RuntimeWarning: invalid value encountered in divide\n",
      "  y_pred_normalized = y_prob / np.max(y_prob, axis=1, keepdims=True)\n"
     ]
    },
    {
     "name": "stdout",
     "output_type": "stream",
     "text": [
      "Epoch 84 test metrics: {'hamming_loss': 0.0859636777911808}\n"
     ]
    },
    {
     "name": "stderr",
     "output_type": "stream",
     "text": [
      "/Users/shawn/Documents/UMSI/SI630 NLP Algorithm People/Project/notebook/../src/utils.py:29: RuntimeWarning: invalid value encountered in divide\n",
      "  y_pred_normalized = y_prob / np.max(y_prob, axis=1, keepdims=True)\n"
     ]
    },
    {
     "name": "stdout",
     "output_type": "stream",
     "text": [
      "Epoch 85 test metrics: {'hamming_loss': 0.08598043157753653}\n"
     ]
    },
    {
     "name": "stderr",
     "output_type": "stream",
     "text": [
      "/Users/shawn/Documents/UMSI/SI630 NLP Algorithm People/Project/notebook/../src/utils.py:29: RuntimeWarning: invalid value encountered in divide\n",
      "  y_pred_normalized = y_prob / np.max(y_prob, axis=1, keepdims=True)\n"
     ]
    },
    {
     "name": "stdout",
     "output_type": "stream",
     "text": [
      "Epoch 86 test metrics: {'hamming_loss': 0.08609770808202653}\n"
     ]
    },
    {
     "name": "stderr",
     "output_type": "stream",
     "text": [
      "/Users/shawn/Documents/UMSI/SI630 NLP Algorithm People/Project/notebook/../src/utils.py:29: RuntimeWarning: invalid value encountered in divide\n",
      "  y_pred_normalized = y_prob / np.max(y_prob, axis=1, keepdims=True)\n"
     ]
    },
    {
     "name": "stdout",
     "output_type": "stream",
     "text": [
      "Epoch 87 test metrics: {'hamming_loss': 0.08577938614126793}\n"
     ]
    },
    {
     "name": "stderr",
     "output_type": "stream",
     "text": [
      "/Users/shawn/Documents/UMSI/SI630 NLP Algorithm People/Project/notebook/../src/utils.py:29: RuntimeWarning: invalid value encountered in divide\n",
      "  y_pred_normalized = y_prob / np.max(y_prob, axis=1, keepdims=True)\n"
     ]
    },
    {
     "name": "stdout",
     "output_type": "stream",
     "text": [
      "Epoch 88 test metrics: {'hamming_loss': 0.08619823080016084}\n"
     ]
    },
    {
     "name": "stderr",
     "output_type": "stream",
     "text": [
      "/Users/shawn/Documents/UMSI/SI630 NLP Algorithm People/Project/notebook/../src/utils.py:29: RuntimeWarning: invalid value encountered in divide\n",
      "  y_pred_normalized = y_prob / np.max(y_prob, axis=1, keepdims=True)\n"
     ]
    },
    {
     "name": "stdout",
     "output_type": "stream",
     "text": [
      "Epoch 89 test metrics: {'hamming_loss': 0.08606420050931511}\n"
     ]
    },
    {
     "name": "stderr",
     "output_type": "stream",
     "text": [
      "/Users/shawn/Documents/UMSI/SI630 NLP Algorithm People/Project/notebook/../src/utils.py:29: RuntimeWarning: invalid value encountered in divide\n",
      "  y_pred_normalized = y_prob / np.max(y_prob, axis=1, keepdims=True)\n"
     ]
    },
    {
     "name": "stdout",
     "output_type": "stream",
     "text": [
      "Epoch 90 test metrics: {'hamming_loss': 0.08594692400482509}\n"
     ]
    },
    {
     "name": "stderr",
     "output_type": "stream",
     "text": [
      "/Users/shawn/Documents/UMSI/SI630 NLP Algorithm People/Project/notebook/../src/utils.py:29: RuntimeWarning: invalid value encountered in divide\n",
      "  y_pred_normalized = y_prob / np.max(y_prob, axis=1, keepdims=True)\n"
     ]
    },
    {
     "name": "stdout",
     "output_type": "stream",
     "text": [
      "Epoch 91 test metrics: {'hamming_loss': 0.08567886342313363}\n"
     ]
    },
    {
     "name": "stderr",
     "output_type": "stream",
     "text": [
      "/Users/shawn/Documents/UMSI/SI630 NLP Algorithm People/Project/notebook/../src/utils.py:29: RuntimeWarning: invalid value encountered in divide\n",
      "  y_pred_normalized = y_prob / np.max(y_prob, axis=1, keepdims=True)\n"
     ]
    },
    {
     "name": "stdout",
     "output_type": "stream",
     "text": [
      "Epoch 92 test metrics: {'hamming_loss': 0.08634901487736228}\n"
     ]
    },
    {
     "name": "stderr",
     "output_type": "stream",
     "text": [
      "/Users/shawn/Documents/UMSI/SI630 NLP Algorithm People/Project/notebook/../src/utils.py:29: RuntimeWarning: invalid value encountered in divide\n",
      "  y_pred_normalized = y_prob / np.max(y_prob, axis=1, keepdims=True)\n"
     ]
    },
    {
     "name": "stdout",
     "output_type": "stream",
     "text": [
      "Epoch 93 test metrics: {'hamming_loss': 0.08618147701380512}\n"
     ]
    },
    {
     "name": "stderr",
     "output_type": "stream",
     "text": [
      "/Users/shawn/Documents/UMSI/SI630 NLP Algorithm People/Project/notebook/../src/utils.py:29: RuntimeWarning: invalid value encountered in divide\n",
      "  y_pred_normalized = y_prob / np.max(y_prob, axis=1, keepdims=True)\n"
     ]
    },
    {
     "name": "stdout",
     "output_type": "stream",
     "text": [
      "Epoch 94 test metrics: {'hamming_loss': 0.08649979895456374}\n"
     ]
    },
    {
     "name": "stderr",
     "output_type": "stream",
     "text": [
      "/Users/shawn/Documents/UMSI/SI630 NLP Algorithm People/Project/notebook/../src/utils.py:29: RuntimeWarning: invalid value encountered in divide\n",
      "  y_pred_normalized = y_prob / np.max(y_prob, axis=1, keepdims=True)\n"
     ]
    },
    {
     "name": "stdout",
     "output_type": "stream",
     "text": [
      "Epoch 95 test metrics: {'hamming_loss': 0.08591341643211366}\n"
     ]
    },
    {
     "name": "stderr",
     "output_type": "stream",
     "text": [
      "/Users/shawn/Documents/UMSI/SI630 NLP Algorithm People/Project/notebook/../src/utils.py:29: RuntimeWarning: invalid value encountered in divide\n",
      "  y_pred_normalized = y_prob / np.max(y_prob, axis=1, keepdims=True)\n"
     ]
    },
    {
     "name": "stdout",
     "output_type": "stream",
     "text": [
      "Epoch 96 test metrics: {'hamming_loss': 0.08609770808202653}\n"
     ]
    },
    {
     "name": "stderr",
     "output_type": "stream",
     "text": [
      "/Users/shawn/Documents/UMSI/SI630 NLP Algorithm People/Project/notebook/../src/utils.py:29: RuntimeWarning: invalid value encountered in divide\n",
      "  y_pred_normalized = y_prob / np.max(y_prob, axis=1, keepdims=True)\n"
     ]
    },
    {
     "name": "stdout",
     "output_type": "stream",
     "text": [
      "Epoch 97 test metrics: {'hamming_loss': 0.08606420050931511}\n"
     ]
    },
    {
     "name": "stderr",
     "output_type": "stream",
     "text": [
      "/Users/shawn/Documents/UMSI/SI630 NLP Algorithm People/Project/notebook/../src/utils.py:29: RuntimeWarning: invalid value encountered in divide\n",
      "  y_pred_normalized = y_prob / np.max(y_prob, axis=1, keepdims=True)\n"
     ]
    },
    {
     "name": "stdout",
     "output_type": "stream",
     "text": [
      "Epoch 98 test metrics: {'hamming_loss': 0.08624849215922799}\n"
     ]
    },
    {
     "name": "stderr",
     "output_type": "stream",
     "text": [
      "/Users/shawn/Documents/UMSI/SI630 NLP Algorithm People/Project/notebook/../src/utils.py:29: RuntimeWarning: invalid value encountered in divide\n",
      "  y_pred_normalized = y_prob / np.max(y_prob, axis=1, keepdims=True)\n"
     ]
    },
    {
     "name": "stdout",
     "output_type": "stream",
     "text": [
      "Epoch 99 test metrics: {'hamming_loss': 0.08628199973193942}\n"
     ]
    },
    {
     "name": "stderr",
     "output_type": "stream",
     "text": [
      "/Users/shawn/Documents/UMSI/SI630 NLP Algorithm People/Project/notebook/../src/utils.py:29: RuntimeWarning: invalid value encountered in divide\n",
      "  y_pred_normalized = y_prob / np.max(y_prob, axis=1, keepdims=True)\n"
     ]
    },
    {
     "name": "stdout",
     "output_type": "stream",
     "text": [
      "Epoch 100 test metrics: {'hamming_loss': 0.08649979895456374}\n"
     ]
    },
    {
     "name": "stderr",
     "output_type": "stream",
     "text": [
      "/Users/shawn/Documents/UMSI/SI630 NLP Algorithm People/Project/notebook/../src/utils.py:29: RuntimeWarning: invalid value encountered in divide\n",
      "  y_pred_normalized = y_prob / np.max(y_prob, axis=1, keepdims=True)\n"
     ]
    },
    {
     "name": "stdout",
     "output_type": "stream",
     "text": [
      "Epoch 101 test metrics: {'hamming_loss': 0.08634901487736228}\n"
     ]
    },
    {
     "name": "stderr",
     "output_type": "stream",
     "text": [
      "/Users/shawn/Documents/UMSI/SI630 NLP Algorithm People/Project/notebook/../src/utils.py:29: RuntimeWarning: invalid value encountered in divide\n",
      "  y_pred_normalized = y_prob / np.max(y_prob, axis=1, keepdims=True)\n"
     ]
    },
    {
     "name": "stdout",
     "output_type": "stream",
     "text": [
      "Epoch 102 test metrics: {'hamming_loss': 0.08655006031363088}\n"
     ]
    },
    {
     "name": "stderr",
     "output_type": "stream",
     "text": [
      "/Users/shawn/Documents/UMSI/SI630 NLP Algorithm People/Project/notebook/../src/utils.py:29: RuntimeWarning: invalid value encountered in divide\n",
      "  y_pred_normalized = y_prob / np.max(y_prob, axis=1, keepdims=True)\n"
     ]
    },
    {
     "name": "stdout",
     "output_type": "stream",
     "text": [
      "Epoch 103 test metrics: {'hamming_loss': 0.08629875351829513}\n"
     ]
    },
    {
     "name": "stderr",
     "output_type": "stream",
     "text": [
      "/Users/shawn/Documents/UMSI/SI630 NLP Algorithm People/Project/notebook/../src/utils.py:29: RuntimeWarning: invalid value encountered in divide\n",
      "  y_pred_normalized = y_prob / np.max(y_prob, axis=1, keepdims=True)\n"
     ]
    },
    {
     "name": "stdout",
     "output_type": "stream",
     "text": [
      "Epoch 104 test metrics: {'hamming_loss': 0.08661707545905374}\n"
     ]
    },
    {
     "name": "stderr",
     "output_type": "stream",
     "text": [
      "/Users/shawn/Documents/UMSI/SI630 NLP Algorithm People/Project/notebook/../src/utils.py:29: RuntimeWarning: invalid value encountered in divide\n",
      "  y_pred_normalized = y_prob / np.max(y_prob, axis=1, keepdims=True)\n"
     ]
    },
    {
     "name": "stdout",
     "output_type": "stream",
     "text": [
      "Epoch 105 test metrics: {'hamming_loss': 0.08604744672295939}\n"
     ]
    },
    {
     "name": "stderr",
     "output_type": "stream",
     "text": [
      "/Users/shawn/Documents/UMSI/SI630 NLP Algorithm People/Project/notebook/../src/utils.py:29: RuntimeWarning: invalid value encountered in divide\n",
      "  y_pred_normalized = y_prob / np.max(y_prob, axis=1, keepdims=True)\n"
     ]
    },
    {
     "name": "stdout",
     "output_type": "stream",
     "text": [
      "Epoch 106 test metrics: {'hamming_loss': 0.0867846133226109}\n"
     ]
    },
    {
     "name": "stderr",
     "output_type": "stream",
     "text": [
      "/Users/shawn/Documents/UMSI/SI630 NLP Algorithm People/Project/notebook/../src/utils.py:29: RuntimeWarning: invalid value encountered in divide\n",
      "  y_pred_normalized = y_prob / np.max(y_prob, axis=1, keepdims=True)\n"
     ]
    },
    {
     "name": "stdout",
     "output_type": "stream",
     "text": [
      "Epoch 107 test metrics: {'hamming_loss': 0.08634901487736228}\n"
     ]
    },
    {
     "name": "stderr",
     "output_type": "stream",
     "text": [
      "/Users/shawn/Documents/UMSI/SI630 NLP Algorithm People/Project/notebook/../src/utils.py:29: RuntimeWarning: invalid value encountered in divide\n",
      "  y_pred_normalized = y_prob / np.max(y_prob, axis=1, keepdims=True)\n"
     ]
    },
    {
     "name": "stdout",
     "output_type": "stream",
     "text": [
      "Epoch 108 test metrics: {'hamming_loss': 0.08658356788634232}\n"
     ]
    },
    {
     "name": "stderr",
     "output_type": "stream",
     "text": [
      "/Users/shawn/Documents/UMSI/SI630 NLP Algorithm People/Project/notebook/../src/utils.py:29: RuntimeWarning: invalid value encountered in divide\n",
      "  y_pred_normalized = y_prob / np.max(y_prob, axis=1, keepdims=True)\n"
     ]
    },
    {
     "name": "stdout",
     "output_type": "stream",
     "text": [
      "Epoch 109 test metrics: {'hamming_loss': 0.08643278380914086}\n"
     ]
    },
    {
     "name": "stderr",
     "output_type": "stream",
     "text": [
      "/Users/shawn/Documents/UMSI/SI630 NLP Algorithm People/Project/notebook/../src/utils.py:29: RuntimeWarning: invalid value encountered in divide\n",
      "  y_pred_normalized = y_prob / np.max(y_prob, axis=1, keepdims=True)\n"
     ]
    },
    {
     "name": "stdout",
     "output_type": "stream",
     "text": [
      "Epoch 110 test metrics: {'hamming_loss': 0.08695215118616807}\n"
     ]
    },
    {
     "name": "stderr",
     "output_type": "stream",
     "text": [
      "/Users/shawn/Documents/UMSI/SI630 NLP Algorithm People/Project/notebook/../src/utils.py:29: RuntimeWarning: invalid value encountered in divide\n",
      "  y_pred_normalized = y_prob / np.max(y_prob, axis=1, keepdims=True)\n"
     ]
    },
    {
     "name": "stdout",
     "output_type": "stream",
     "text": [
      "Epoch 111 test metrics: {'hamming_loss': 0.08690188982710093}\n"
     ]
    },
    {
     "name": "stderr",
     "output_type": "stream",
     "text": [
      "/Users/shawn/Documents/UMSI/SI630 NLP Algorithm People/Project/notebook/../src/utils.py:29: RuntimeWarning: invalid value encountered in divide\n",
      "  y_pred_normalized = y_prob / np.max(y_prob, axis=1, keepdims=True)\n"
     ]
    },
    {
     "name": "stdout",
     "output_type": "stream",
     "text": [
      "Epoch 112 test metrics: {'hamming_loss': 0.08690188982710093}\n"
     ]
    },
    {
     "name": "stderr",
     "output_type": "stream",
     "text": [
      "/Users/shawn/Documents/UMSI/SI630 NLP Algorithm People/Project/notebook/../src/utils.py:29: RuntimeWarning: invalid value encountered in divide\n",
      "  y_pred_normalized = y_prob / np.max(y_prob, axis=1, keepdims=True)\n"
     ]
    },
    {
     "name": "stdout",
     "output_type": "stream",
     "text": [
      "Epoch 113 test metrics: {'hamming_loss': 0.08691864361345664}\n"
     ]
    },
    {
     "name": "stderr",
     "output_type": "stream",
     "text": [
      "/Users/shawn/Documents/UMSI/SI630 NLP Algorithm People/Project/notebook/../src/utils.py:29: RuntimeWarning: invalid value encountered in divide\n",
      "  y_pred_normalized = y_prob / np.max(y_prob, axis=1, keepdims=True)\n"
     ]
    },
    {
     "name": "stdout",
     "output_type": "stream",
     "text": [
      "Epoch 114 test metrics: {'hamming_loss': 0.08690188982710093}\n"
     ]
    },
    {
     "name": "stderr",
     "output_type": "stream",
     "text": [
      "/Users/shawn/Documents/UMSI/SI630 NLP Algorithm People/Project/notebook/../src/utils.py:29: RuntimeWarning: invalid value encountered in divide\n",
      "  y_pred_normalized = y_prob / np.max(y_prob, axis=1, keepdims=True)\n"
     ]
    },
    {
     "name": "stdout",
     "output_type": "stream",
     "text": [
      "Epoch 115 test metrics: {'hamming_loss': 0.08718670419514811}\n"
     ]
    },
    {
     "name": "stderr",
     "output_type": "stream",
     "text": [
      "/Users/shawn/Documents/UMSI/SI630 NLP Algorithm People/Project/notebook/../src/utils.py:29: RuntimeWarning: invalid value encountered in divide\n",
      "  y_pred_normalized = y_prob / np.max(y_prob, axis=1, keepdims=True)\n"
     ]
    },
    {
     "name": "stdout",
     "output_type": "stream",
     "text": [
      "Epoch 116 test metrics: {'hamming_loss': 0.08716995040879238}\n"
     ]
    },
    {
     "name": "stderr",
     "output_type": "stream",
     "text": [
      "/Users/shawn/Documents/UMSI/SI630 NLP Algorithm People/Project/notebook/../src/utils.py:29: RuntimeWarning: invalid value encountered in divide\n",
      "  y_pred_normalized = y_prob / np.max(y_prob, axis=1, keepdims=True)\n"
     ]
    },
    {
     "name": "stdout",
     "output_type": "stream",
     "text": [
      "Epoch 117 test metrics: {'hamming_loss': 0.08695215118616807}\n"
     ]
    },
    {
     "name": "stderr",
     "output_type": "stream",
     "text": [
      "/Users/shawn/Documents/UMSI/SI630 NLP Algorithm People/Project/notebook/../src/utils.py:29: RuntimeWarning: invalid value encountered in divide\n",
      "  y_pred_normalized = y_prob / np.max(y_prob, axis=1, keepdims=True)\n"
     ]
    },
    {
     "name": "stdout",
     "output_type": "stream",
     "text": [
      "Epoch 118 test metrics: {'hamming_loss': 0.0867678595362552}\n"
     ]
    },
    {
     "name": "stderr",
     "output_type": "stream",
     "text": [
      "/Users/shawn/Documents/UMSI/SI630 NLP Algorithm People/Project/notebook/../src/utils.py:29: RuntimeWarning: invalid value encountered in divide\n",
      "  y_pred_normalized = y_prob / np.max(y_prob, axis=1, keepdims=True)\n"
     ]
    },
    {
     "name": "stdout",
     "output_type": "stream",
     "text": [
      "Epoch 119 test metrics: {'hamming_loss': 0.08711968904972524}\n"
     ]
    },
    {
     "name": "stderr",
     "output_type": "stream",
     "text": [
      "/Users/shawn/Documents/UMSI/SI630 NLP Algorithm People/Project/notebook/../src/utils.py:29: RuntimeWarning: invalid value encountered in divide\n",
      "  y_pred_normalized = y_prob / np.max(y_prob, axis=1, keepdims=True)\n"
     ]
    },
    {
     "name": "stdout",
     "output_type": "stream",
     "text": [
      "Epoch 120 test metrics: {'hamming_loss': 0.08723696555421526}\n"
     ]
    },
    {
     "name": "stderr",
     "output_type": "stream",
     "text": [
      "/Users/shawn/Documents/UMSI/SI630 NLP Algorithm People/Project/notebook/../src/utils.py:29: RuntimeWarning: invalid value encountered in divide\n",
      "  y_pred_normalized = y_prob / np.max(y_prob, axis=1, keepdims=True)\n"
     ]
    },
    {
     "name": "stdout",
     "output_type": "stream",
     "text": [
      "Epoch 121 test metrics: {'hamming_loss': 0.08698565875887951}\n"
     ]
    },
    {
     "name": "stderr",
     "output_type": "stream",
     "text": [
      "/Users/shawn/Documents/UMSI/SI630 NLP Algorithm People/Project/notebook/../src/utils.py:29: RuntimeWarning: invalid value encountered in divide\n",
      "  y_pred_normalized = y_prob / np.max(y_prob, axis=1, keepdims=True)\n"
     ]
    },
    {
     "name": "stdout",
     "output_type": "stream",
     "text": [
      "Epoch 122 test metrics: {'hamming_loss': 0.08732073448599384}\n"
     ]
    },
    {
     "name": "stderr",
     "output_type": "stream",
     "text": [
      "/Users/shawn/Documents/UMSI/SI630 NLP Algorithm People/Project/notebook/../src/utils.py:29: RuntimeWarning: invalid value encountered in divide\n",
      "  y_pred_normalized = y_prob / np.max(y_prob, axis=1, keepdims=True)\n"
     ]
    },
    {
     "name": "stdout",
     "output_type": "stream",
     "text": [
      "Epoch 123 test metrics: {'hamming_loss': 0.08762230264039673}\n"
     ]
    },
    {
     "name": "stderr",
     "output_type": "stream",
     "text": [
      "/Users/shawn/Documents/UMSI/SI630 NLP Algorithm People/Project/notebook/../src/utils.py:29: RuntimeWarning: invalid value encountered in divide\n",
      "  y_pred_normalized = y_prob / np.max(y_prob, axis=1, keepdims=True)\n"
     ]
    },
    {
     "name": "stdout",
     "output_type": "stream",
     "text": [
      "Epoch 124 test metrics: {'hamming_loss': 0.08753853370861815}\n"
     ]
    },
    {
     "name": "stderr",
     "output_type": "stream",
     "text": [
      "/Users/shawn/Documents/UMSI/SI630 NLP Algorithm People/Project/notebook/../src/utils.py:29: RuntimeWarning: invalid value encountered in divide\n",
      "  y_pred_normalized = y_prob / np.max(y_prob, axis=1, keepdims=True)\n"
     ]
    },
    {
     "name": "stdout",
     "output_type": "stream",
     "text": [
      "Epoch 125 test metrics: {'hamming_loss': 0.08752177992226243}\n"
     ]
    },
    {
     "name": "stderr",
     "output_type": "stream",
     "text": [
      "/Users/shawn/Documents/UMSI/SI630 NLP Algorithm People/Project/notebook/../src/utils.py:29: RuntimeWarning: invalid value encountered in divide\n",
      "  y_pred_normalized = y_prob / np.max(y_prob, axis=1, keepdims=True)\n"
     ]
    },
    {
     "name": "stdout",
     "output_type": "stream",
     "text": [
      "Epoch 126 test metrics: {'hamming_loss': 0.08737099584506099}\n"
     ]
    },
    {
     "name": "stderr",
     "output_type": "stream",
     "text": [
      "/Users/shawn/Documents/UMSI/SI630 NLP Algorithm People/Project/notebook/../src/utils.py:29: RuntimeWarning: invalid value encountered in divide\n",
      "  y_pred_normalized = y_prob / np.max(y_prob, axis=1, keepdims=True)\n"
     ]
    },
    {
     "name": "stdout",
     "output_type": "stream",
     "text": [
      "Epoch 127 test metrics: {'hamming_loss': 0.08755528749497386}\n"
     ]
    },
    {
     "name": "stderr",
     "output_type": "stream",
     "text": [
      "/Users/shawn/Documents/UMSI/SI630 NLP Algorithm People/Project/notebook/../src/utils.py:29: RuntimeWarning: invalid value encountered in divide\n",
      "  y_pred_normalized = y_prob / np.max(y_prob, axis=1, keepdims=True)\n"
     ]
    },
    {
     "name": "stdout",
     "output_type": "stream",
     "text": [
      "Epoch 128 test metrics: {'hamming_loss': 0.08763905642675245}\n"
     ]
    },
    {
     "name": "stderr",
     "output_type": "stream",
     "text": [
      "/Users/shawn/Documents/UMSI/SI630 NLP Algorithm People/Project/notebook/../src/utils.py:29: RuntimeWarning: invalid value encountered in divide\n",
      "  y_pred_normalized = y_prob / np.max(y_prob, axis=1, keepdims=True)\n"
     ]
    },
    {
     "name": "stdout",
     "output_type": "stream",
     "text": [
      "Epoch 129 test metrics: {'hamming_loss': 0.08747151856319528}\n"
     ]
    },
    {
     "name": "stderr",
     "output_type": "stream",
     "text": [
      "/Users/shawn/Documents/UMSI/SI630 NLP Algorithm People/Project/notebook/../src/utils.py:29: RuntimeWarning: invalid value encountered in divide\n",
      "  y_pred_normalized = y_prob / np.max(y_prob, axis=1, keepdims=True)\n"
     ]
    },
    {
     "name": "stdout",
     "output_type": "stream",
     "text": [
      "Epoch 130 test metrics: {'hamming_loss': 0.08762230264039673}\n"
     ]
    },
    {
     "name": "stderr",
     "output_type": "stream",
     "text": [
      "/Users/shawn/Documents/UMSI/SI630 NLP Algorithm People/Project/notebook/../src/utils.py:29: RuntimeWarning: invalid value encountered in divide\n",
      "  y_pred_normalized = y_prob / np.max(y_prob, axis=1, keepdims=True)\n"
     ]
    },
    {
     "name": "stdout",
     "output_type": "stream",
     "text": [
      "Epoch 131 test metrics: {'hamming_loss': 0.08767256399946388}\n"
     ]
    },
    {
     "name": "stderr",
     "output_type": "stream",
     "text": [
      "/Users/shawn/Documents/UMSI/SI630 NLP Algorithm People/Project/notebook/../src/utils.py:29: RuntimeWarning: invalid value encountered in divide\n",
      "  y_pred_normalized = y_prob / np.max(y_prob, axis=1, keepdims=True)\n"
     ]
    },
    {
     "name": "stdout",
     "output_type": "stream",
     "text": [
      "Epoch 132 test metrics: {'hamming_loss': 0.08757204128132957}\n"
     ]
    },
    {
     "name": "stderr",
     "output_type": "stream",
     "text": [
      "/Users/shawn/Documents/UMSI/SI630 NLP Algorithm People/Project/notebook/../src/utils.py:29: RuntimeWarning: invalid value encountered in divide\n",
      "  y_pred_normalized = y_prob / np.max(y_prob, axis=1, keepdims=True)\n"
     ]
    },
    {
     "name": "stdout",
     "output_type": "stream",
     "text": [
      "Epoch 133 test metrics: {'hamming_loss': 0.08805790108564536}\n"
     ]
    },
    {
     "name": "stderr",
     "output_type": "stream",
     "text": [
      "/Users/shawn/Documents/UMSI/SI630 NLP Algorithm People/Project/notebook/../src/utils.py:29: RuntimeWarning: invalid value encountered in divide\n",
      "  y_pred_normalized = y_prob / np.max(y_prob, axis=1, keepdims=True)\n"
     ]
    },
    {
     "name": "stdout",
     "output_type": "stream",
     "text": [
      "Epoch 134 test metrics: {'hamming_loss': 0.08825894652191395}\n"
     ]
    },
    {
     "name": "stderr",
     "output_type": "stream",
     "text": [
      "/Users/shawn/Documents/UMSI/SI630 NLP Algorithm People/Project/notebook/../src/utils.py:29: RuntimeWarning: invalid value encountered in divide\n",
      "  y_pred_normalized = y_prob / np.max(y_prob, axis=1, keepdims=True)\n"
     ]
    },
    {
     "name": "stdout",
     "output_type": "stream",
     "text": [
      "Epoch 135 test metrics: {'hamming_loss': 0.08804114729928963}\n"
     ]
    },
    {
     "name": "stderr",
     "output_type": "stream",
     "text": [
      "/Users/shawn/Documents/UMSI/SI630 NLP Algorithm People/Project/notebook/../src/utils.py:29: RuntimeWarning: invalid value encountered in divide\n",
      "  y_pred_normalized = y_prob / np.max(y_prob, axis=1, keepdims=True)\n"
     ]
    },
    {
     "name": "stdout",
     "output_type": "stream",
     "text": [
      "Epoch 136 test metrics: {'hamming_loss': 0.08804114729928963}\n"
     ]
    },
    {
     "name": "stderr",
     "output_type": "stream",
     "text": [
      "/Users/shawn/Documents/UMSI/SI630 NLP Algorithm People/Project/notebook/../src/utils.py:29: RuntimeWarning: invalid value encountered in divide\n",
      "  y_pred_normalized = y_prob / np.max(y_prob, axis=1, keepdims=True)\n"
     ]
    },
    {
     "name": "stdout",
     "output_type": "stream",
     "text": [
      "Epoch 137 test metrics: {'hamming_loss': 0.08819193137649109}\n"
     ]
    },
    {
     "name": "stderr",
     "output_type": "stream",
     "text": [
      "/Users/shawn/Documents/UMSI/SI630 NLP Algorithm People/Project/notebook/../src/utils.py:29: RuntimeWarning: invalid value encountered in divide\n",
      "  y_pred_normalized = y_prob / np.max(y_prob, axis=1, keepdims=True)\n"
     ]
    },
    {
     "name": "stdout",
     "output_type": "stream",
     "text": [
      "Epoch 138 test metrics: {'hamming_loss': 0.0884097305991154}\n"
     ]
    },
    {
     "name": "stderr",
     "output_type": "stream",
     "text": [
      "/Users/shawn/Documents/UMSI/SI630 NLP Algorithm People/Project/notebook/../src/utils.py:29: RuntimeWarning: invalid value encountered in divide\n",
      "  y_pred_normalized = y_prob / np.max(y_prob, axis=1, keepdims=True)\n"
     ]
    },
    {
     "name": "stdout",
     "output_type": "stream",
     "text": [
      "Epoch 139 test metrics: {'hamming_loss': 0.0884097305991154}\n"
     ]
    },
    {
     "name": "stderr",
     "output_type": "stream",
     "text": [
      "/Users/shawn/Documents/UMSI/SI630 NLP Algorithm People/Project/notebook/../src/utils.py:29: RuntimeWarning: invalid value encountered in divide\n",
      "  y_pred_normalized = y_prob / np.max(y_prob, axis=1, keepdims=True)\n"
     ]
    },
    {
     "name": "stdout",
     "output_type": "stream",
     "text": [
      "Epoch 140 test metrics: {'hamming_loss': 0.08856051467631684}\n"
     ]
    },
    {
     "name": "stderr",
     "output_type": "stream",
     "text": [
      "/Users/shawn/Documents/UMSI/SI630 NLP Algorithm People/Project/notebook/../src/utils.py:29: RuntimeWarning: invalid value encountered in divide\n",
      "  y_pred_normalized = y_prob / np.max(y_prob, axis=1, keepdims=True)\n"
     ]
    },
    {
     "name": "stdout",
     "output_type": "stream",
     "text": [
      "Epoch 141 test metrics: {'hamming_loss': 0.08849349953089398}\n"
     ]
    },
    {
     "name": "stderr",
     "output_type": "stream",
     "text": [
      "/Users/shawn/Documents/UMSI/SI630 NLP Algorithm People/Project/notebook/../src/utils.py:29: RuntimeWarning: invalid value encountered in divide\n",
      "  y_pred_normalized = y_prob / np.max(y_prob, axis=1, keepdims=True)\n"
     ]
    },
    {
     "name": "stdout",
     "output_type": "stream",
     "text": [
      "Epoch 142 test metrics: {'hamming_loss': 0.08854376088996113}\n"
     ]
    },
    {
     "name": "stderr",
     "output_type": "stream",
     "text": [
      "/Users/shawn/Documents/UMSI/SI630 NLP Algorithm People/Project/notebook/../src/utils.py:29: RuntimeWarning: invalid value encountered in divide\n",
      "  y_pred_normalized = y_prob / np.max(y_prob, axis=1, keepdims=True)\n"
     ]
    },
    {
     "name": "stdout",
     "output_type": "stream",
     "text": [
      "Epoch 143 test metrics: {'hamming_loss': 0.08884532904436403}\n"
     ]
    },
    {
     "name": "stderr",
     "output_type": "stream",
     "text": [
      "/Users/shawn/Documents/UMSI/SI630 NLP Algorithm People/Project/notebook/../src/utils.py:29: RuntimeWarning: invalid value encountered in divide\n",
      "  y_pred_normalized = y_prob / np.max(y_prob, axis=1, keepdims=True)\n"
     ]
    },
    {
     "name": "stdout",
     "output_type": "stream",
     "text": [
      "Epoch 144 test metrics: {'hamming_loss': 0.08852700710360542}\n"
     ]
    },
    {
     "name": "stderr",
     "output_type": "stream",
     "text": [
      "/Users/shawn/Documents/UMSI/SI630 NLP Algorithm People/Project/notebook/../src/utils.py:29: RuntimeWarning: invalid value encountered in divide\n",
      "  y_pred_normalized = y_prob / np.max(y_prob, axis=1, keepdims=True)\n"
     ]
    },
    {
     "name": "stdout",
     "output_type": "stream",
     "text": [
      "Epoch 145 test metrics: {'hamming_loss': 0.08857726846267257}\n"
     ]
    },
    {
     "name": "stderr",
     "output_type": "stream",
     "text": [
      "/Users/shawn/Documents/UMSI/SI630 NLP Algorithm People/Project/notebook/../src/utils.py:29: RuntimeWarning: invalid value encountered in divide\n",
      "  y_pred_normalized = y_prob / np.max(y_prob, axis=1, keepdims=True)\n"
     ]
    },
    {
     "name": "stdout",
     "output_type": "stream",
     "text": [
      "Epoch 146 test metrics: {'hamming_loss': 0.08874480632622973}\n"
     ]
    },
    {
     "name": "stderr",
     "output_type": "stream",
     "text": [
      "/Users/shawn/Documents/UMSI/SI630 NLP Algorithm People/Project/notebook/../src/utils.py:29: RuntimeWarning: invalid value encountered in divide\n",
      "  y_pred_normalized = y_prob / np.max(y_prob, axis=1, keepdims=True)\n"
     ]
    },
    {
     "name": "stdout",
     "output_type": "stream",
     "text": [
      "Epoch 147 test metrics: {'hamming_loss': 0.08839297681275968}\n"
     ]
    },
    {
     "name": "stderr",
     "output_type": "stream",
     "text": [
      "/Users/shawn/Documents/UMSI/SI630 NLP Algorithm People/Project/notebook/../src/utils.py:29: RuntimeWarning: invalid value encountered in divide\n",
      "  y_pred_normalized = y_prob / np.max(y_prob, axis=1, keepdims=True)\n"
     ]
    },
    {
     "name": "stdout",
     "output_type": "stream",
     "text": [
      "Epoch 148 test metrics: {'hamming_loss': 0.08867779118080686}\n"
     ]
    },
    {
     "name": "stderr",
     "output_type": "stream",
     "text": [
      "/Users/shawn/Documents/UMSI/SI630 NLP Algorithm People/Project/notebook/../src/utils.py:29: RuntimeWarning: invalid value encountered in divide\n",
      "  y_pred_normalized = y_prob / np.max(y_prob, axis=1, keepdims=True)\n"
     ]
    },
    {
     "name": "stdout",
     "output_type": "stream",
     "text": [
      "Epoch 149 test metrics: {'hamming_loss': 0.08904637448063263}\n"
     ]
    },
    {
     "name": "stderr",
     "output_type": "stream",
     "text": [
      "/Users/shawn/Documents/UMSI/SI630 NLP Algorithm People/Project/notebook/../src/utils.py:29: RuntimeWarning: invalid value encountered in divide\n",
      "  y_pred_normalized = y_prob / np.max(y_prob, axis=1, keepdims=True)\n"
     ]
    },
    {
     "name": "stdout",
     "output_type": "stream",
     "text": [
      "Epoch 150 test metrics: {'hamming_loss': 0.08889559040343117}\n"
     ]
    },
    {
     "name": "stderr",
     "output_type": "stream",
     "text": [
      "/Users/shawn/Documents/UMSI/SI630 NLP Algorithm People/Project/notebook/../src/utils.py:29: RuntimeWarning: invalid value encountered in divide\n",
      "  y_pred_normalized = y_prob / np.max(y_prob, axis=1, keepdims=True)\n"
     ]
    },
    {
     "name": "stdout",
     "output_type": "stream",
     "text": [
      "Epoch 151 test metrics: {'hamming_loss': 0.08892909797614261}\n"
     ]
    },
    {
     "name": "stderr",
     "output_type": "stream",
     "text": [
      "/Users/shawn/Documents/UMSI/SI630 NLP Algorithm People/Project/notebook/../src/utils.py:29: RuntimeWarning: invalid value encountered in divide\n",
      "  y_pred_normalized = y_prob / np.max(y_prob, axis=1, keepdims=True)\n"
     ]
    },
    {
     "name": "stdout",
     "output_type": "stream",
     "text": [
      "Epoch 152 test metrics: {'hamming_loss': 0.08872805253987401}\n"
     ]
    },
    {
     "name": "stderr",
     "output_type": "stream",
     "text": [
      "/Users/shawn/Documents/UMSI/SI630 NLP Algorithm People/Project/notebook/../src/utils.py:29: RuntimeWarning: invalid value encountered in divide\n",
      "  y_pred_normalized = y_prob / np.max(y_prob, axis=1, keepdims=True)\n"
     ]
    },
    {
     "name": "stdout",
     "output_type": "stream",
     "text": [
      "Epoch 153 test metrics: {'hamming_loss': 0.08897935933520976}\n"
     ]
    },
    {
     "name": "stderr",
     "output_type": "stream",
     "text": [
      "/Users/shawn/Documents/UMSI/SI630 NLP Algorithm People/Project/notebook/../src/utils.py:29: RuntimeWarning: invalid value encountered in divide\n",
      "  y_pred_normalized = y_prob / np.max(y_prob, axis=1, keepdims=True)\n"
     ]
    },
    {
     "name": "stdout",
     "output_type": "stream",
     "text": [
      "Epoch 154 test metrics: {'hamming_loss': 0.08892909797614261}\n"
     ]
    },
    {
     "name": "stderr",
     "output_type": "stream",
     "text": [
      "/Users/shawn/Documents/UMSI/SI630 NLP Algorithm People/Project/notebook/../src/utils.py:29: RuntimeWarning: invalid value encountered in divide\n",
      "  y_pred_normalized = y_prob / np.max(y_prob, axis=1, keepdims=True)\n"
     ]
    },
    {
     "name": "stdout",
     "output_type": "stream",
     "text": [
      "Epoch 155 test metrics: {'hamming_loss': 0.08911338962605549}\n"
     ]
    },
    {
     "name": "stderr",
     "output_type": "stream",
     "text": [
      "/Users/shawn/Documents/UMSI/SI630 NLP Algorithm People/Project/notebook/../src/utils.py:29: RuntimeWarning: invalid value encountered in divide\n",
      "  y_pred_normalized = y_prob / np.max(y_prob, axis=1, keepdims=True)\n"
     ]
    },
    {
     "name": "stdout",
     "output_type": "stream",
     "text": [
      "Epoch 156 test metrics: {'hamming_loss': 0.08904637448063263}\n"
     ]
    },
    {
     "name": "stderr",
     "output_type": "stream",
     "text": [
      "/Users/shawn/Documents/UMSI/SI630 NLP Algorithm People/Project/notebook/../src/utils.py:29: RuntimeWarning: invalid value encountered in divide\n",
      "  y_pred_normalized = y_prob / np.max(y_prob, axis=1, keepdims=True)\n"
     ]
    },
    {
     "name": "stdout",
     "output_type": "stream",
     "text": [
      "Epoch 157 test metrics: {'hamming_loss': 0.08918040477147836}\n"
     ]
    },
    {
     "name": "stderr",
     "output_type": "stream",
     "text": [
      "/Users/shawn/Documents/UMSI/SI630 NLP Algorithm People/Project/notebook/../src/utils.py:29: RuntimeWarning: invalid value encountered in divide\n",
      "  y_pred_normalized = y_prob / np.max(y_prob, axis=1, keepdims=True)\n"
     ]
    },
    {
     "name": "stdout",
     "output_type": "stream",
     "text": [
      "Epoch 158 test metrics: {'hamming_loss': 0.08946521913952553}\n"
     ]
    },
    {
     "name": "stderr",
     "output_type": "stream",
     "text": [
      "/Users/shawn/Documents/UMSI/SI630 NLP Algorithm People/Project/notebook/../src/utils.py:29: RuntimeWarning: invalid value encountered in divide\n",
      "  y_pred_normalized = y_prob / np.max(y_prob, axis=1, keepdims=True)\n"
     ]
    },
    {
     "name": "stdout",
     "output_type": "stream",
     "text": [
      "Epoch 159 test metrics: {'hamming_loss': 0.08964951078943842}\n"
     ]
    },
    {
     "name": "stderr",
     "output_type": "stream",
     "text": [
      "/Users/shawn/Documents/UMSI/SI630 NLP Algorithm People/Project/notebook/../src/utils.py:29: RuntimeWarning: invalid value encountered in divide\n",
      "  y_pred_normalized = y_prob / np.max(y_prob, axis=1, keepdims=True)\n"
     ]
    },
    {
     "name": "stdout",
     "output_type": "stream",
     "text": [
      "Epoch 160 test metrics: {'hamming_loss': 0.08929768127596836}\n"
     ]
    },
    {
     "name": "stderr",
     "output_type": "stream",
     "text": [
      "/Users/shawn/Documents/UMSI/SI630 NLP Algorithm People/Project/notebook/../src/utils.py:29: RuntimeWarning: invalid value encountered in divide\n",
      "  y_pred_normalized = y_prob / np.max(y_prob, axis=1, keepdims=True)\n"
     ]
    },
    {
     "name": "stdout",
     "output_type": "stream",
     "text": [
      "Epoch 161 test metrics: {'hamming_loss': 0.08949872671223696}\n"
     ]
    },
    {
     "name": "stderr",
     "output_type": "stream",
     "text": [
      "/Users/shawn/Documents/UMSI/SI630 NLP Algorithm People/Project/notebook/../src/utils.py:29: RuntimeWarning: invalid value encountered in divide\n",
      "  y_pred_normalized = y_prob / np.max(y_prob, axis=1, keepdims=True)\n"
     ]
    },
    {
     "name": "stdout",
     "output_type": "stream",
     "text": [
      "Epoch 162 test metrics: {'hamming_loss': 0.0895322342849484}\n"
     ]
    },
    {
     "name": "stderr",
     "output_type": "stream",
     "text": [
      "/Users/shawn/Documents/UMSI/SI630 NLP Algorithm People/Project/notebook/../src/utils.py:29: RuntimeWarning: invalid value encountered in divide\n",
      "  y_pred_normalized = y_prob / np.max(y_prob, axis=1, keepdims=True)\n"
     ]
    },
    {
     "name": "stdout",
     "output_type": "stream",
     "text": [
      "Epoch 163 test metrics: {'hamming_loss': 0.08966626457579413}\n"
     ]
    },
    {
     "name": "stderr",
     "output_type": "stream",
     "text": [
      "/Users/shawn/Documents/UMSI/SI630 NLP Algorithm People/Project/notebook/../src/utils.py:29: RuntimeWarning: invalid value encountered in divide\n",
      "  y_pred_normalized = y_prob / np.max(y_prob, axis=1, keepdims=True)\n"
     ]
    },
    {
     "name": "stdout",
     "output_type": "stream",
     "text": [
      "Epoch 164 test metrics: {'hamming_loss': 0.08951548049859268}\n"
     ]
    },
    {
     "name": "stderr",
     "output_type": "stream",
     "text": [
      "/Users/shawn/Documents/UMSI/SI630 NLP Algorithm People/Project/notebook/../src/utils.py:29: RuntimeWarning: invalid value encountered in divide\n",
      "  y_pred_normalized = y_prob / np.max(y_prob, axis=1, keepdims=True)\n"
     ]
    },
    {
     "name": "stdout",
     "output_type": "stream",
     "text": [
      "Epoch 165 test metrics: {'hamming_loss': 0.08956574185765984}\n"
     ]
    },
    {
     "name": "stderr",
     "output_type": "stream",
     "text": [
      "/Users/shawn/Documents/UMSI/SI630 NLP Algorithm People/Project/notebook/../src/utils.py:29: RuntimeWarning: invalid value encountered in divide\n",
      "  y_pred_normalized = y_prob / np.max(y_prob, axis=1, keepdims=True)\n"
     ]
    },
    {
     "name": "stdout",
     "output_type": "stream",
     "text": [
      "Epoch 166 test metrics: {'hamming_loss': 0.08968301836214984}\n"
     ]
    },
    {
     "name": "stderr",
     "output_type": "stream",
     "text": [
      "/Users/shawn/Documents/UMSI/SI630 NLP Algorithm People/Project/notebook/../src/utils.py:29: RuntimeWarning: invalid value encountered in divide\n",
      "  y_pred_normalized = y_prob / np.max(y_prob, axis=1, keepdims=True)\n"
     ]
    },
    {
     "name": "stdout",
     "output_type": "stream",
     "text": [
      "Epoch 167 test metrics: {'hamming_loss': 0.08961600321672698}\n"
     ]
    },
    {
     "name": "stderr",
     "output_type": "stream",
     "text": [
      "/Users/shawn/Documents/UMSI/SI630 NLP Algorithm People/Project/notebook/../src/utils.py:29: RuntimeWarning: invalid value encountered in divide\n",
      "  y_pred_normalized = y_prob / np.max(y_prob, axis=1, keepdims=True)\n"
     ]
    },
    {
     "name": "stdout",
     "output_type": "stream",
     "text": [
      "Epoch 168 test metrics: {'hamming_loss': 0.08996783273019703}\n"
     ]
    },
    {
     "name": "stderr",
     "output_type": "stream",
     "text": [
      "/Users/shawn/Documents/UMSI/SI630 NLP Algorithm People/Project/notebook/../src/utils.py:29: RuntimeWarning: invalid value encountered in divide\n",
      "  y_pred_normalized = y_prob / np.max(y_prob, axis=1, keepdims=True)\n"
     ]
    },
    {
     "name": "stdout",
     "output_type": "stream",
     "text": [
      "Epoch 169 test metrics: {'hamming_loss': 0.08954898807130411}\n"
     ]
    },
    {
     "name": "stderr",
     "output_type": "stream",
     "text": [
      "/Users/shawn/Documents/UMSI/SI630 NLP Algorithm People/Project/notebook/../src/utils.py:29: RuntimeWarning: invalid value encountered in divide\n",
      "  y_pred_normalized = y_prob / np.max(y_prob, axis=1, keepdims=True)\n"
     ]
    },
    {
     "name": "stdout",
     "output_type": "stream",
     "text": [
      "Epoch 170 test metrics: {'hamming_loss': 0.089733279721217}\n"
     ]
    },
    {
     "name": "stderr",
     "output_type": "stream",
     "text": [
      "/Users/shawn/Documents/UMSI/SI630 NLP Algorithm People/Project/notebook/../src/utils.py:29: RuntimeWarning: invalid value encountered in divide\n",
      "  y_pred_normalized = y_prob / np.max(y_prob, axis=1, keepdims=True)\n"
     ]
    },
    {
     "name": "stdout",
     "output_type": "stream",
     "text": [
      "Epoch 171 test metrics: {'hamming_loss': 0.09000134030290846}\n"
     ]
    },
    {
     "name": "stderr",
     "output_type": "stream",
     "text": [
      "/Users/shawn/Documents/UMSI/SI630 NLP Algorithm People/Project/notebook/../src/utils.py:29: RuntimeWarning: invalid value encountered in divide\n",
      "  y_pred_normalized = y_prob / np.max(y_prob, axis=1, keepdims=True)\n"
     ]
    },
    {
     "name": "stdout",
     "output_type": "stream",
     "text": [
      "Epoch 172 test metrics: {'hamming_loss': 0.09000134030290846}\n"
     ]
    },
    {
     "name": "stderr",
     "output_type": "stream",
     "text": [
      "/Users/shawn/Documents/UMSI/SI630 NLP Algorithm People/Project/notebook/../src/utils.py:29: RuntimeWarning: invalid value encountered in divide\n",
      "  y_pred_normalized = y_prob / np.max(y_prob, axis=1, keepdims=True)\n"
     ]
    },
    {
     "name": "stdout",
     "output_type": "stream",
     "text": [
      "Epoch 173 test metrics: {'hamming_loss': 0.08991757137112988}\n"
     ]
    },
    {
     "name": "stderr",
     "output_type": "stream",
     "text": [
      "/Users/shawn/Documents/UMSI/SI630 NLP Algorithm People/Project/notebook/../src/utils.py:29: RuntimeWarning: invalid value encountered in divide\n",
      "  y_pred_normalized = y_prob / np.max(y_prob, axis=1, keepdims=True)\n"
     ]
    },
    {
     "name": "stdout",
     "output_type": "stream",
     "text": [
      "Epoch 174 test metrics: {'hamming_loss': 0.0901521243801099}\n"
     ]
    },
    {
     "name": "stderr",
     "output_type": "stream",
     "text": [
      "/Users/shawn/Documents/UMSI/SI630 NLP Algorithm People/Project/notebook/../src/utils.py:29: RuntimeWarning: invalid value encountered in divide\n",
      "  y_pred_normalized = y_prob / np.max(y_prob, axis=1, keepdims=True)\n"
     ]
    },
    {
     "name": "stdout",
     "output_type": "stream",
     "text": [
      "Epoch 175 test metrics: {'hamming_loss': 0.09010186302104276}\n"
     ]
    },
    {
     "name": "stderr",
     "output_type": "stream",
     "text": [
      "/Users/shawn/Documents/UMSI/SI630 NLP Algorithm People/Project/notebook/../src/utils.py:29: RuntimeWarning: invalid value encountered in divide\n",
      "  y_pred_normalized = y_prob / np.max(y_prob, axis=1, keepdims=True)\n"
     ]
    },
    {
     "name": "stdout",
     "output_type": "stream",
     "text": [
      "Epoch 176 test metrics: {'hamming_loss': 0.09047044632086852}\n"
     ]
    },
    {
     "name": "stderr",
     "output_type": "stream",
     "text": [
      "/Users/shawn/Documents/UMSI/SI630 NLP Algorithm People/Project/notebook/../src/utils.py:29: RuntimeWarning: invalid value encountered in divide\n",
      "  y_pred_normalized = y_prob / np.max(y_prob, axis=1, keepdims=True)\n"
     ]
    },
    {
     "name": "stdout",
     "output_type": "stream",
     "text": [
      "Epoch 177 test metrics: {'hamming_loss': 0.09025264709824421}\n"
     ]
    },
    {
     "name": "stderr",
     "output_type": "stream",
     "text": [
      "/Users/shawn/Documents/UMSI/SI630 NLP Algorithm People/Project/notebook/../src/utils.py:29: RuntimeWarning: invalid value encountered in divide\n",
      "  y_pred_normalized = y_prob / np.max(y_prob, axis=1, keepdims=True)\n"
     ]
    },
    {
     "name": "stdout",
     "output_type": "stream",
     "text": [
      "Epoch 178 test metrics: {'hamming_loss': 0.09023589331188848}\n"
     ]
    },
    {
     "name": "stderr",
     "output_type": "stream",
     "text": [
      "/Users/shawn/Documents/UMSI/SI630 NLP Algorithm People/Project/notebook/../src/utils.py:29: RuntimeWarning: invalid value encountered in divide\n",
      "  y_pred_normalized = y_prob / np.max(y_prob, axis=1, keepdims=True)\n"
     ]
    },
    {
     "name": "stdout",
     "output_type": "stream",
     "text": [
      "Epoch 179 test metrics: {'hamming_loss': 0.0903531698163785}\n"
     ]
    },
    {
     "name": "stderr",
     "output_type": "stream",
     "text": [
      "/Users/shawn/Documents/UMSI/SI630 NLP Algorithm People/Project/notebook/../src/utils.py:29: RuntimeWarning: invalid value encountered in divide\n",
      "  y_pred_normalized = y_prob / np.max(y_prob, axis=1, keepdims=True)\n"
     ]
    },
    {
     "name": "stdout",
     "output_type": "stream",
     "text": [
      "Epoch 180 test metrics: {'hamming_loss': 0.09036992360273421}\n"
     ]
    },
    {
     "name": "stderr",
     "output_type": "stream",
     "text": [
      "/Users/shawn/Documents/UMSI/SI630 NLP Algorithm People/Project/notebook/../src/utils.py:29: RuntimeWarning: invalid value encountered in divide\n",
      "  y_pred_normalized = y_prob / np.max(y_prob, axis=1, keepdims=True)\n"
     ]
    },
    {
     "name": "stdout",
     "output_type": "stream",
     "text": [
      "Epoch 181 test metrics: {'hamming_loss': 0.09060447661171425}\n"
     ]
    },
    {
     "name": "stderr",
     "output_type": "stream",
     "text": [
      "/Users/shawn/Documents/UMSI/SI630 NLP Algorithm People/Project/notebook/../src/utils.py:29: RuntimeWarning: invalid value encountered in divide\n",
      "  y_pred_normalized = y_prob / np.max(y_prob, axis=1, keepdims=True)\n"
     ]
    },
    {
     "name": "stdout",
     "output_type": "stream",
     "text": [
      "Epoch 182 test metrics: {'hamming_loss': 0.09067149175713711}\n"
     ]
    },
    {
     "name": "stderr",
     "output_type": "stream",
     "text": [
      "/Users/shawn/Documents/UMSI/SI630 NLP Algorithm People/Project/notebook/../src/utils.py:29: RuntimeWarning: invalid value encountered in divide\n",
      "  y_pred_normalized = y_prob / np.max(y_prob, axis=1, keepdims=True)\n"
     ]
    },
    {
     "name": "stdout",
     "output_type": "stream",
     "text": [
      "Epoch 183 test metrics: {'hamming_loss': 0.09063798418442567}\n"
     ]
    },
    {
     "name": "stderr",
     "output_type": "stream",
     "text": [
      "/Users/shawn/Documents/UMSI/SI630 NLP Algorithm People/Project/notebook/../src/utils.py:29: RuntimeWarning: invalid value encountered in divide\n",
      "  y_pred_normalized = y_prob / np.max(y_prob, axis=1, keepdims=True)\n"
     ]
    },
    {
     "name": "stdout",
     "output_type": "stream",
     "text": [
      "Epoch 184 test metrics: {'hamming_loss': 0.09058772282535853}\n"
     ]
    },
    {
     "name": "stderr",
     "output_type": "stream",
     "text": [
      "/Users/shawn/Documents/UMSI/SI630 NLP Algorithm People/Project/notebook/../src/utils.py:29: RuntimeWarning: invalid value encountered in divide\n",
      "  y_pred_normalized = y_prob / np.max(y_prob, axis=1, keepdims=True)\n"
     ]
    },
    {
     "name": "stdout",
     "output_type": "stream",
     "text": [
      "Epoch 185 test metrics: {'hamming_loss': 0.09078876826162713}\n"
     ]
    },
    {
     "name": "stderr",
     "output_type": "stream",
     "text": [
      "/Users/shawn/Documents/UMSI/SI630 NLP Algorithm People/Project/notebook/../src/utils.py:29: RuntimeWarning: invalid value encountered in divide\n",
      "  y_pred_normalized = y_prob / np.max(y_prob, axis=1, keepdims=True)\n"
     ]
    },
    {
     "name": "stdout",
     "output_type": "stream",
     "text": [
      "Epoch 186 test metrics: {'hamming_loss': 0.09077201447527142}\n"
     ]
    },
    {
     "name": "stderr",
     "output_type": "stream",
     "text": [
      "/Users/shawn/Documents/UMSI/SI630 NLP Algorithm People/Project/notebook/../src/utils.py:29: RuntimeWarning: invalid value encountered in divide\n",
      "  y_pred_normalized = y_prob / np.max(y_prob, axis=1, keepdims=True)\n"
     ]
    },
    {
     "name": "stdout",
     "output_type": "stream",
     "text": [
      "Epoch 187 test metrics: {'hamming_loss': 0.09083902962069428}\n"
     ]
    },
    {
     "name": "stderr",
     "output_type": "stream",
     "text": [
      "/Users/shawn/Documents/UMSI/SI630 NLP Algorithm People/Project/notebook/../src/utils.py:29: RuntimeWarning: invalid value encountered in divide\n",
      "  y_pred_normalized = y_prob / np.max(y_prob, axis=1, keepdims=True)\n"
     ]
    },
    {
     "name": "stdout",
     "output_type": "stream",
     "text": [
      "Epoch 188 test metrics: {'hamming_loss': 0.09083902962069428}\n"
     ]
    },
    {
     "name": "stderr",
     "output_type": "stream",
     "text": [
      "/Users/shawn/Documents/UMSI/SI630 NLP Algorithm People/Project/notebook/../src/utils.py:29: RuntimeWarning: invalid value encountered in divide\n",
      "  y_pred_normalized = y_prob / np.max(y_prob, axis=1, keepdims=True)\n"
     ]
    },
    {
     "name": "stdout",
     "output_type": "stream",
     "text": [
      "Epoch 189 test metrics: {'hamming_loss': 0.09092279855247286}\n"
     ]
    },
    {
     "name": "stderr",
     "output_type": "stream",
     "text": [
      "/Users/shawn/Documents/UMSI/SI630 NLP Algorithm People/Project/notebook/../src/utils.py:29: RuntimeWarning: invalid value encountered in divide\n",
      "  y_pred_normalized = y_prob / np.max(y_prob, axis=1, keepdims=True)\n"
     ]
    },
    {
     "name": "stdout",
     "output_type": "stream",
     "text": [
      "Epoch 190 test metrics: {'hamming_loss': 0.09080552204798284}\n"
     ]
    },
    {
     "name": "stderr",
     "output_type": "stream",
     "text": [
      "/Users/shawn/Documents/UMSI/SI630 NLP Algorithm People/Project/notebook/../src/utils.py:29: RuntimeWarning: invalid value encountered in divide\n",
      "  y_pred_normalized = y_prob / np.max(y_prob, axis=1, keepdims=True)\n"
     ]
    },
    {
     "name": "stdout",
     "output_type": "stream",
     "text": [
      "Epoch 191 test metrics: {'hamming_loss': 0.09107358262967431}\n"
     ]
    },
    {
     "name": "stderr",
     "output_type": "stream",
     "text": [
      "/Users/shawn/Documents/UMSI/SI630 NLP Algorithm People/Project/notebook/../src/utils.py:29: RuntimeWarning: invalid value encountered in divide\n",
      "  y_pred_normalized = y_prob / np.max(y_prob, axis=1, keepdims=True)\n"
     ]
    },
    {
     "name": "stdout",
     "output_type": "stream",
     "text": [
      "Epoch 192 test metrics: {'hamming_loss': 0.0909563061251843}\n"
     ]
    },
    {
     "name": "stderr",
     "output_type": "stream",
     "text": [
      "/Users/shawn/Documents/UMSI/SI630 NLP Algorithm People/Project/notebook/../src/utils.py:29: RuntimeWarning: invalid value encountered in divide\n",
      "  y_pred_normalized = y_prob / np.max(y_prob, axis=1, keepdims=True)\n"
     ]
    },
    {
     "name": "stdout",
     "output_type": "stream",
     "text": [
      "Epoch 193 test metrics: {'hamming_loss': 0.09124112049323146}\n"
     ]
    },
    {
     "name": "stderr",
     "output_type": "stream",
     "text": [
      "/Users/shawn/Documents/UMSI/SI630 NLP Algorithm People/Project/notebook/../src/utils.py:29: RuntimeWarning: invalid value encountered in divide\n",
      "  y_pred_normalized = y_prob / np.max(y_prob, axis=1, keepdims=True)\n"
     ]
    },
    {
     "name": "stdout",
     "output_type": "stream",
     "text": [
      "Epoch 194 test metrics: {'hamming_loss': 0.09115735156145288}\n"
     ]
    },
    {
     "name": "stderr",
     "output_type": "stream",
     "text": [
      "/Users/shawn/Documents/UMSI/SI630 NLP Algorithm People/Project/notebook/../src/utils.py:29: RuntimeWarning: invalid value encountered in divide\n",
      "  y_pred_normalized = y_prob / np.max(y_prob, axis=1, keepdims=True)\n"
     ]
    },
    {
     "name": "stdout",
     "output_type": "stream",
     "text": [
      "Epoch 195 test metrics: {'hamming_loss': 0.09132488942501005}\n"
     ]
    },
    {
     "name": "stderr",
     "output_type": "stream",
     "text": [
      "/Users/shawn/Documents/UMSI/SI630 NLP Algorithm People/Project/notebook/../src/utils.py:29: RuntimeWarning: invalid value encountered in divide\n",
      "  y_pred_normalized = y_prob / np.max(y_prob, axis=1, keepdims=True)\n"
     ]
    },
    {
     "name": "stdout",
     "output_type": "stream",
     "text": [
      "Epoch 196 test metrics: {'hamming_loss': 0.09132488942501005}\n"
     ]
    },
    {
     "name": "stderr",
     "output_type": "stream",
     "text": [
      "/Users/shawn/Documents/UMSI/SI630 NLP Algorithm People/Project/notebook/../src/utils.py:29: RuntimeWarning: invalid value encountered in divide\n",
      "  y_pred_normalized = y_prob / np.max(y_prob, axis=1, keepdims=True)\n"
     ]
    },
    {
     "name": "stdout",
     "output_type": "stream",
     "text": [
      "Epoch 197 test metrics: {'hamming_loss': 0.09132488942501005}\n"
     ]
    },
    {
     "name": "stderr",
     "output_type": "stream",
     "text": [
      "/Users/shawn/Documents/UMSI/SI630 NLP Algorithm People/Project/notebook/../src/utils.py:29: RuntimeWarning: invalid value encountered in divide\n",
      "  y_pred_normalized = y_prob / np.max(y_prob, axis=1, keepdims=True)\n"
     ]
    },
    {
     "name": "stdout",
     "output_type": "stream",
     "text": [
      "Epoch 198 test metrics: {'hamming_loss': 0.09149242728856721}\n",
      "Epoch 199 test metrics: {'hamming_loss': 0.09162645757941294}\n"
     ]
    },
    {
     "name": "stderr",
     "output_type": "stream",
     "text": [
      "/Users/shawn/Documents/UMSI/SI630 NLP Algorithm People/Project/notebook/../src/utils.py:29: RuntimeWarning: invalid value encountered in divide\n",
      "  y_pred_normalized = y_prob / np.max(y_prob, axis=1, keepdims=True)\n"
     ]
    }
   ],
   "source": [
    "\n",
    "for epoch in tqdm(range(epochs)):\n",
    "\n",
    "    loss_sum = 0\n",
    "    \n",
    "    # TODO: use your DataLoader to iterate over the data\n",
    "    for step, data in enumerate(train_dataloader):\n",
    "\n",
    "        # NOTE: since you created the data np.array instances,\n",
    "        # these have now been converted to Tensor objects for us\n",
    "        word_ids, label = data    \n",
    "        \n",
    "        # TODO: Fill in all the training details here\n",
    "        try:\n",
    "            outputs = model(word_ids.squeeze(0))\n",
    "        except:\n",
    "            continue\n",
    "        \n",
    "        optimizer.zero_grad()\n",
    "        loss = loss_function(outputs, label[0])\n",
    "        loss_sum += loss.item()\n",
    "\n",
    "        loss.backward()\n",
    "        optimizer.step()\n",
    "\n",
    "        # print(f'epochs: {epoch}, step: {step}, loss: {loss.item()}')\n",
    "        \n",
    "        if step > max_steps:\n",
    "            print('Max steps reached')\n",
    "            break\n",
    "\n",
    "    # Evaluate the model after each epoch\n",
    "    if epoch % 1 == 0:\n",
    "        test_metrics = run_eval(model, dev_list)\n",
    "        print(f'Epoch {epoch} test metrics: {test_metrics}')\n",
    "        wandb.log(test_metrics)\n",
    "        \n",
    "        \n",
    "# # once you finish training, it's good practice to switch to eval.\n",
    "# model.eval()"
   ]
  },
  {
   "cell_type": "code",
   "execution_count": null,
   "metadata": {},
   "outputs": [],
   "source": []
  },
  {
   "cell_type": "code",
   "execution_count": null,
   "metadata": {},
   "outputs": [],
   "source": []
  },
  {
   "cell_type": "code",
   "execution_count": null,
   "metadata": {},
   "outputs": [],
   "source": []
  }
 ],
 "metadata": {
  "kernelspec": {
   "display_name": "pytorch",
   "language": "python",
   "name": "python3"
  },
  "language_info": {
   "codemirror_mode": {
    "name": "ipython",
    "version": 3
   },
   "file_extension": ".py",
   "mimetype": "text/x-python",
   "name": "python",
   "nbconvert_exporter": "python",
   "pygments_lexer": "ipython3",
   "version": "3.11.5"
  }
 },
 "nbformat": 4,
 "nbformat_minor": 2
}
